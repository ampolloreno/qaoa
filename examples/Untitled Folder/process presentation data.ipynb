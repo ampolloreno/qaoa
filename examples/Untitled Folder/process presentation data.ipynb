{
 "cells": [
  {
   "cell_type": "code",
   "execution_count": 55,
   "metadata": {},
   "outputs": [
    {
     "name": "stdout",
     "output_type": "stream",
     "text": [
      "\u001b[0m\u001b[01;34m4_graphs\u001b[0m/\r\n"
     ]
    }
   ],
   "source": [
    "ls ../../3_regular"
   ]
  },
  {
   "cell_type": "code",
   "execution_count": 56,
   "metadata": {},
   "outputs": [],
   "source": [
    "import os\n",
    "from classical_optimization.terra.utils import read_graph\n",
    "path = '../../3_regular'\n",
    "all_data = {}\n",
    "qubit_numbers = []\n",
    "for folder in os.listdir(path):\n",
    "    num_qubits = int(folder.split('_')[0])\n",
    "    qubit_numbers.append(num_qubits)\n",
    "    for graph_file in os.listdir(os.path.join(path, folder)):\n",
    "        graph_data = read_graph(os.path.join(path, folder, graph_file))\n",
    "        extant_data = all_data.get(num_qubits, [])\n",
    "        extant_data.append(graph_data)\n",
    "        # Probably don't need this, since it's the same list...\n",
    "        all_data[num_qubits] = extant_data"
   ]
  },
  {
   "cell_type": "code",
   "execution_count": 57,
   "metadata": {},
   "outputs": [
    {
     "data": {
      "text/plain": [
       "{'graph': <networkx.classes.graph.Graph at 0x7f0a6ddae070>,\n",
       " 'landscape_d40_b0.7853981633974483_g3.141592653589793_b-0.7853981633974483_g-3.141592653589793': array([[ 5.55111512e-17,  2.93525152e-01,  1.05922459e+00, ...,\n",
       "          1.05922459e+00,  2.93525152e-01,  5.55111512e-17],\n",
       "        [-2.56739074e-16,  1.42996671e-01,  7.80765519e-01, ...,\n",
       "          1.32396698e+00,  4.40252560e-01,  1.90819582e-16],\n",
       "        [-3.74700271e-16, -7.43427588e-03,  4.95801714e-01, ...,\n",
       "          1.56813600e+00,  5.79378731e-01,  5.48172618e-16],\n",
       "        ...,\n",
       "        [ 4.09394740e-16,  5.79378731e-01,  1.56813600e+00, ...,\n",
       "          4.95801714e-01, -7.43427588e-03, -3.95516953e-16],\n",
       "        [ 1.90819582e-16,  4.40252560e-01,  1.32396698e+00, ...,\n",
       "          7.80765519e-01,  1.42996671e-01, -2.56739074e-16],\n",
       "        [ 5.55111512e-17,  2.93525152e-01,  1.05922459e+00, ...,\n",
       "          1.05922459e+00,  2.93525152e-01,  5.55111512e-17]]),\n",
       " 'landscape_d40_b0.7853981633974483_g3.141592653589793_b-0.7853981633974483_g-3.141592653589793_time': 0.1371309757232666,\n",
       " 'annealing_result': (array([ 0.36904124, -0.19824837]),\n",
       "  3.44,\n",
       "  [(array([0., 0.]), 2.93),\n",
       "   (array([-0.30405837,  0.19594163]), 2.71),\n",
       "   (array([ 0.11746947, -0.06310442]), 3.55),\n",
       "   (array([-0.82474868, -0.06310442]), 3.37),\n",
       "   (array([0.11746947, 0.0421764 ]), 2.47)]),\n",
       " 'es_result': (array([-0.30612954,  0.2720589 ]),\n",
       "  3.809915026311666,\n",
       "  [(array([-0.07737176,  0.08483792]),\n",
       "    3.6199340806871376,\n",
       "    3.6199340806871376,\n",
       "    0.024975),\n",
       "   (array([-0.08682371,  0.10219858]),\n",
       "    3.77991008546684,\n",
       "    3.77991008546684,\n",
       "    0.024950025),\n",
       "   (array([-0.07523167,  0.08095199]),\n",
       "    3.819938934853036,\n",
       "    3.819938934853036,\n",
       "    0.024925074975),\n",
       "   (array([-0.10023281,  0.07078675]),\n",
       "    3.789924713095484,\n",
       "    3.789924713095484,\n",
       "    0.024900149900025),\n",
       "   (array([-0.11283559,  0.07947509]),\n",
       "    3.799904759190739,\n",
       "    3.799904759190739,\n",
       "    0.024875249750124975),\n",
       "   (array([-0.09373077,  0.0822024 ]),\n",
       "    3.839922286534859,\n",
       "    3.839922286534859,\n",
       "    0.02485037450037485),\n",
       "   (array([-0.06673313,  0.10103357]),\n",
       "    3.8099266945363075,\n",
       "    3.8099266945363075,\n",
       "    0.024825524125874476),\n",
       "   (array([-0.07851153,  0.09806796]),\n",
       "    3.769921093067288,\n",
       "    3.769921093067288,\n",
       "    0.024800698601748602),\n",
       "   (array([-0.05945187,  0.09386778]),\n",
       "    3.7699382715757164,\n",
       "    3.7699382715757164,\n",
       "    0.024775897903146854),\n",
       "   (array([-0.06580756,  0.10408785]),\n",
       "    3.7999241754167015,\n",
       "    3.7999241754167015,\n",
       "    0.02475112200524371),\n",
       "   (array([-0.09826809,  0.10286977]),\n",
       "    3.8498988059608683,\n",
       "    3.8498988059608683,\n",
       "    0.024726370883238466),\n",
       "   (array([-0.09937699,  0.08555717]),\n",
       "    3.8199140209150753,\n",
       "    3.8199140209150753,\n",
       "    0.024701644512355226),\n",
       "   (array([-0.08210968,  0.08335231]),\n",
       "    3.8299315519695223,\n",
       "    3.8299315519695223,\n",
       "    0.02467694286784287),\n",
       "   (array([-0.07405856,  0.11075555]),\n",
       "    3.789911242687122,\n",
       "    3.789911242687122,\n",
       "    0.024652265924975027),\n",
       "   (array([-0.09030113,  0.09538461]),\n",
       "    3.78991373740762,\n",
       "    3.78991373740762,\n",
       "    0.02462761365905005),\n",
       "   (array([-0.09254308,  0.08333161]),\n",
       "    3.7899224581079953,\n",
       "    3.7899224581079953,\n",
       "    0.024602986045391),\n",
       "   (array([-0.11481579,  0.07240216]),\n",
       "    3.7999078763010687,\n",
       "    3.7999078763010687,\n",
       "    0.02457838305934561),\n",
       "   (array([-0.06591654,  0.08857703]),\n",
       "    3.7499390455948167,\n",
       "    3.7499390455948167,\n",
       "    0.024553804676286265),\n",
       "   (array([-0.10947344,  0.07970126]),\n",
       "    3.7899083163826033,\n",
       "    3.7899083163826033,\n",
       "    0.024529250871609978),\n",
       "   (array([-0.07768739,  0.07650258]),\n",
       "    3.799940560121075,\n",
       "    3.799940560121075,\n",
       "    0.024504721620738367),\n",
       "   (array([-0.08505867,  0.07762207]),\n",
       "    3.799933699181868,\n",
       "    3.799933699181868,\n",
       "    0.02448021689911763),\n",
       "   (array([-0.09503288,  0.078755  ]),\n",
       "    3.8699238320096296,\n",
       "    3.8699238320096296,\n",
       "    0.024455736682218513),\n",
       "   (array([-0.07375857,  0.08505772]),\n",
       "    3.7799366242860026,\n",
       "    3.7799366242860026,\n",
       "    0.024431280945536295),\n",
       "   (array([-0.08757002,  0.10106768]),\n",
       "    3.819910584085481,\n",
       "    3.819910584085481,\n",
       "    0.02440684966459076),\n",
       "   (array([-0.09199808,  0.07817279]),\n",
       "    3.799927126834883,\n",
       "    3.799927126834883,\n",
       "    0.02438244281492617),\n",
       "   (array([-0.1127922 ,  0.08731933]),\n",
       "    3.82989826626904,\n",
       "    3.82989826626904,\n",
       "    0.024358060372111242),\n",
       "   (array([-0.09791492,  0.08872049]),\n",
       "    3.8299127067169048,\n",
       "    3.8299127067169048,\n",
       "    0.02433370231173913),\n",
       "   (array([-0.10095271,  0.09857024]),\n",
       "    3.8399004622937594,\n",
       "    3.8399004622937594,\n",
       "    0.024309368609427392),\n",
       "   (array([-0.0938773 ,  0.10452098]),\n",
       "    3.759901312086943,\n",
       "    3.759901312086943,\n",
       "    0.024285059240817964),\n",
       "   (array([-0.11561212,  0.07244523]),\n",
       "    3.7999069276310875,\n",
       "    3.7999069276310875,\n",
       "    0.024260774181577145),\n",
       "   (array([-0.07472734,  0.0933751 ]),\n",
       "    3.8299284845740624,\n",
       "    3.8299284845740624,\n",
       "    0.024236513407395566),\n",
       "   (array([-0.07481384,  0.09055051]),\n",
       "    3.7999310174735923,\n",
       "    3.7999310174735923,\n",
       "    0.02421227689398817),\n",
       "   (array([-0.08265624,  0.08795026]),\n",
       "    3.789927163488814,\n",
       "    3.789927163488814,\n",
       "    0.02418806461709418),\n",
       "   (array([-0.0833153 ,  0.11609063]),\n",
       "    3.839897907624684,\n",
       "    3.839897907624684,\n",
       "    0.024163876552477086),\n",
       "   (array([-0.08523503,  0.08626062]),\n",
       "    3.809926470481258,\n",
       "    3.809926470481258,\n",
       "    0.02413971267592461),\n",
       "   (array([-0.07459022,  0.09859145]),\n",
       "    3.7899235801261266,\n",
       "    3.7899235801261266,\n",
       "    0.024115572963248684),\n",
       "   (array([-0.0854767 ,  0.09197213]),\n",
       "    3.799921174311856,\n",
       "    3.799921174311856,\n",
       "    0.024091457390285436),\n",
       "   (array([-0.09046091,  0.07589007]),\n",
       "    3.7999302876040115,\n",
       "    3.7999302876040115,\n",
       "    0.02406736593289515),\n",
       "   (array([-0.06784483,  0.09147317]),\n",
       "    3.809935148688285,\n",
       "    3.809935148688285,\n",
       "    0.024043298566962256),\n",
       "   (array([-0.08411523,  0.10983922]),\n",
       "    3.7799042998687358,\n",
       "    3.7799042998687358,\n",
       "    0.024019255268395295),\n",
       "   (array([-0.07697627,  0.11015988]),\n",
       "    3.839909697281048,\n",
       "    3.839909697281048,\n",
       "    0.0239952360131269),\n",
       "   (array([-0.07094548,  0.0919846 ]),\n",
       "    3.829932527862681,\n",
       "    3.829932527862681,\n",
       "    0.02397124077711377),\n",
       "   (array([-0.09558228,  0.10289012]),\n",
       "    3.789901388259324,\n",
       "    3.789901388259324,\n",
       "    0.023947269536336656),\n",
       "   (array([-0.07313699,  0.09492578]),\n",
       "    3.8099282003838026,\n",
       "    3.8099282003838026,\n",
       "    0.02392332226680032),\n",
       "   (array([-0.08558572,  0.07326529]),\n",
       "    3.7799365364048394,\n",
       "    3.7799365364048394,\n",
       "    0.02389939894453352),\n",
       "   (array([-0.08473965,  0.10453396]),\n",
       "    3.8599094592180943,\n",
       "    3.8599094592180943,\n",
       "    0.023875499545588985),\n",
       "   (array([-0.06464943,  0.08259805]),\n",
       "    3.76994499006572,\n",
       "    3.76994499006572,\n",
       "    0.023851624046043397),\n",
       "   (array([-0.10291467,  0.10224167]),\n",
       "    3.789894776057511,\n",
       "    3.789894776057511,\n",
       "    0.023827772421997354),\n",
       "   (array([-0.09570319,  0.09012198]),\n",
       "    3.8099135946366465,\n",
       "    3.8099135946366465,\n",
       "    0.023803944649575356),\n",
       "   (array([-0.09744406,  0.08659904]),\n",
       "    3.809915026311666,\n",
       "    3.809915026311666,\n",
       "    0.02378014070492578)]),\n",
       " 'maxarg_result': (515, 4.1517924981204795)}"
      ]
     },
     "execution_count": 57,
     "metadata": {},
     "output_type": "execute_result"
    }
   ],
   "source": [
    "graph_data"
   ]
  },
  {
   "cell_type": "code",
   "execution_count": 58,
   "metadata": {},
   "outputs": [],
   "source": [
    "qubit_numbers = [4]"
   ]
  },
  {
   "cell_type": "code",
   "execution_count": 59,
   "metadata": {},
   "outputs": [
    {
     "data": {
      "image/png": "[encoded data removed]",
      "text/plain": [
       "<Figure size 432x288 with 1 Axes>"
      ]
     },
     "metadata": {
      "needs_background": "light"
     },
     "output_type": "display_data"
    }
   ],
   "source": [
    "import matplotlib.pyplot as plt\n",
    "import numpy as np\n",
    "for num_qubits in qubit_numbers:\n",
    "    anneal_ratios = []\n",
    "    es_ratios = []\n",
    "    for graph_data in all_data[num_qubits]:\n",
    "        if graph_data.get('annealing_result') is not None:\n",
    "            annealing_approx_ratio = graph_data.get('annealing_result')[1]/graph_data.get('maxarg_result')[1]\n",
    "            es_approx_ratio = graph_data.get('es_result')[1]/graph_data.get('maxarg_result')[1]\n",
    "            anneal_ratios.append(annealing_approx_ratio)\n",
    "            es_ratios.append(es_approx_ratio)\n",
    "    if len(anneal_ratios) > 0:\n",
    "        plt.hist(anneal_ratios, label='anneal')\n",
    "        plt.hist(es_ratios, label='es')\n",
    "        plt.xlabel('Approximation Ratio')\n",
    "        plt.ylabel('Number of Graphs')\n",
    "        plt.legend()\n",
    "    plt.show()"
   ]
  },
  {
   "cell_type": "code",
   "execution_count": 60,
   "metadata": {},
   "outputs": [
    {
     "data": {
      "text/plain": [
       "(array([ 0.36904124, -0.19824837]),\n",
       " 3.44,\n",
       " [(array([0., 0.]), 2.93),\n",
       "  (array([-0.30405837,  0.19594163]), 2.71),\n",
       "  (array([ 0.11746947, -0.06310442]), 3.55),\n",
       "  (array([-0.82474868, -0.06310442]), 3.37),\n",
       "  (array([0.11746947, 0.0421764 ]), 2.47)])"
      ]
     },
     "execution_count": 60,
     "metadata": {},
     "output_type": "execute_result"
    }
   ],
   "source": [
    "graph_data['annealing_result']"
   ]
  },
  {
   "cell_type": "code",
   "execution_count": 69,
   "metadata": {},
   "outputs": [
    {
     "data": {
      "text/plain": [
       "3"
      ]
     },
     "execution_count": 69,
     "metadata": {},
     "output_type": "execute_result"
    }
   ],
   "source": [
    "len(graph_data['es_result'])"
   ]
  },
  {
   "cell_type": "code",
   "execution_count": 62,
   "metadata": {},
   "outputs": [
    {
     "data": {
      "text/plain": [
       "array([[-0.24307057,  0.26652618],\n",
       "       [-0.27276473,  0.32106631],\n",
       "       [-0.23634726,  0.25431819],\n",
       "       [-0.31489067,  0.22238314],\n",
       "       [-0.35448347,  0.24967837],\n",
       "       [-0.29446391,  0.25824647],\n",
       "       [-0.20964831,  0.31740632],\n",
       "       [-0.24665126,  0.30808959],\n",
       "       [-0.18677354,  0.29489434],\n",
       "       [-0.20674055,  0.32700164],\n",
       "       [-0.30871832,  0.32317491],\n",
       "       [-0.31220204,  0.26878579],\n",
       "       [-0.25795515,  0.261859  ],\n",
       "       [-0.23266182,  0.34794884],\n",
       "       [-0.28368936,  0.2996596 ],\n",
       "       [-0.29073266,  0.26179397],\n",
       "       [-0.36070445,  0.22745811],\n",
       "       [-0.20708293,  0.27827295],\n",
       "       [-0.34392094,  0.25038888],\n",
       "       [-0.24406214,  0.24033994],\n",
       "       [-0.26721969,  0.24385694],\n",
       "       [-0.29855459,  0.24741613],\n",
       "       [-0.23171938,  0.26721671],\n",
       "       [-0.27510932,  0.31751347],\n",
       "       [-0.2890205 ,  0.24558707],\n",
       "       [-0.35434716,  0.27432176],\n",
       "       [-0.30760879,  0.27872364],\n",
       "       [-0.31715228,  0.30966754],\n",
       "       [-0.29492423,  0.32836235],\n",
       "       [-0.36320619,  0.22759341],\n",
       "       [-0.23476286,  0.29334654],\n",
       "       [-0.23503461,  0.28447282],\n",
       "       [-0.25967222,  0.2763039 ],\n",
       "       [-0.26174274,  0.36470948],\n",
       "       [-0.26777373,  0.27099572],\n",
       "       [-0.23433207,  0.30973418],\n",
       "       [-0.26853296,  0.28893895],\n",
       "       [-0.28419133,  0.23841569],\n",
       "       [-0.21314083,  0.28737144],\n",
       "       [-0.26425578,  0.3450701 ],\n",
       "       [-0.24182807,  0.34607746],\n",
       "       [-0.22288179,  0.28897815],\n",
       "       [-0.30028058,  0.32323884],\n",
       "       [-0.22976663,  0.29821813],\n",
       "       [-0.26887547,  0.23016971],\n",
       "       [-0.26621746,  0.32840311],\n",
       "       [-0.20310216,  0.25948944],\n",
       "       [-0.32331596,  0.32120169],\n",
       "       [-0.30066044,  0.28312656],\n",
       "       [-0.30612954,  0.2720589 ]])"
      ]
     },
     "execution_count": 62,
     "metadata": {},
     "output_type": "execute_result"
    }
   ],
   "source": [
    "np.array([result[0] for result in graph_data['es_result'][-1]]) * np.pi"
   ]
  },
  {
   "cell_type": "code",
   "execution_count": 63,
   "metadata": {},
   "outputs": [
    {
     "data": {
      "text/plain": [
       "(515, 4.1517924981204795)"
      ]
     },
     "execution_count": 63,
     "metadata": {},
     "output_type": "execute_result"
    }
   ],
   "source": [
    "graph_data['maxarg_result']"
   ]
  },
  {
   "cell_type": "markdown",
   "metadata": {},
   "source": [
    "# Time to figure out how to plot landscapes..."
   ]
  },
  {
   "cell_type": "code",
   "execution_count": 64,
   "metadata": {},
   "outputs": [],
   "source": [
    "def plot_landscape(landscape, max_gamma, max_beta, min_gamma, min_beta, scatterpoints=None):\n",
    "    ax = plt.imshow(landscape)\n",
    "    if scatterpoints is None:\n",
    "        scatterpoints = []\n",
    "    for scatterpoint in scatterpoints:\n",
    "        plt.scatter(scatterpoint[0][1], scatterpoint[0][0], c=scatterpoint[1], s=100, marker='*')\n",
    "    ax.figure.canvas.draw()\n",
    "\n",
    "    subplot = ax.figure.get_axes()[0]\n",
    "\n",
    "    ticks = subplot.get_xticklabels()\n",
    "    scale = 1/max([float(tick.get_text().replace('−', '-')) for tick in ticks if tick.get_text() != ''])\n",
    "    scale *= max_gamma - min_gamma\n",
    "    for tick in ticks:\n",
    "        if tick.get_text() != '':\n",
    "            tick.set_text(round(scale * float(tick.get_text().replace('−', '-')) - max_gamma, 2))\n",
    "        subplot.set_xticklabels(ticks)\n",
    "\n",
    "    ticks = subplot.get_yticklabels()\n",
    "    scale = 1 / max([float(tick.get_text().replace('−', '-')) for tick in ticks if tick.get_text() != ''])\n",
    "    scale *= max_beta - min_beta\n",
    "    for tick in ticks:\n",
    "        if tick.get_text() != '':\n",
    "            tick.set_text(-1 * round(scale * float(tick.get_text().replace('−', '-')) - max_beta, 2))\n",
    "        subplot.set_yticklabels(ticks)\n",
    "\n",
    "    plt.ylabel(r\"$\\beta$\")\n",
    "    plt.xlabel(r\"$\\gamma$\")"
   ]
  },
  {
   "cell_type": "code",
   "execution_count": 65,
   "metadata": {},
   "outputs": [
    {
     "data": {
      "text/plain": [
       "array([-0.30612954,  0.2720589 ])"
      ]
     },
     "execution_count": 65,
     "metadata": {},
     "output_type": "execute_result"
    }
   ],
   "source": [
    "graph_data.get('es_result')[0]"
   ]
  },
  {
   "cell_type": "code",
   "execution_count": 66,
   "metadata": {
    "scrolled": false
   },
   "outputs": [
    {
     "name": "stdout",
     "output_type": "stream",
     "text": [
      "NUMQUBITS: 4\n",
      "-0.3061295360070972 0.27205889960788243\n"
     ]
    },
    {
     "name": "stderr",
     "output_type": "stream",
     "text": [
      "<ipython-input-64-975018fa7025>:17: UserWarning: FixedFormatter should only be used together with FixedLocator\n",
      "  subplot.set_xticklabels(ticks)\n",
      "<ipython-input-64-975018fa7025>:25: UserWarning: FixedFormatter should only be used together with FixedLocator\n",
      "  subplot.set_yticklabels(ticks)\n"
     ]
    },
    {
     "data": {
      "image/png": "[encoded data removed]",
      "text/plain": [
       "<Figure size 432x288 with 1 Axes>"
      ]
     },
     "metadata": {
      "needs_background": "light"
     },
     "output_type": "display_data"
    }
   ],
   "source": [
    "import matplotlib.pyplot as plt\n",
    "import numpy as np\n",
    "%matplotlib inline\n",
    "for num_qubits in qubit_numbers:\n",
    "    print(f\"NUMQUBITS: {num_qubits}\")\n",
    "    for graph_data in all_data[num_qubits]:\n",
    "        landscape = None\n",
    "        for k in graph_data.keys():\n",
    "            if 'landscape' in k and 'time' not in k:\n",
    "                _, disc, max_beta, max_gamma, min_beta, min_gamma = k.split('_')\n",
    "                disc = int(disc[1:])\n",
    "                max_beta = float(max_beta[1:])\n",
    "                min_beta = float(min_beta[1:])\n",
    "                max_gamma = float(max_gamma[1:])\n",
    "                min_gamma = float(min_gamma[1:])\n",
    "                landscape = graph_data[k]\n",
    "        if landscape is not None:\n",
    "            ind = np.argmax(landscape)\n",
    "            ind = np.unravel_index(ind,landscape.shape)\n",
    "            scatterpoints = [(ind, 'w')]\n",
    "            skip = False\n",
    "            for result, color in [('annealing_result', 'y'), ('es_result', 'r')]:\n",
    "                if graph_data.get(result) is not None:\n",
    "                    gamma, beta = graph_data.get(result)[0]\n",
    "                    y, x = ((beta - min_beta) % (max_beta-min_beta)) * (disc - 1) / (max_beta-min_beta), ((gamma - min_gamma) % (max_gamma - min_gamma)) * (2*disc-1)/(max_gamma-min_gamma)\n",
    "                    scatterpoints.append(((disc - y, x), color))\n",
    "                else:\n",
    "                    skip = True\n",
    "            if skip:\n",
    "                continue\n",
    "            plot_landscape(landscape, max_gamma, max_beta, min_gamma, min_beta, scatterpoints)  \n",
    "            print(gamma, beta)\n",
    "            plt.show()"
   ]
  },
  {
   "cell_type": "code",
   "execution_count": 85,
   "metadata": {},
   "outputs": [
    {
     "data": {
      "text/plain": [
       "4.15179249812048"
      ]
     },
     "execution_count": 85,
     "metadata": {},
     "output_type": "execute_result"
    }
   ],
   "source": [
    "np.max(landscape)"
   ]
  },
  {
   "cell_type": "code",
   "execution_count": 83,
   "metadata": {},
   "outputs": [
    {
     "data": {
      "text/plain": [
       "{'weight': 1}"
      ]
     },
     "execution_count": 83,
     "metadata": {},
     "output_type": "execute_result"
    }
   ],
   "source": [
    "graph_data['graph'].get_edge_data(0,2)"
   ]
  },
  {
   "cell_type": "code",
   "execution_count": null,
   "metadata": {},
   "outputs": [],
   "source": []
  }
 ],
 "metadata": {
  "kernelspec": {
   "display_name": "Python 3",
   "language": "python",
   "name": "python3"
  },
  "language_info": {
   "codemirror_mode": {
    "name": "ipython",
    "version": 3
   },
   "file_extension": ".py",
   "mimetype": "text/x-python",
   "name": "python",
   "nbconvert_exporter": "python",
   "pygments_lexer": "ipython3",
   "version": "3.8.5"
  }
 },
 "nbformat": 4,
 "nbformat_minor": 4
}
