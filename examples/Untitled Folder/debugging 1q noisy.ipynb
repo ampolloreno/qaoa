{
 "cells": [
  {
   "cell_type": "code",
   "execution_count": 1,
   "metadata": {},
   "outputs": [],
   "source": [
    "%load_ext autoreload\n",
    "%autoreload 2"
   ]
  },
  {
   "cell_type": "code",
   "execution_count": 4,
   "metadata": {},
   "outputs": [],
   "source": [
    "from classical_optimization.qaoa_circuits import produce_gammas_betas\n",
    "import numpy as np"
   ]
  },
  {
   "cell_type": "code",
   "execution_count": 5,
   "metadata": {},
   "outputs": [
    {
     "data": {
      "text/plain": [
       "(array([0.        , 0.08055366, 0.16110732, 0.24166097, 0.32221463,\n",
       "        0.40276829, 0.48332195, 0.5638756 , 0.64442926, 0.72498292,\n",
       "        0.80553658, 0.88609024, 0.96664389, 1.04719755, 1.12775121,\n",
       "        1.20830487, 1.28885852, 1.36941218, 1.44996584, 1.5305195 ,\n",
       "        1.61107316, 1.69162681, 1.77218047, 1.85273413, 1.93328779,\n",
       "        2.01384144, 2.0943951 , 2.17494876, 2.25550242, 2.33605608,\n",
       "        2.41660973, 2.49716339, 2.57771705, 2.65827071, 2.73882436,\n",
       "        2.81937802, 2.89993168, 2.98048534, 3.061039  , 3.14159265]),\n",
       " array([0.        , 0.16534698, 0.33069396, 0.49604095, 0.66138793,\n",
       "        0.82673491, 0.99208189, 1.15742887, 1.32277585, 1.48812284,\n",
       "        1.65346982, 1.8188168 , 1.98416378, 2.14951076, 2.31485774,\n",
       "        2.48020473, 2.64555171, 2.81089869, 2.97624567, 3.14159265]))"
      ]
     },
     "execution_count": 5,
     "metadata": {},
     "output_type": "execute_result"
    }
   ],
   "source": [
    "produce_gammas_betas(20, np.pi, np.pi, 0, 0)"
   ]
  },
  {
   "cell_type": "code",
   "execution_count": null,
   "metadata": {},
   "outputs": [],
   "source": []
  }
 ],
 "metadata": {
  "kernelspec": {
   "display_name": "Python 3",
   "language": "python",
   "name": "python3"
  },
  "language_info": {
   "codemirror_mode": {
    "name": "ipython",
    "version": 3
   },
   "file_extension": ".py",
   "mimetype": "text/x-python",
   "name": "python",
   "nbconvert_exporter": "python",
   "pygments_lexer": "ipython3",
   "version": "3.8.5"
  }
 },
 "nbformat": 4,
 "nbformat_minor": 4
}
