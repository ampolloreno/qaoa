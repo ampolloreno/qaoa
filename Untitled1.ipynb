{
 "cells": [
  {
   "cell_type": "code",
   "execution_count": 12,
   "metadata": {},
   "outputs": [],
   "source": [
    "import networkx as nx"
   ]
  },
  {
   "cell_type": "code",
   "execution_count": 13,
   "metadata": {},
   "outputs": [],
   "source": [
    "import matplotlib.pyplot as plt\n",
    "seed = 137\n",
    "GRAPH = nx.random_regular_graph(3, 16, seed)"
   ]
  },
  {
   "cell_type": "code",
   "execution_count": 22,
   "metadata": {},
   "outputs": [
    {
     "data": {
      "text/plain": [
       "[(3, {15: {}, 7: {}, 10: {}}),\n",
       " (15, {3: {}, 1: {}, 7: {}}),\n",
       " (6, {9: {}, 14: {}, 10: {}}),\n",
       " (9, {6: {}, 2: {}, 13: {}}),\n",
       " (4, {8: {}, 12: {}, 14: {}}),\n",
       " (8, {4: {}, 10: {}, 0: {}}),\n",
       " (1, {15: {}, 11: {}, 14: {}}),\n",
       " (12, {4: {}, 13: {}, 0: {}}),\n",
       " (7, {3: {}, 15: {}, 5: {}}),\n",
       " (2, {5: {}, 9: {}, 13: {}}),\n",
       " (5, {2: {}, 11: {}, 7: {}}),\n",
       " (11, {1: {}, 0: {}, 5: {}}),\n",
       " (14, {6: {}, 1: {}, 4: {}}),\n",
       " (13, {12: {}, 2: {}, 9: {}}),\n",
       " (10, {3: {}, 6: {}, 8: {}}),\n",
       " (0, {11: {}, 12: {}, 8: {}})]"
      ]
     },
     "execution_count": 22,
     "metadata": {},
     "output_type": "execute_result"
    }
   ],
   "source": [
    "import numpy as np\n",
    "[(n, nbrdict) for n, nbrdict in GRAPH.adjacency()]"
   ]
  },
  {
   "cell_type": "code",
   "execution_count": 23,
   "metadata": {},
   "outputs": [
    {
     "data": {
      "text/plain": [
       "{3: {15: {}, 7: {}, 10: {}},\n",
       " 15: {3: {}, 1: {}, 7: {}},\n",
       " 6: {9: {}, 14: {}, 10: {}},\n",
       " 9: {6: {}, 2: {}, 13: {}},\n",
       " 4: {8: {}, 12: {}, 14: {}},\n",
       " 8: {4: {}, 10: {}, 0: {}},\n",
       " 1: {15: {}, 11: {}, 14: {}},\n",
       " 12: {4: {}, 13: {}, 0: {}},\n",
       " 7: {3: {}, 15: {}, 5: {}},\n",
       " 2: {5: {}, 9: {}, 13: {}},\n",
       " 5: {2: {}, 11: {}, 7: {}},\n",
       " 11: {1: {}, 0: {}, 5: {}},\n",
       " 14: {6: {}, 1: {}, 4: {}},\n",
       " 13: {12: {}, 2: {}, 9: {}},\n",
       " 10: {3: {}, 6: {}, 8: {}},\n",
       " 0: {11: {}, 12: {}, 8: {}}}"
      ]
     },
     "execution_count": 23,
     "metadata": {},
     "output_type": "execute_result"
    }
   ],
   "source": [
    "nx.to_dict_of_dicts(GRAPH)"
   ]
  },
  {
   "cell_type": "code",
   "execution_count": null,
   "metadata": {},
   "outputs": [],
   "source": []
  }
 ],
 "metadata": {
  "kernelspec": {
   "display_name": "Python 3",
   "language": "python",
   "name": "python3"
  },
  "language_info": {
   "codemirror_mode": {
    "name": "ipython",
    "version": 3
   },
   "file_extension": ".py",
   "mimetype": "text/x-python",
   "name": "python",
   "nbconvert_exporter": "python",
   "pygments_lexer": "ipython3",
   "version": "3.7.2"
  }
 },
 "nbformat": 4,
 "nbformat_minor": 4
}
