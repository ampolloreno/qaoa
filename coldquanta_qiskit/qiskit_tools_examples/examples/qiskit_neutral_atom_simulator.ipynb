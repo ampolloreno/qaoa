{
 "cells": [
  {
   "cell_type": "code",
   "execution_count": null,
   "metadata": {},
   "outputs": [],
   "source": [
    "from coldquanta.qiskit_tools.modeling.neutral_atom_noise_model import create_noise_model\n",
    "from coldquanta.qiskit_tools.coldquanta_sim_backend import ColdQuantaSimBackend\n",
    "\n",
    "from qiskit import QuantumCircuit, Aer, execute\n",
    "from qiskit.visualization import plot_histogram\n",
    "import math"
   ]
  },
  {
   "cell_type": "code",
   "execution_count": null,
   "metadata": {},
   "outputs": [],
   "source": [
    "# Instead of using the built in transpiler, explicitly define\n",
    "def na_h(c, q):\n",
    "    # H on q1\n",
    "    c.r(q=q, phi=math.pi / 2, theta=math.pi / 2)\n",
    "    c.r(q=q, phi=0.0, theta=math.pi)\n",
    "\n",
    "def na_cnot(c, q0, q1):\n",
    "    # H on q1\n",
    "    na_h(c, q1)\n",
    "    # CZ\n",
    "    c.cz(q0, q1)\n",
    "    # H on q1\n",
    "    na_h(c, q1)\n",
    "\n",
    "#create a circuit\n",
    "bell = QuantumCircuit(4)\n",
    "\n",
    "na_h(bell, 0)\n",
    "for i in range(3):\n",
    "    na_cnot(bell, i, i+1)\n",
    "\n",
    "bell.measure_all()"
   ]
  },
  {
   "cell_type": "code",
   "execution_count": null,
   "metadata": {},
   "outputs": [],
   "source": [
    "neutral_atom = ColdQuantaSimBackend(rows=2, cols=2)\n",
    "neutral_atom_config = neutral_atom.configuration()\n",
    "coupling_map = neutral_atom_config.coupling_map\n",
    "\n",
    "simulator = Aer.get_backend('qasm_simulator')\n",
    "\n",
    "result_noise_free = execute(bell,\n",
    "                       simulator,\n",
    "                       coupling_map=coupling_map,\n",
    "                       optimization_level=0).result()\n",
    "\n",
    "counts_noise_free = result_noise_free.get_counts()\n",
    "\n",
    "plot_histogram(counts_noise_free, title=\"Counts for 4-qubit GHZ state with no noise\")"
   ]
  },
  {
   "cell_type": "code",
   "execution_count": null,
   "metadata": {},
   "outputs": [],
   "source": [
    "# simulate with neutral atom noise model\n",
    "\n",
    "# use defaults\n",
    "noise_model = create_noise_model()\n",
    "\n",
    "\n",
    "result_noise = execute(bell,\n",
    "                       simulator,\n",
    "                       noise_model=noise_model,\n",
    "                       coupling_map=coupling_map,\n",
    "                       optimization_level=0,\n",
    "                       shots=1024).result()\n",
    "\n",
    "counts_noise = result_noise.get_counts()\n",
    "\n",
    "plot_histogram(counts_noise, title=\"Counts for 4-qubit GHZ state with noise\")\n"
   ]
  },
  {
   "cell_type": "code",
   "execution_count": null,
   "metadata": {},
   "outputs": [],
   "source": [
    "# Adjust noise characteristics\n",
    "\n",
    "# decrease cz fidelity from the 0.95 default to 0.7\n",
    "noise_model = create_noise_model(cz_fidelity=0.7)\n",
    "\n",
    "\n",
    "result_noise = execute(bell,\n",
    "                       simulator,\n",
    "                       noise_model=noise_model,\n",
    "                       coupling_map=coupling_map,\n",
    "                       optimization_level=0,\n",
    "                       shots=1024).result()\n",
    "\n",
    "counts_noise = result_noise.get_counts()\n",
    "\n",
    "# Note how noise states increase in count\n",
    "plot_histogram(counts_noise, title=\"Counts for 4-qubit GHZ state with noise\")\n",
    "\n"
   ]
  },
  {
   "cell_type": "code",
   "execution_count": null,
   "metadata": {},
   "outputs": [],
   "source": []
  }
 ],
 "metadata": {
  "kernelspec": {
   "display_name": "Python 3",
   "language": "python",
   "name": "python3"
  },
  "language_info": {
   "codemirror_mode": {
    "name": "ipython",
    "version": 3
   },
   "file_extension": ".py",
   "mimetype": "text/x-python",
   "name": "python",
   "nbconvert_exporter": "python",
   "pygments_lexer": "ipython3",
   "version": "3.7.3"
  }
 },
 "nbformat": 4,
 "nbformat_minor": 4
}
