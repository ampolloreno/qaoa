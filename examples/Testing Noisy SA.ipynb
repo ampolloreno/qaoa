{
 "cells": [
  {
   "cell_type": "code",
   "execution_count": 1,
   "metadata": {},
   "outputs": [],
   "source": [
    "%load_ext autoreload\n",
    "%autoreload 2"
   ]
  },
  {
   "cell_type": "code",
   "execution_count": 428,
   "metadata": {},
   "outputs": [],
   "source": [
    "from scipy.optimize import dual_annealing\n",
    "from classical_optimization.qaoa_circuits import execute_qaoa_circuit_and_estimate_cost\n",
    "import numpy as np\n",
    "from qiskit import Aer, execute\n",
    "from coldquanta.qiskit_tools.modeling.neutral_atom_noise_model import create_noise_model\n",
    "import networkx as nx\n",
    "\n",
    "np.random.seed(666)\n",
    "reprate = 50 \n",
    "one_hour = 60 * 60 #seconds\n",
    "max_gamma = 2 * np.pi\n",
    "max_beta = np.pi\n",
    "simulator = Aer.get_backend('qasm_simulator')\n",
    "noise_model = create_noise_model(cz_fidelity=1)\n",
    "\n",
    "shots_per_point = 50\n",
    "reg = 3\n",
    "n = 5\n",
    "seed = 666\n",
    "graph = nx.watts_strogatz_graph(n, reg, .5, seed=seed)\n",
    "terms = {(i, j): np.random.rand() for i, j in graph.edges}\n",
    "circ_ex = None\n",
    "\n",
    "def weights(graph):\n",
    "    rtn = {}\n",
    "    for e in graph.edges:\n",
    "        weight = graph.get_edge_data(e[0], e[1])['weight']\n",
    "        rtn[e] = weight\n",
    "    return rtn\n",
    "\n",
    "def objective(graph):\n",
    "    #Hack for backwards compatibility.\n",
    "    num_rows = len(graph.nodes)\n",
    "    num_cols = 1\n",
    "\n",
    "    history = []\n",
    "    def store_log(func):\n",
    "        def logged_func(x):\n",
    "            ret = func(x)\n",
    "            history.append((x, ret))\n",
    "            return ret\n",
    "        return logged_func\n",
    "\n",
    "    @store_log\n",
    "    def gamma_beta_objective(gamma_beta):\n",
    "        return np.sum(np.abs(gamma_beta)) + np.random.normal(scale=100)\n",
    "    return gamma_beta_objective, history\n",
    "\n"
   ]
  },
  {
   "cell_type": "code",
   "execution_count": 429,
   "metadata": {},
   "outputs": [
    {
     "name": "stdout",
     "output_type": "stream",
     "text": [
      "-31.41592653589793\n",
      "-24.434609527920614\n",
      "-17.453292519943297\n",
      "-10.471975511965976\n",
      "-3.4906585039886586\n",
      "3.490658503988662\n",
      "10.47197551196598\n",
      "17.453292519943297\n",
      "24.434609527920614\n",
      "31.41592653589793\n"
     ]
    }
   ],
   "source": [
    "import networkx as nx\n",
    "obj, hist = objective(graph)\n",
    "all_data = []\n",
    "bound = np.pi*10\n",
    "samples = 10\n",
    "for g in np.linspace(-bound, bound, num=samples):\n",
    "    data = []\n",
    "    print(g)\n",
    "    for b in np.linspace(-bound, bound, num=samples):\n",
    "        data.append(obj([b, g]))\n",
    "    all_data.append(data)"
   ]
  },
  {
   "cell_type": "code",
   "execution_count": 430,
   "metadata": {},
   "outputs": [
    {
     "data": {
      "text/plain": [
       "<matplotlib.colorbar.Colorbar at 0x7f6a0b8e8ee0>"
      ]
     },
     "execution_count": 430,
     "metadata": {},
     "output_type": "execute_result"
    },
    {
     "data": {
      "image/png": "[encoded data removed]",
      "text/plain": [
       "<Figure size 432x288 with 2 Axes>"
      ]
     },
     "metadata": {
      "needs_background": "light"
     },
     "output_type": "display_data"
    }
   ],
   "source": [
    "import matplotlib.pyplot as plt\n",
    "plt.imshow(np.array(all_data))\n",
    "plt.colorbar()"
   ]
  },
  {
   "cell_type": "code",
   "execution_count": 431,
   "metadata": {},
   "outputs": [],
   "source": [
    "from es import SimpleGA, CMAES, PEPG, OpenES\n",
    "NPARAMS = 2\n",
    "NPOPULATION = 10\n",
    "oes = OpenES(NPARAMS,                  # number of model parameters\n",
    "            sigma_init=0.025*np.pi*5,            # initial standard deviation\n",
    "            sigma_decay=1,         # don't anneal standard deviation\n",
    "            learning_rate=0.005,         # learning rate for standard deviation\n",
    "            learning_rate_decay = 0.0, # annealing the learning rate\n",
    "            popsize=NPOPULATION,       # population size\n",
    "            antithetic=False,          # whether to use antithetic sampling\n",
    "            weight_decay=0.00,         # weight decay coefficient\n",
    "            rank_fitness=False,        # use rank rather than fitness numbers\n",
    "            forget_best=True)"
   ]
  },
  {
   "cell_type": "code",
   "execution_count": 432,
   "metadata": {},
   "outputs": [],
   "source": [
    "from tqdm import tqdm\n",
    "MAX_ITERATION = 100\n",
    "fit_func1, history = objective(graph)\n",
    "fit_func = lambda x: fit_func1(x)\n",
    "# defines a function to use solver to solve fit_func\n",
    "def test_solver(solver):\n",
    "    history = []\n",
    "    for j in tqdm(range(MAX_ITERATION)):\n",
    "        solutions = solver.ask()\n",
    "        fitness_list = np.zeros(solver.popsize)\n",
    "        for i in range(solver.popsize):\n",
    "            fitness_list[i] = fit_func(solutions[i])\n",
    "        solver.tell(fitness_list)\n",
    "        result = solver.result() # first element is the best solution, second element is the best fitness\n",
    "        print(result)\n",
    "        history.append((result))\n",
    "        if (j+1) % 100 == 0:\n",
    "            print(\"fitness at iteration\", (j+1), result[1])\n",
    "    print(\"local optimum discovered by solver:\\n\", result[0])\n",
    "    print(\"fitness score at this local optimum:\", result[1])\n",
    "    return history, result"
   ]
  },
  {
   "cell_type": "code",
   "execution_count": 433,
   "metadata": {},
   "outputs": [
    {
     "data": {
      "text/plain": [
       "137.6510169823279"
      ]
     },
     "execution_count": 433,
     "metadata": {},
     "output_type": "execute_result"
    }
   ],
   "source": [
    "fit_func1, history = objective(graph)\n",
    "fit_func1((np.array([.25  , .5])))"
   ]
  },
  {
   "cell_type": "code",
   "execution_count": 434,
   "metadata": {
    "scrolled": true
   },
   "outputs": [
    {
     "name": "stderr",
     "output_type": "stream",
     "text": [
      "100%|██████████| 100/100 [00:00<00:00, 2317.74it/s]"
     ]
    },
    {
     "name": "stdout",
     "output_type": "stream",
     "text": [
      "(array([-0.55883229, -0.38982509]), 145.4953097300882, 145.4953097300882, 0.39269908169872414)\n",
      "(array([-0.28129507, -0.41448123]), 126.6833122354089, 126.6833122354089, 0.39269908169872414)\n",
      "(array([ 0.57971176, -0.13021802]), 89.35657089678358, 89.35657089678358, 0.39269908169872414)\n",
      "(array([-0.28874004,  0.63590702]), 165.98950710508862, 165.98950710508862, 0.39269908169872414)\n",
      "(array([ 0.93760597, -0.15050717]), 147.14590171586298, 147.14590171586298, 0.39269908169872414)\n",
      "(array([-0.56480534,  0.06384132]), 154.10103578357953, 154.10103578357953, 0.39269908169872414)\n",
      "(array([0.29432139, 0.09450011]), 156.88745285389237, 156.88745285389237, 0.39269908169872414)\n",
      "(array([-0.09624799, -0.01470345]), 129.86156361272458, 129.86156361272458, 0.39269908169872414)\n",
      "(array([-0.44239064, -0.25123299]), 134.77281964776313, 134.77281964776313, 0.39269908169872414)\n",
      "(array([ 0.598015  , -0.27779765]), 76.9556574565798, 76.9556574565798, 0.39269908169872414)\n",
      "(array([ 0.63793307, -0.08223258]), 163.8921213225557, 163.8921213225557, 0.39269908169872414)\n",
      "(array([-0.45496573,  0.16456987]), 169.145953292782, 169.145953292782, 0.39269908169872414)\n",
      "(array([ 0.3065969 , -0.26035258]), 274.7115758716065, 274.7115758716065, 0.39269908169872414)\n",
      "(array([6.96810431e-01, 3.50915582e-04]), 142.68256655484632, 142.68256655484632, 0.39269908169872414)\n",
      "(array([-0.22424069,  0.1239919 ]), 154.87722284819716, 154.87722284819716, 0.39269908169872414)\n",
      "(array([0.18808171, 0.42082947]), 180.27189224415505, 180.27189224415505, 0.39269908169872414)\n",
      "(array([-0.05057082, -0.50630317]), 254.90146946904693, 254.90146946904693, 0.39269908169872414)\n",
      "(array([ 0.35198142, -0.60842285]), 259.64639140298124, 259.64639140298124, 0.39269908169872414)\n",
      "(array([ 0.3591428, -0.1866496]), 126.34302508497441, 126.34302508497441, 0.39269908169872414)\n",
      "(array([ 0.10051575, -0.18941189]), 285.4692324287431, 285.4692324287431, 0.39269908169872414)\n",
      "(array([ 0.15916638, -0.03276358]), 102.08390931582996, 102.08390931582996, 0.39269908169872414)\n",
      "(array([-0.06764785,  0.19838911]), 154.1744804960804, 154.1744804960804, 0.39269908169872414)\n",
      "(array([-0.36461641, -0.28419274]), 156.61796769351545, 156.61796769351545, 0.39269908169872414)\n",
      "(array([ 0.3249799 , -0.18082088]), 180.88206583300578, 180.88206583300578, 0.39269908169872414)\n",
      "(array([ 0.32022529, -0.47441131]), 98.34796877059695, 98.34796877059695, 0.39269908169872414)\n",
      "(array([-0.08972368, -0.36321185]), 95.01490998812966, 95.01490998812966, 0.39269908169872414)\n",
      "(array([0.25245239, 0.62023633]), 168.5581590980772, 168.5581590980772, 0.39269908169872414)\n",
      "(array([-0.15368648, -0.72409215]), 257.11137635099885, 257.11137635099885, 0.39269908169872414)\n",
      "(array([-0.0513418 ,  0.19132756]), 136.2941170686261, 136.2941170686261, 0.39269908169872414)\n",
      "(array([-1.12743486, -0.16570181]), 183.2732687278479, 183.2732687278479, 0.39269908169872414)\n",
      "(array([-0.49386126,  0.11261576]), 260.11767775734734, 260.11767775734734, 0.39269908169872414)\n",
      "(array([0.61988133, 0.02626489]), 159.94557104529403, 159.94557104529403, 0.39269908169872414)\n",
      "(array([ 0.18164246, -0.19488521]), 181.5976145347941, 181.5976145347941, 0.39269908169872414)\n",
      "(array([-0.17641724,  0.0231967 ]), 209.5330141676869, 209.5330141676869, 0.39269908169872414)\n",
      "(array([0.0307154 , 0.26457983]), 56.11573757259019, 56.11573757259019, 0.39269908169872414)\n",
      "(array([-0.31999199, -0.02512689]), 307.15324948702755, 307.15324948702755, 0.39269908169872414)\n",
      "(array([-0.12881092, -0.09530969]), 102.97025033521643, 102.97025033521643, 0.39269908169872414)\n",
      "(array([0.34978097, 0.17522561]), 84.85830091646055, 84.85830091646055, 0.39269908169872414)\n",
      "(array([-0.08591709,  0.19590142]), 131.89601672373934, 131.89601672373934, 0.39269908169872414)\n",
      "(array([-0.01341573,  0.29245418]), 153.49530492729758, 153.49530492729758, 0.39269908169872414)\n",
      "(array([-0.29130781, -0.89917535]), 225.3264957967315, 225.3264957967315, 0.39269908169872414)\n",
      "(array([-0.78364779,  0.11686081]), 249.28149760087214, 249.28149760087214, 0.39269908169872414)\n",
      "(array([-0.07290161, -0.38217961]), 275.77053179369267, 275.77053179369267, 0.39269908169872414)\n",
      "(array([-0.01037738,  0.50285744]), 186.5382749782681, 186.5382749782681, 0.39269908169872414)\n",
      "(array([ 0.17830638, -0.36075346]), 95.2457498049167, 95.2457498049167, 0.39269908169872414)\n",
      "(array([0.17624444, 0.08629192]), 100.9200070620513, 100.9200070620513, 0.39269908169872414)\n",
      "(array([ 0.64825335, -0.40065059]), 138.91386086805062, 138.91386086805062, 0.39269908169872414)\n",
      "(array([ 0.55054942, -0.51344512]), 183.56583932367727, 183.56583932367727, 0.39269908169872414)\n",
      "(array([-0.30926964,  0.42667907]), 179.15289182799185, 179.15289182799185, 0.39269908169872414)\n",
      "(array([-0.30468019,  0.10650173]), 106.82009954277194, 106.82009954277194, 0.39269908169872414)\n",
      "(array([-0.48741343, -0.51887658]), 67.84113830028798, 67.84113830028798, 0.39269908169872414)\n",
      "(array([-0.17291317,  0.43255371]), 174.46337846595054, 174.46337846595054, 0.39269908169872414)\n",
      "(array([ 0.12713326, -0.46205092]), 85.49575962793894, 85.49575962793894, 0.39269908169872414)\n",
      "(array([0.48714806, 0.25659395]), 83.9695502791896, 83.9695502791896, 0.39269908169872414)\n",
      "(array([-0.68416163,  0.40195177]), 192.45403729206953, 192.45403729206953, 0.39269908169872414)\n",
      "(array([-0.50126795,  0.56636287]), 94.40614656264974, 94.40614656264974, 0.39269908169872414)\n",
      "(array([-0.09695333, -0.50837413]), 192.76945732665857, 192.76945732665857, 0.39269908169872414)\n",
      "(array([-0.47108981, -0.06453464]), 136.04071050277173, 136.04071050277173, 0.39269908169872414)\n",
      "(array([-0.66522102,  0.28789529]), 97.94891179722349, 97.94891179722349, 0.39269908169872414)\n",
      "(array([ 0.6169484 , -0.11548528]), 200.80430378970277, 200.80430378970277, 0.39269908169872414)\n",
      "(array([-0.99546574,  0.48320639]), 137.82731461699075, 137.82731461699075, 0.39269908169872414)\n",
      "(array([0.00096673, 0.03955339]), 94.72082680144791, 94.72082680144791, 0.39269908169872414)\n",
      "(array([-0.11421741, -0.05467518]), 130.68906832898475, 130.68906832898475, 0.39269908169872414)\n",
      "(array([ 0.3195312 , -0.38809801]), 147.09494150496474, 147.09494150496474, 0.39269908169872414)\n",
      "(array([ 0.21467975, -0.16685889]), 37.100718159862794, 37.100718159862794, 0.39269908169872414)\n",
      "(array([-0.48722561, -0.19996552]), 149.6762530095882, 149.6762530095882, 0.39269908169872414)\n",
      "(array([-0.18460925, -0.17242355]), 68.66650794777729, 68.66650794777729, 0.39269908169872414)\n",
      "(array([-0.19765717, -0.23294487]), 164.62239591351593, 164.62239591351593, 0.39269908169872414)\n",
      "(array([0.07822166, 0.0941893 ]), 169.16980622541158, 169.16980622541158, 0.39269908169872414)\n",
      "(array([ 0.17940858, -0.08253688]), 145.55603621005068, 145.55603621005068, 0.39269908169872414)\n",
      "(array([ 0.1768935 , -0.33008899]), 40.92638417096955, 40.92638417096955, 0.39269908169872414)\n",
      "(array([ 0.29333696, -0.07174283]), 132.21912971511526, 132.21912971511526, 0.39269908169872414)\n",
      "(array([-0.80780291, -0.18486587]), 122.28331390649161, 122.28331390649161, 0.39269908169872414)\n",
      "(array([-0.48513915, -0.02875795]), 200.6614164805374, 200.6614164805374, 0.39269908169872414)\n",
      "(array([-0.37109524,  0.68345225]), 151.46729914168836, 151.46729914168836, 0.39269908169872414)\n",
      "(array([0.0089231 , 0.07408536]), 131.92223993159254, 131.92223993159254, 0.39269908169872414)\n",
      "(array([ 0.70128537, -0.30497147]), 69.80541289322593, 69.80541289322593, 0.39269908169872414)\n",
      "(array([ 0.02004333, -0.53981067]), 82.2366846658306, 82.2366846658306, 0.39269908169872414)\n",
      "(array([-0.56841066,  0.43382296]), 200.77698335477965, 200.77698335477965, 0.39269908169872414)\n",
      "(array([-0.80198733,  0.1861484 ]), 127.5982679441024, 127.5982679441024, 0.39269908169872414)\n",
      "(array([-0.11692809,  0.53179708]), 246.3048729515425, 246.3048729515425, 0.39269908169872414)\n",
      "(array([0.15442378, 0.49780683]), 193.4482435046355, 193.4482435046355, 0.39269908169872414)\n",
      "(array([-0.00119779, -0.19195499]), 213.04373493503266, 213.04373493503266, 0.39269908169872414)\n",
      "(array([-0.81468659, -0.32764038]), 160.8048701137617, 160.8048701137617, 0.39269908169872414)\n",
      "(array([0.22330104, 0.66419782]), 154.5615286614682, 154.5615286614682, 0.39269908169872414)\n",
      "(array([ 0.18522548, -0.14609924]), 162.96471363707923, 162.96471363707923, 0.39269908169872414)\n",
      "(array([-0.00760907,  0.47451694]), 152.8710826743905, 152.8710826743905, 0.39269908169872414)\n",
      "(array([ 0.36808085, -0.11607897]), 154.24043124474306, 154.24043124474306, 0.39269908169872414)\n",
      "(array([ 0.41965688, -0.26611273]), 100.70778452370608, 100.70778452370608, 0.39269908169872414)\n",
      "(array([-0.01494876,  0.40996856]), 73.82647326558867, 73.82647326558867, 0.39269908169872414)\n",
      "(array([0.72407803, 0.22965885]), 180.59079184554668, 180.59079184554668, 0.39269908169872414)\n",
      "(array([-0.0404722 ,  0.19719818]), 121.45917795515685, 121.45917795515685, 0.39269908169872414)\n",
      "(array([-0.37219322, -0.60978514]), 190.67343051640066, 190.67343051640066, 0.39269908169872414)\n",
      "(array([-0.19207509,  0.32809428]), 192.7363075796833, 192.7363075796833, 0.39269908169872414)\n",
      "(array([-0.01744151,  0.11790021]), 171.8203712122252, 171.8203712122252, 0.39269908169872414)\n",
      "(array([-0.57125333,  0.29957229]), 150.48652004577028, 150.48652004577028, 0.39269908169872414)\n",
      "(array([-0.24916363, -0.49148729]), 256.39614569925067, 256.39614569925067, 0.39269908169872414)\n",
      "(array([0.13080791, 0.51600504]), 28.77459654972281, 28.77459654972281, 0.39269908169872414)\n",
      "(array([ 0.34650181, -0.00783558]), 210.3990908618328, 210.3990908618328, 0.39269908169872414)\n",
      "(array([0.3894114 , 0.81721916]), 41.582063460519976, 41.582063460519976, 0.39269908169872414)\n",
      "fitness at iteration 100 41.582063460519976\n",
      "local optimum discovered by solver:\n",
      " [0.3894114  0.81721916]\n",
      "fitness score at this local optimum: 41.582063460519976\n"
     ]
    },
    {
     "name": "stderr",
     "output_type": "stream",
     "text": [
      "\n"
     ]
    }
   ],
   "source": [
    "history, result = test_solver(oes)\n"
   ]
  },
  {
   "cell_type": "code",
   "execution_count": 435,
   "metadata": {},
   "outputs": [
    {
     "data": {
      "text/plain": [
       "<matplotlib.collections.PathCollection at 0x7f6a0b87baf0>"
      ]
     },
     "execution_count": 435,
     "metadata": {},
     "output_type": "execute_result"
    },
    {
     "data": {
      "image/png": "[encoded data removed]",
      "text/plain": [
       "<Figure size 432x288 with 1 Axes>"
      ]
     },
     "metadata": {
      "needs_background": "light"
     },
     "output_type": "display_data"
    }
   ],
   "source": [
    "plt.imshow(all_data)\n",
    "xys = [h[0] for h in history]\n",
    "x = [el[0]%(bound)*(samples-1)/(bound) for el in xys]\n",
    "y = [el[1]%(bound)*(samples-1)/(bound) for el in xys]\n",
    "plt.scatter(x, y)"
   ]
  },
  {
   "cell_type": "code",
   "execution_count": 408,
   "metadata": {},
   "outputs": [
    {
     "data": {
      "text/plain": [
       "[array([-0.55883229, -0.38982509]),\n",
       " array([-0.28129507, -0.41448123]),\n",
       " array([ 0.57971176, -0.13021802]),\n",
       " array([-0.28874004,  0.63590702]),\n",
       " array([ 0.93760597, -0.15050717]),\n",
       " array([-0.56480534,  0.06384132]),\n",
       " array([0.29432139, 0.09450011]),\n",
       " array([-0.09624799, -0.01470345]),\n",
       " array([-0.44239064, -0.25123299]),\n",
       " array([ 0.598015  , -0.27779765]),\n",
       " array([ 0.63793307, -0.08223258]),\n",
       " array([-0.45496573,  0.16456987]),\n",
       " array([ 0.3065969 , -0.26035258]),\n",
       " array([6.96810431e-01, 3.50915575e-04]),\n",
       " array([-0.22424069,  0.1239919 ]),\n",
       " array([0.18808171, 0.42082947]),\n",
       " array([-0.05057082, -0.50630317]),\n",
       " array([ 0.35198142, -0.60842285]),\n",
       " array([ 0.3591428, -0.1866496]),\n",
       " array([ 0.10051575, -0.18941189]),\n",
       " array([ 0.15916638, -0.03276358]),\n",
       " array([-0.06764785,  0.19838911]),\n",
       " array([-0.36461641, -0.28419274]),\n",
       " array([ 0.3249799 , -0.18082088]),\n",
       " array([ 0.32022529, -0.47441131]),\n",
       " array([-0.08972368, -0.36321185]),\n",
       " array([0.25245239, 0.62023633]),\n",
       " array([-0.15368648, -0.72409215]),\n",
       " array([-0.0513418 ,  0.19132756]),\n",
       " array([-1.12743486, -0.16570181]),\n",
       " array([-0.49386126,  0.11261576]),\n",
       " array([0.61988133, 0.02626489]),\n",
       " array([0.33171462, 0.41712971]),\n",
       " array([-0.17641724,  0.0231967 ]),\n",
       " array([0.0307154 , 0.26457983]),\n",
       " array([-0.31999199, -0.02512689]),\n",
       " array([-0.12881092, -0.09530969]),\n",
       " array([0.34978097, 0.17522561]),\n",
       " array([-0.08591709,  0.19590142]),\n",
       " array([-0.01341573,  0.29245418]),\n",
       " array([-0.29130781, -0.89917535]),\n",
       " array([-0.78364779,  0.11686081]),\n",
       " array([-0.07290161, -0.38217961]),\n",
       " array([-0.01037738,  0.50285744]),\n",
       " array([ 0.17830638, -0.36075346]),\n",
       " array([0.17624444, 0.08629192]),\n",
       " array([ 0.64825335, -0.40065059]),\n",
       " array([ 0.55054942, -0.51344512]),\n",
       " array([-0.30926964,  0.42667907]),\n",
       " array([-0.30468019,  0.10650173]),\n",
       " array([-0.36996176,  1.05558528]),\n",
       " array([-0.17291317,  0.43255371]),\n",
       " array([ 0.12713326, -0.46205092]),\n",
       " array([0.48714806, 0.25659395]),\n",
       " array([-0.68416163,  0.40195177]),\n",
       " array([-0.50126795,  0.56636287]),\n",
       " array([-0.09695333, -0.50837413]),\n",
       " array([-0.47108981, -0.06453464]),\n",
       " array([-0.66522102,  0.28789529]),\n",
       " array([ 0.6169484 , -0.11548528]),\n",
       " array([-0.99546574,  0.48320639]),\n",
       " array([0.00096673, 0.03955339]),\n",
       " array([-0.11421741, -0.05467518]),\n",
       " array([ 0.3195312 , -0.38809801]),\n",
       " array([ 0.21467975, -0.16685889]),\n",
       " array([-0.48722561, -0.19996552]),\n",
       " array([-0.18460925, -0.17242355]),\n",
       " array([-0.19765717, -0.23294487]),\n",
       " array([0.07822166, 0.0941893 ]),\n",
       " array([ 0.17940858, -0.08253688]),\n",
       " array([ 0.1768935 , -0.33008899]),\n",
       " array([ 0.29333696, -0.07174283]),\n",
       " array([-0.80780291, -0.18486587]),\n",
       " array([-0.48513915, -0.02875795]),\n",
       " array([-0.37109524,  0.68345225]),\n",
       " array([0.0089231 , 0.07408536]),\n",
       " array([ 0.70128537, -0.30497147]),\n",
       " array([ 0.02004333, -0.53981067]),\n",
       " array([-0.56841066,  0.43382296]),\n",
       " array([-0.80198733,  0.1861484 ]),\n",
       " array([-0.11692809,  0.53179708]),\n",
       " array([0.15442378, 0.49780683]),\n",
       " array([-0.00119779, -0.19195499]),\n",
       " array([-0.81468659, -0.32764038]),\n",
       " array([0.22330104, 0.66419782]),\n",
       " array([ 0.18522548, -0.14609924]),\n",
       " array([-0.00760907,  0.47451694]),\n",
       " array([ 0.36808085, -0.11607897]),\n",
       " array([ 0.41965688, -0.26611273]),\n",
       " array([-0.01494876,  0.40996856]),\n",
       " array([0.72407803, 0.22965885]),\n",
       " array([-0.0404722 ,  0.19719818]),\n",
       " array([-0.37219322, -0.60978514]),\n",
       " array([-0.19207509,  0.32809428]),\n",
       " array([-0.01744151,  0.11790021]),\n",
       " array([-0.57125333,  0.29957229]),\n",
       " array([-0.24916363, -0.49148729]),\n",
       " array([0.13080791, 0.51600504]),\n",
       " array([ 0.34650181, -0.00783558]),\n",
       " array([0.3894114 , 0.81721916])]"
      ]
     },
     "execution_count": 408,
     "metadata": {},
     "output_type": "execute_result"
    }
   ],
   "source": [
    "[h[0] for h in history]"
   ]
  },
  {
   "cell_type": "code",
   "execution_count": 409,
   "metadata": {},
   "outputs": [],
   "source": [
    "# It's currently reporting the average fitness, which of course it might want to use when it's estimating the energy\n",
    "# But at the end it should report the maximum value. Here the mean is 10.1, which suggests that a better bitstring was \n",
    "# sampled."
   ]
  },
  {
   "cell_type": "markdown",
   "metadata": {},
   "source": [
    "# Compute Maxcut of Graphs"
   ]
  },
  {
   "cell_type": "code",
   "execution_count": 473,
   "metadata": {},
   "outputs": [
    {
     "data": {
      "text/plain": [
       "(array([-48.99019835,  30.41474091]), 475.2652096638651)"
      ]
     },
     "execution_count": 473,
     "metadata": {},
     "output_type": "execute_result"
    }
   ],
   "source": [
    "from tqdm import tqdm\n",
    "annealing_attempts = []\n",
    "shots_per_point = 10\n",
    "func, history2 = objective(graph)\n",
    "np.random.seed(1)\n",
    "initial_gamma_beta = [np.random.rand() * max_param for max_param in (max_gamma, max_beta)]\n",
    "result = dual_annealing(\n",
    "    lambda x: -1*func(x),\n",
    "    bounds=[(-max_gamma*10, max_gamma*10),\n",
    "            (-max_beta*10, 10*max_beta)],\n",
    "    x0=np.array(initial_gamma_beta),\n",
    "    # One annealing attempt.\n",
    "    maxiter=100,\n",
    "    maxfun=one_hour*reprate,\n",
    "    seed=1,\n",
    "    sigma=100)\n",
    "result.fun = -result.fun\n",
    "(result.x, result.fun)        "
   ]
  },
  {
   "cell_type": "code",
   "execution_count": 474,
   "metadata": {},
   "outputs": [
    {
     "data": {
      "text/plain": [
       "<matplotlib.collections.PathCollection at 0x7f6a0b191790>"
      ]
     },
     "execution_count": 474,
     "metadata": {},
     "output_type": "execute_result"
    },
    {
     "data": {
      "image/png": "[encoded data removed]",
      "text/plain": [
       "<Figure size 432x288 with 1 Axes>"
      ]
     },
     "metadata": {
      "needs_background": "light"
     },
     "output_type": "display_data"
    }
   ],
   "source": [
    "plt.imshow(all_data)\n",
    "xys = [h[0] for h in history2]\n",
    "x = [el[0]%(bound)*(samples-1)/(bound) for el in xys]\n",
    "y = [el[1]%(bound)*(samples-1)/(bound) for el in xys]\n",
    "plt.scatter(x, y)"
   ]
  },
  {
   "cell_type": "code",
   "execution_count": 448,
   "metadata": {},
   "outputs": [
    {
     "data": {
      "text/plain": [
       "<matplotlib.collections.PathCollection at 0x7f6a0b52e670>"
      ]
     },
     "execution_count": 448,
     "metadata": {},
     "output_type": "execute_result"
    },
    {
     "data": {
      "image/png": "[encoded data removed]",
      "text/plain": [
       "<Figure size 432x288 with 1 Axes>"
      ]
     },
     "metadata": {
      "needs_background": "light"
     },
     "output_type": "display_data"
    }
   ],
   "source": [
    "plt.imshow(all_data)\n",
    "xys = [h[0] for h in history2]\n",
    "x = [el[0]%(bound)*(samples-1)/(bound) for el in xys]\n",
    "y = [el[1]%(bound)*(samples-1)/(bound) for el in xys]\n",
    "plt.scatter(x, y)"
   ]
  },
  {
   "cell_type": "code",
   "execution_count": 350,
   "metadata": {},
   "outputs": [],
   "source": [
    "shots_per_points = [1, 10, 100, 1000]\n",
    "maxiters = [1, 10, 100, 1000]\n",
    "initial_temp = [1, 10, 100, 1000]\n",
    "restart_temp_ratio = [1E-10, 1E-9, 1E-8, 1E-7]"
   ]
  },
  {
   "cell_type": "markdown",
   "metadata": {},
   "source": [
    "# Sweep Parameters"
   ]
  },
  {
   "cell_type": "code",
   "execution_count": 28,
   "metadata": {},
   "outputs": [
    {
     "name": "stdout",
     "output_type": "stream",
     "text": [
      "Outer loop 0 done.\n",
      "Outer loop 1 done.\n",
      "Outer loop 2 done.\n",
      "Outer loop 3 done.\n"
     ]
    }
   ],
   "source": [
    "#shots_per_points = [1, 10, 100, 1000]\n",
    "# It's currently returning the actual energy\n",
    "maxiters = [1, 10, 100, 1000]\n",
    "initial_temps = [1, 10, 100, 1000]\n",
    "restart_temp_ratios = [1E-10, 1E-9, 1E-8, 1E-7]\n",
    "data = []\n",
    "for i, maxiter in  enumerate(maxiters):\n",
    "    for initial_temp in initial_temps:\n",
    "        for restart_temp_ratio in restart_temp_ratios:\n",
    "            func, history2 = objective(graph)\n",
    "            initial_gamma_beta = [np.random.rand() * max_param for max_param in (max_gamma, max_beta)]\n",
    "            result = dual_annealing(\n",
    "                lambda x: -1*func(x),\n",
    "                bounds=[(0, max_gamma),\n",
    "                        (0, max_beta)],\n",
    "                x0=np.array(initial_gamma_beta),\n",
    "                # One annealing attempt.\n",
    "                maxiter=maxiter,\n",
    "                initial_temp=initial_temp,\n",
    "                maxfun=one_hour*reprate,\n",
    "                restart_temp_ratio=restart_temp_ratio,\n",
    "                no_local_search=True)\n",
    "            result.fun = -result.fun\n",
    "            data.append(((result.x, result.fun), history2))     \n",
    "    print(f\"Outer loop {i} done.\")"
   ]
  },
  {
   "cell_type": "code",
   "execution_count": 29,
   "metadata": {},
   "outputs": [],
   "source": [
    "import pickle as pkl"
   ]
  },
  {
   "cell_type": "code",
   "execution_count": 34,
   "metadata": {},
   "outputs": [],
   "source": [
    "with open('data.pkl', 'wb') as file_:\n",
    "    pkl.dump(data, file_)"
   ]
  },
  {
   "cell_type": "code",
   "execution_count": 42,
   "metadata": {},
   "outputs": [],
   "source": [
    "m = 0\n",
    "mi = 0\n",
    "for i, _ in enumerate(data):\n",
    "    if _[0][0][1] > m:\n",
    "        m = max(m, _[0][0][1])\n",
    "        mi = i"
   ]
  },
  {
   "cell_type": "code",
   "execution_count": 46,
   "metadata": {},
   "outputs": [
    {
     "data": {
      "text/plain": [
       "64"
      ]
     },
     "execution_count": 46,
     "metadata": {},
     "output_type": "execute_result"
    }
   ],
   "source": [
    "len(data)"
   ]
  },
  {
   "cell_type": "code",
   "execution_count": 41,
   "metadata": {},
   "outputs": [
    {
     "data": {
      "text/plain": [
       "{(0, 6): 0.7004371218578347,\n",
       " (1, 8): 0.8441866428504345,\n",
       " (2, 8): 0.6765143359376254,\n",
       " (2, 10): 0.7278580572480748,\n",
       " (3, 4): 0.9514579574463393,\n",
       " (4, 5): 0.012703197034767633,\n",
       " (4, 9): 0.41358769878652346,\n",
       " (4, 14): 0.04881279380000003,\n",
       " (5, 13): 0.09992856132121142,\n",
       " (6, 10): 0.5080663057670065,\n",
       " (7, 9): 0.20024753933447748,\n",
       " (8, 9): 0.744154168814097,\n",
       " (11, 14): 0.19289200304058374,\n",
       " (12, 13): 0.7008447521659813,\n",
       " (13, 14): 0.293228105869234}"
      ]
     },
     "execution_count": 41,
     "metadata": {},
     "output_type": "execute_result"
    }
   ],
   "source": [
    "terms"
   ]
  },
  {
   "cell_type": "code",
   "execution_count": null,
   "metadata": {},
   "outputs": [],
   "source": []
  }
 ],
 "metadata": {
  "kernelspec": {
   "display_name": "Python 3",
   "language": "python",
   "name": "python3"
  },
  "language_info": {
   "codemirror_mode": {
    "name": "ipython",
    "version": 3
   },
   "file_extension": ".py",
   "mimetype": "text/x-python",
   "name": "python",
   "nbconvert_exporter": "python",
   "pygments_lexer": "ipython3",
   "version": "3.8.5"
  }
 },
 "nbformat": 4,
 "nbformat_minor": 4
}
