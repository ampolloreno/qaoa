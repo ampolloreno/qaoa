{
 "cells": [
  {
   "cell_type": "code",
   "execution_count": 191,
   "metadata": {},
   "outputs": [],
   "source": [
    "# For this notebook, we've picked an instance of maxcut. Other problems are more interesting,\n",
    "# but this is the one always used in the literature.\n",
    "\n",
    "# The goal here is to setup a Maxcut QAOA instance using qiskit, and execute it on the qiskit simulator\n",
    "# using the ColdQuanta API. To validate our results, we will look for the canonical ``qaoa landscape\" and \n",
    "# see that it loses contrast when the noise is increased."
   ]
  },
  {
   "cell_type": "code",
   "execution_count": 560,
   "metadata": {},
   "outputs": [],
   "source": [
    "from coldquanta.qiskit_tools.coldquanta_sim_backend import ColdQuantaSimBackend\n",
    "# Set up a 2x2 grid topology.\n",
    "rows = 1\n",
    "cols = 2\n",
    "neutral_atom = ColdQuantaSimBackend(rows=rows, cols=cols)\n",
    "neutral_atom_config = neutral_atom.configuration()\n",
    "coupling_map = neutral_atom_config.coupling_map"
   ]
  },
  {
   "cell_type": "code",
   "execution_count": 561,
   "metadata": {},
   "outputs": [
    {
     "name": "stderr",
     "output_type": "stream",
     "text": [
      "/Users/anthonypolloreno/.pyenv/versions/3.7.4/envs/qaoa_venv/lib/python3.7/site-packages/networkx/drawing/layout.py:950: FutureWarning: arrays to stack must be passed as a \"sequence\" type such as list or tuple. Support for non-sequence iterables such as generators is deprecated as of NumPy 1.16 and will raise an error in the future.\n",
      "  pos = np.row_stack((pos[x] for x in node_list))\n"
     ]
    },
    {
     "data": {
      "image/png": "[encoded data removed]",
      "text/plain": [
       "<Figure size 432x288 with 1 Axes>"
      ]
     },
     "metadata": {},
     "output_type": "display_data"
    }
   ],
   "source": [
    "from networkx import Graph, draw_planar\n",
    "g = Graph(coupling_map)\n",
    "draw_planar(g)"
   ]
  },
  {
   "cell_type": "code",
   "execution_count": 562,
   "metadata": {},
   "outputs": [],
   "source": [
    "# We will currently only accept QAOA instances on graphs isomorphic to our own -\n",
    "# i.e. we are not implementing a compiler. Provide them as a dictionary.\n",
    "\n",
    "# Uniform weights.\n",
    "weights = {tuple(k): 1 for k in coupling_map}"
   ]
  },
  {
   "cell_type": "code",
   "execution_count": 647,
   "metadata": {},
   "outputs": [],
   "source": [
    "# It looks like Qiskit hasn't implemented any kind of exponentiation - \n",
    "# in particular, they write to use \"an Ising-type gate\":\n",
    "# https://qiskit.org/textbook/ch-applications/qaoa.html#2.1-(weighted)-$MAXCUT$\n",
    "# Rigetti has implemented an exponentiate-like feature -\n",
    "# http://docs.rigetti.com/en/stable/apidocs/autogen/pyquil.paulis.exponentiate.html#pyquil.paulis.exponentiate\n",
    "\n",
    "# For this example, everything is diagonal and we are free to just compute the QAOA circuit from the weights.\n",
    "# Taking from the qiskit tutorial:\n",
    "from qiskit import QuantumCircuit\n",
    "def qaoa_circuit(gamma, beta):\n",
    "    QAOA = QuantumCircuit(rows*cols)\n",
    "    # apply the layer of Hadamard gates to all qubits, and then fence all qubits.\n",
    "    QAOA.h(range(rows*cols))\n",
    "    QAOA.barrier()\n",
    "\n",
    "    # apply the Ising type gates with angle gamma along the edges in E\n",
    "    \n",
    "    #HACK, we need to remove redundant edges.\n",
    "    visited = set()\n",
    "    for edge, weight in weights.items():\n",
    "        if (min(edge), max(edge)) in visited:\n",
    "            continue\n",
    "        visited.add((min(edge), max(edge)))\n",
    "        k = edge[0]\n",
    "        l = edge[1]\n",
    "        # The following is a gate decomposition for a exp(-i*\\gamma*ZZ). **UNVERIFIED**.\n",
    "        # Controlled-U1 gate - i.e. Controlled phase.\n",
    "        QAOA.h(l)\n",
    "        QAOA.cz(k, l)\n",
    "        QAOA.h(l)\n",
    "        QAOA.rz(2*gamma*weight, l)\n",
    "        QAOA.h(l)\n",
    "        QAOA.cz(k, l)\n",
    "        QAOA.h(l)\n",
    "        # These phases were fucking it up. In fact, we didn't want a CPHASE in the first place. \n",
    "        #QAOA.rz(-gamma*weight, k)\n",
    "        #QAOA.rz(-gamma*weight, l)\n",
    "        QAOA.barrier()\n",
    "\n",
    "    # then apply the single qubit X - rotations with angle beta to all qubits\n",
    "\n",
    "    \n",
    "    #\\exp^{-i\\beta\\sigma_x} = RX(2*\\beta), so the factor of two keeps us consistent with https://arxiv.org/pdf/1411.4028 \n",
    "    QAOA.rx(beta*weight, list(range(rows*cols)))\n",
    "    QAOA.measure_all()\n",
    "    return QAOA\n"
   ]
  },
  {
   "cell_type": "code",
   "execution_count": 648,
   "metadata": {},
   "outputs": [
    {
     "data": {
      "text/html": [
       "<pre style=\"word-wrap: normal;white-space: pre;background: #fff0;line-height: 1.1;font-family: &quot;Courier New&quot;,Courier,monospace\">        ┌───┐ ░                                     ░ ┌───────┐ ░ ┌─┐   \n",
       "   q_0: ┤ H ├─░───────■─────────────────────■───────░─┤ RX(0) ├─░─┤M├───\n",
       "        ├───┤ ░ ┌───┐ │ ┌───┐┌───────┐┌───┐ │ ┌───┐ ░ ├───────┤ ░ └╥┘┌─┐\n",
       "   q_1: ┤ H ├─░─┤ H ├─■─┤ H ├┤ RZ(0) ├┤ H ├─■─┤ H ├─░─┤ RX(0) ├─░──╫─┤M├\n",
       "        └───┘ ░ └───┘   └───┘└───────┘└───┘   └───┘ ░ └───────┘ ░  ║ └╥┘\n",
       "meas_0: ═══════════════════════════════════════════════════════════╩══╬═\n",
       "                                                                      ║ \n",
       "meas_1: ══════════════════════════════════════════════════════════════╩═\n",
       "                                                                        </pre>"
      ],
      "text/plain": [
       "        ┌───┐ ░                                     ░ ┌───────┐ ░ ┌─┐   \n",
       "   q_0: ┤ H ├─░───────■─────────────────────■───────░─┤ RX(0) ├─░─┤M├───\n",
       "        ├───┤ ░ ┌───┐ │ ┌───┐┌───────┐┌───┐ │ ┌───┐ ░ ├───────┤ ░ └╥┘┌─┐\n",
       "   q_1: ┤ H ├─░─┤ H ├─■─┤ H ├┤ RZ(0) ├┤ H ├─■─┤ H ├─░─┤ RX(0) ├─░──╫─┤M├\n",
       "        └───┘ ░ └───┘   └───┘└───────┘└───┘   └───┘ ░ └───────┘ ░  ║ └╥┘\n",
       "meas_0: ═══════════════════════════════════════════════════════════╩══╬═\n",
       "                                                                      ║ \n",
       "meas_1: ══════════════════════════════════════════════════════════════╩═\n",
       "                                                                        "
      ]
     },
     "execution_count": 648,
     "metadata": {},
     "output_type": "execute_result"
    }
   ],
   "source": [
    "qaoa_circuit(0,0).draw()"
   ]
  },
  {
   "cell_type": "code",
   "execution_count": 649,
   "metadata": {},
   "outputs": [],
   "source": [
    "def estimate_cost(counts, weights):\n",
    "    cost = 0\n",
    "    for assignment, count in counts.items():\n",
    "        for edge, weight in weights.items():\n",
    "            if assignment[edge[0]] != assignment[edge[1]]:\n",
    "                # We've cut this edge.\n",
    "                cost += weight*count\n",
    "    # The coupling map currently includes both directions for all couplings. Since we've assumed an undirected\n",
    "    # graph, we just divide by two.\n",
    "    cost /= 2\n",
    "    return cost/sum(counts.values()) "
   ]
  },
  {
   "cell_type": "code",
   "execution_count": 650,
   "metadata": {},
   "outputs": [],
   "source": [
    "import numpy as np\n",
    "discretization = 15\n",
    "gammas = np.linspace(0, np.pi, discretization)\n",
    "betas = np.linspace(0, np.pi, discretization)"
   ]
  },
  {
   "cell_type": "code",
   "execution_count": 651,
   "metadata": {},
   "outputs": [],
   "source": [
    "from qiskit import Aer, execute\n",
    "simulator = Aer.get_backend('qasm_simulator')\n",
    "num_shots = 1024\n",
    "experiments = []\n",
    "for gamma in gammas:\n",
    "    for beta in betas:\n",
    "        experiments.append(qaoa_circuit(gamma, beta))\n",
    "job = execute(experiments, backend=simulator, shots=num_shots)    \n",
    "all_counts = job.result().get_counts()"
   ]
  },
  {
   "cell_type": "code",
   "execution_count": 652,
   "metadata": {},
   "outputs": [],
   "source": [
    "landscape = np.zeros((discretization, discretization))\n",
    "for i, gamma in enumerate(gammas):\n",
    "    for j, beta in enumerate(betas):\n",
    "        landscape[i][j] = estimate_cost(all_counts[i*len(betas) + j], weights)"
   ]
  },
  {
   "cell_type": "code",
   "execution_count": 653,
   "metadata": {},
   "outputs": [
    {
     "name": "stdout",
     "output_type": "stream",
     "text": [
      "0.9765625\n",
      "0.01953125\n"
     ]
    },
    {
     "data": {
      "image/png": "[encoded data removed]",
      "text/plain": [
       "<Figure size 504x360 with 1 Axes>"
      ]
     },
     "execution_count": 653,
     "metadata": {},
     "output_type": "execute_result"
    },
    {
     "data": {
      "image/png": "[encoded data removed]",
      "text/plain": [
       "<Figure size 432x288 with 1 Axes>"
      ]
     },
     "metadata": {
      "needs_background": "light"
     },
     "output_type": "display_data"
    }
   ],
   "source": [
    "import matplotlib.pyplot as plt\n",
    "from qiskit.visualization import plot_histogram\n",
    "\n",
    "plt.imshow(landscape)\n",
    "plt.ylabel(r\"$\\gamma$\")\n",
    "plt.xlabel(r\"$\\beta$\")\n",
    "print(np.max(landscape))\n",
    "print(np.min(landscape))\n",
    "plot_histogram(all_counts[np.argmax(landscape)])"
   ]
  },
  {
   "cell_type": "markdown",
   "metadata": {},
   "source": [
    "# Now introduce noise!"
   ]
  },
  {
   "cell_type": "code",
   "execution_count": 654,
   "metadata": {},
   "outputs": [],
   "source": [
    "from coldquanta.qiskit_tools.modeling.neutral_atom_noise_model import create_noise_model"
   ]
  },
  {
   "cell_type": "code",
   "execution_count": 655,
   "metadata": {},
   "outputs": [],
   "source": [
    "noise_model = create_noise_model()"
   ]
  },
  {
   "cell_type": "code",
   "execution_count": 656,
   "metadata": {},
   "outputs": [
    {
     "data": {
      "text/plain": [
       "NoiseModel:\n",
       "  Basis gates: ['cx', 'cz', 'id', 'u3']\n",
       "  Instructions with noise: ['rz', 'id', 'cz', 'r']\n",
       "  All-qubits errors: ['r', 'rz', 'id', 'cz']"
      ]
     },
     "execution_count": 656,
     "metadata": {},
     "output_type": "execute_result"
    }
   ],
   "source": [
    "noise_model"
   ]
  },
  {
   "cell_type": "code",
   "execution_count": 660,
   "metadata": {},
   "outputs": [],
   "source": [
    "noise_model = create_noise_model(cz_fidelity=0.7)\n",
    "\n",
    "experiments = []\n",
    "for gamma in gammas:\n",
    "    for beta in betas:\n",
    "        experiments.append(qaoa_circuit(gamma, beta))\n",
    "job = execute(experiments,\n",
    "              simulator,\n",
    "              noise_model=noise_model,\n",
    "              coupling_map=coupling_map,\n",
    "              optimization_level=0,\n",
    "              shots=num_shots)  \n",
    "all_counts = job.result().get_counts()"
   ]
  },
  {
   "cell_type": "code",
   "execution_count": 661,
   "metadata": {},
   "outputs": [],
   "source": [
    "noisy_landscape = np.zeros((discretization, discretization))\n",
    "for i, gamma in enumerate(gammas):\n",
    "    for j, beta in enumerate(betas):\n",
    "        noisy_landscape[i][j] = estimate_cost(all_counts[i*len(betas) + j], weights)"
   ]
  },
  {
   "cell_type": "code",
   "execution_count": 662,
   "metadata": {},
   "outputs": [
    {
     "data": {
      "image/png": "[encoded data removed]",
      "text/plain": [
       "<Figure size 504x360 with 1 Axes>"
      ]
     },
     "execution_count": 662,
     "metadata": {},
     "output_type": "execute_result"
    },
    {
     "data": {
      "image/png": "[encoded data removed]",
      "text/plain": [
       "<Figure size 432x288 with 1 Axes>"
      ]
     },
     "metadata": {
      "needs_background": "light"
     },
     "output_type": "display_data"
    }
   ],
   "source": [
    "import matplotlib.pyplot as plt\n",
    "from qiskit.visualization import plot_histogram\n",
    "\n",
    "plt.imshow(noisy_landscape)\n",
    "plot_histogram(all_counts[np.argmax(noisy_landscape)])"
   ]
  },
  {
   "cell_type": "code",
   "execution_count": null,
   "metadata": {},
   "outputs": [],
   "source": []
  }
 ],
 "metadata": {
  "kernelspec": {
   "display_name": "Python 3",
   "language": "python",
   "name": "python3"
  },
  "language_info": {
   "codemirror_mode": {
    "name": "ipython",
    "version": 3
   },
   "file_extension": ".py",
   "mimetype": "text/x-python",
   "name": "python",
   "nbconvert_exporter": "python",
   "pygments_lexer": "ipython3",
   "version": "3.7.4"
  }
 },
 "nbformat": 4,
 "nbformat_minor": 4
}
