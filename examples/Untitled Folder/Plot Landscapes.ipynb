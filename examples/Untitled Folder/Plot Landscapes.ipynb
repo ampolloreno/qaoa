{
 "cells": [
  {
   "cell_type": "code",
   "execution_count": 1,
   "metadata": {},
   "outputs": [],
   "source": [
    "import dill\n",
    "def read_graph(filename):\n",
    "    with open(f'{filename}', 'rb') as filehandle:\n",
    "            data = dill.load(filehandle)\n",
    "    return data\n",
    "\n",
    "def max_landscape(data):\n",
    "    maximum = 0\n",
    "    max_key = None\n",
    "    for k, _ in data.items():\n",
    "        if 'landscape' in k:\n",
    "            disc = int(k.split('_')[1][1:])\n",
    "            if disc > maximum:\n",
    "                maximum = disc\n",
    "                max_key = k\n",
    "    beta = float(max_key.split('_')[2][1:])\n",
    "    gamma = float(max_key.split('_')[3][1:])\n",
    "    return data[max_key], beta, gamma"
   ]
  },
  {
   "cell_type": "code",
   "execution_count": 2,
   "metadata": {},
   "outputs": [
    {
     "ename": "NameError",
     "evalue": "name 'data' is not defined",
     "output_type": "error",
     "traceback": [
      "\u001b[0;31m---------------------------------------------------------------------------\u001b[0m",
      "\u001b[0;31mNameError\u001b[0m                                 Traceback (most recent call last)",
      "\u001b[0;32m<ipython-input-2-a7f7b10d221d>\u001b[0m in \u001b[0;36m<module>\u001b[0;34m\u001b[0m\n\u001b[1;32m      1\u001b[0m \u001b[0;32mfrom\u001b[0m \u001b[0mclassical_optimization\u001b[0m\u001b[0;34m.\u001b[0m\u001b[0mqaoa_circuits\u001b[0m \u001b[0;32mimport\u001b[0m \u001b[0mplot_landscape\u001b[0m\u001b[0;34m\u001b[0m\u001b[0;34m\u001b[0m\u001b[0m\n\u001b[0;32m----> 2\u001b[0;31m \u001b[0mplot_landscape\u001b[0m\u001b[0;34m(\u001b[0m\u001b[0;34m*\u001b[0m\u001b[0mmax_landscape\u001b[0m\u001b[0;34m(\u001b[0m\u001b[0mdata\u001b[0m\u001b[0;34m)\u001b[0m\u001b[0;34m)\u001b[0m\u001b[0;34m\u001b[0m\u001b[0;34m\u001b[0m\u001b[0m\n\u001b[0m",
      "\u001b[0;31mNameError\u001b[0m: name 'data' is not defined"
     ]
    }
   ],
   "source": [
    "from classical_optimization.qaoa_circuits import plot_landscape\n",
    "plot_landscape(*max_landscape(data))"
   ]
  },
  {
   "cell_type": "code",
   "execution_count": null,
   "metadata": {},
   "outputs": [],
   "source": [
    "import os\n",
    "import matplotlib.pyplot as plt\n",
    "files = [f for f in os.listdir('.') if os.path.isfile(f)]\n",
    "for f in files:\n",
    "    if 'pkl' in f:\n",
    "        try:\n",
    "            data = read_graph(f)\n",
    "            plot_landscape(*max_landscape(data))\n",
    "            plt.show()\n",
    "        except:\n",
    "            pass\n",
    "    \n",
    "            "
   ]
  },
  {
   "cell_type": "code",
   "execution_count": null,
   "metadata": {},
   "outputs": [],
   "source": []
  }
 ],
 "metadata": {
  "kernelspec": {
   "display_name": "Python 3",
   "language": "python",
   "name": "python3"
  },
  "language_info": {
   "codemirror_mode": {
    "name": "ipython",
    "version": 3
   },
   "file_extension": ".py",
   "mimetype": "text/x-python",
   "name": "python",
   "nbconvert_exporter": "python",
   "pygments_lexer": "ipython3",
   "version": "3.7.4"
  }
 },
 "nbformat": 4,
 "nbformat_minor": 4
}
