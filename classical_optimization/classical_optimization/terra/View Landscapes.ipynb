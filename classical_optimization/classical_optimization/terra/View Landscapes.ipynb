{
 "cells": [
  {
   "cell_type": "code",
   "execution_count": 5,
   "metadata": {},
   "outputs": [],
   "source": [
    "import dill\n",
    "from classical_optimization.terra.utils import read_graph\n",
    "from classical_optimization.qaoa_circuits import plot_landscape\n",
    "\n",
    "def max_landscape(data):\n",
    "    maximum = 0\n",
    "    max_key = None\n",
    "    for k, _ in data.items():\n",
    "        if 'landscape' in k:\n",
    "            disc = int(k.split('_')[1][1:])\n",
    "            if disc > maximum:\n",
    "                maximum = disc\n",
    "                max_key = k\n",
    "    beta = float(max_key.split('_')[2][1:])\n",
    "    gamma = float(max_key.split('_')[3][1:])\n",
    "    return data[max_key], gamma, beta"
   ]
  },
  {
   "cell_type": "code",
   "execution_count": 12,
   "metadata": {},
   "outputs": [
    {
     "name": "stdout",
     "output_type": "stream",
     "text": [
      "3.141592653589793\n"
     ]
    },
    {
     "data": {
      "image/png": "[encoded data removed]",
      "text/plain": [
       "<Figure size 432x288 with 2 Axes>"
      ]
     },
     "metadata": {
      "needs_background": "light"
     },
     "output_type": "display_data"
    }
   ],
   "source": [
    "import os\n",
    "import matplotlib.pyplot as plt\n",
    "files = [f for f in os.listdir('.') if os.path.isfile(f)]\n",
    "for f in files:\n",
    "    if 'pkl' in f:\n",
    "        data = read_graph(f)\n",
    "        if len(data) > 1:\n",
    "            plot_landscape(*max_landscape(data))\n",
    "            plt.show()\n"
   ]
  },
  {
   "cell_type": "code",
   "execution_count": 10,
   "metadata": {},
   "outputs": [
    {
     "name": "stdout",
     "output_type": "stream",
     "text": [
      "67a02ae721b0e6b4c14432e748928a24.pkl  d28eec4f53eeee124ae36c3c9b434412.pkl\r\n",
      "View Landscapes.ipynb                 dispatch_jobs.py\r\n",
      "__init__.py                           produce_landscape.py\r\n",
      "\u001b[34m__pycache__\u001b[m\u001b[m/                          utils.py\r\n",
      "c48a857d4c6d1fd93f5e33a92875cec0.pkl\r\n"
     ]
    }
   ],
   "source": [
    "ls"
   ]
  },
  {
   "cell_type": "code",
   "execution_count": null,
   "metadata": {},
   "outputs": [],
   "source": []
  }
 ],
 "metadata": {
  "kernelspec": {
   "display_name": "Python 3",
   "language": "python",
   "name": "python3"
  },
  "language_info": {
   "codemirror_mode": {
    "name": "ipython",
    "version": 3
   },
   "file_extension": ".py",
   "mimetype": "text/x-python",
   "name": "python",
   "nbconvert_exporter": "python",
   "pygments_lexer": "ipython3",
   "version": "3.7.4"
  }
 },
 "nbformat": 4,
 "nbformat_minor": 4
}
