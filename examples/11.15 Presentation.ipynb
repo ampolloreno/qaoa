{
 "cells": [
  {
   "cell_type": "code",
   "execution_count": 1,
   "metadata": {},
   "outputs": [],
   "source": [
    "%load_ext autoreload\n",
    "%autoreload 2\n",
    "%pdb"
   ]
  },
  {
   "cell_type": "markdown",
   "metadata": {},
   "source": [
    "# Load Graph and Landscape"
   ]
  },
  {
   "cell_type": "code",
   "execution_count": 1,
   "metadata": {},
   "outputs": [],
   "source": [
    "import os\n",
    "import matplotlib.pyplot as plt\n",
    "dirs = ['../hari'] \n",
    "dir_ = dirs[0]\n",
    "graph_folders = [folder for folder in os.listdir(dir_)]"
   ]
  },
  {
   "cell_type": "code",
   "execution_count": 2,
   "metadata": {},
   "outputs": [],
   "source": [
    "def max_landscape(data):\n",
    "    maximum = 0\n",
    "    max_key = None\n",
    "    for k, _ in data.items():\n",
    "        if 'landscape' in k:\n",
    "            max_beta = float(k.split('_')[2][1:])\n",
    "            max_gamma = float(k.split('_')[3][1:])\n",
    "            min_beta = float(k.split('_')[4][1:])\n",
    "            min_gamma = float(k.split('_')[5][1:])\n",
    "            disc = int(k.split('_')[1][1:])\n",
    "            return data.get(k), max_beta, min_beta, max_gamma, min_gamma"
   ]
  },
  {
   "cell_type": "code",
   "execution_count": 3,
   "metadata": {},
   "outputs": [],
   "source": [
    "from networkx.algorithms.isomorphism import is_isomorphic\n",
    "def isomorphism_classes(graphs):\n",
    "    classes = []\n",
    "    for g in graphs:\n",
    "        graph = g[0]\n",
    "        appended = False\n",
    "        for class_ in classes:\n",
    "            if is_isomorphic(graph, class_[0][0]):\n",
    "                class_.append(g)\n",
    "                appended = True\n",
    "                break\n",
    "        if not appended:\n",
    "            classes.append([g])\n",
    "    return classes\n",
    "\n",
    "def prune_graphs(classes):\n",
    "    for class_ in classes:\n",
    "        while len(class_) > 1:\n",
    "            duplicate = class_.pop()\n",
    "            os.remove(duplicate[1])"
   ]
  },
  {
   "cell_type": "code",
   "execution_count": 4,
   "metadata": {},
   "outputs": [],
   "source": [
    "from classical_optimization.terra.utils import read_graph\n",
    "from classical_optimization.qaoa_circuits import plot_landscape\n",
    "def clean_up_graphs():\n",
    "    for folder in graph_folders:\n",
    "        path = os.path.join(dir_, folder)\n",
    "        files = [f for f in os.listdir(path)]\n",
    "        graphs = []\n",
    "        for f in files:\n",
    "            if 'pkl' in f:\n",
    "                f = os.path.join(dir_, folder, f)\n",
    "                data = read_graph(f)\n",
    "                graphs.append((data['graph'], f))\n",
    "                #DELETES FILES, UNCOMMENT CAREFULLY\n",
    "                if len(data) == 1:\n",
    "                    os.remove(f)\n",
    "        prune_graphs(isomorphism_classes(graphs))"
   ]
  },
  {
   "cell_type": "code",
   "execution_count": 5,
   "metadata": {
    "scrolled": true
   },
   "outputs": [],
   "source": [
    "import networkx as nx\n",
    "graph_sizes = []\n",
    "landscapes = []\n",
    "for folder in graph_folders:\n",
    "    these_graphs = []\n",
    "    these_landscapes = []\n",
    "    path = os.path.join(dir_, folder)\n",
    "    files = [f for f in os.listdir(path)]\n",
    "    graphs = []\n",
    "    for f in files:\n",
    "        f = os.path.join(dir_, folder, f)\n",
    "        graph_data = read_graph(f)\n",
    "        plot_data = max_landscape(graph_data)\n",
    "        if plot_data is not None:\n",
    "            data, max_beta, min_beta, max_gamma, min_gamma = plot_data\n",
    "            these_landscapes.append(data)\n",
    "            these_graphs.append(graph_data['graph'])\n",
    "            #nx.draw(graph_data['graph'])\n",
    "            #plt.show()\n",
    "            #plot_landscape(data, max_gamma, max_beta)\n",
    "            #plt.show()\n",
    "    graph_sizes.append(these_graphs)\n",
    "    landscapes.append(these_landscapes)"
   ]
  },
  {
   "cell_type": "markdown",
   "metadata": {},
   "source": [
    "# Utils"
   ]
  },
  {
   "cell_type": "code",
   "execution_count": 6,
   "metadata": {},
   "outputs": [],
   "source": [
    "from scipy.optimize import dual_annealing\n",
    "from classical_optimization.qaoa_circuits import execute_qaoa_circuit_and_estimate_cost\n",
    "import numpy as np\n",
    "from qiskit import Aer, execute\n",
    "from coldquanta.qiskit_tools.modeling.neutral_atom_noise_model import create_noise_model\n",
    "\n",
    "np.random.seed(666)\n",
    "reprate = 50 \n",
    "one_hour = 60 * 60 #seconds\n",
    "max_gamma = 2 * np.pi\n",
    "max_beta = np.pi\n",
    "simulator = Aer.get_backend('qasm_simulator')\n",
    "noise_model = create_noise_model(cz_fidelity=1)\n",
    "\n",
    "def weights(graph):\n",
    "    rtn = {}\n",
    "    for e in graph.edges:\n",
    "        weight = graph.get_edge_data(e[0], e[1])['weight']\n",
    "        rtn[e] = weight\n",
    "    return rtn\n",
    "\n",
    "def objective(graph):\n",
    "    #Hack for backwards compatibility.\n",
    "    num_rows = len(graph.nodes)\n",
    "    num_cols = 1\n",
    "\n",
    "    history = []\n",
    "    def store_log(func):\n",
    "        def logged_func(x):\n",
    "            history.append(x)\n",
    "            return func(x)\n",
    "        return logged_func\n",
    "\n",
    "    @store_log\n",
    "    def gamma_beta_objective(gamma_beta):\n",
    "        # The cut value is the expectation value, minima of the negation correspond to maxima.\n",
    "        return execute_qaoa_circuit_and_estimate_cost(gamma=gamma_beta[1], beta=gamma_beta[0],\n",
    "                                                       num_shots=shots_per_point,\n",
    "                                                       simulator=simulator,\n",
    "                                                       coupling_map=None,\n",
    "                                                       weights=weights(graph),\n",
    "                                                       rows=num_rows,\n",
    "                                                       cols=num_cols,\n",
    "                                                       noise_model=noise_model,\n",
    "                                                       # Just a fully random seed, in the full range.\n",
    "                                                       seed=np.random.randint(0,2**32 - 1))\n",
    "    return gamma_beta_objective, history\n",
    "\n"
   ]
  },
  {
   "cell_type": "markdown",
   "metadata": {},
   "source": [
    "# An annealing attempt on a graph."
   ]
  },
  {
   "cell_type": "code",
   "execution_count": 8,
   "metadata": {},
   "outputs": [
    {
     "name": "stderr",
     "output_type": "stream",
     "text": [
      "100%|██████████| 1/1 [00:00<00:00, 16.16it/s]\n"
     ]
    }
   ],
   "source": [
    "from tqdm import tqdm\n",
    "annealing_attempts = []\n",
    "for size in tqdm(graph_sizes[:1]):\n",
    "    size_attempts = []\n",
    "    for graph in size[:1]:\n",
    "        func, history = objective(graph)\n",
    "        initial_gamma_beta = [np.random.rand() * max_param for max_param in (max_gamma, max_beta)]\n",
    "        result = dual_annealing(\n",
    "            lambda x: -1*func(x),\n",
    "            bounds=[(0, max_gamma),\n",
    "                    (0, max_beta)],\n",
    "            x0=np.array(initial_gamma_beta),\n",
    "            # One annealing attempt.\n",
    "            maxiter=1,\n",
    "            initial_temp=10,\n",
    "            maxfun=one_hour*reprate,\n",
    "            restart_temp_ratio=1E-10,\n",
    "            no_local_search=True)\n",
    "        result.fun = -result.fun\n",
    "        size_attempts.append((result.x, result.fun))\n",
    "    annealing_attempts.append(size_attempts)\n",
    "        "
   ]
  },
  {
   "cell_type": "code",
   "execution_count": 9,
   "metadata": {},
   "outputs": [
    {
     "data": {
      "text/plain": [
       "[[(array([3.42032777, 2.65209056]), 2.221851097028419)]]"
      ]
     },
     "execution_count": 9,
     "metadata": {},
     "output_type": "execute_result"
    }
   ],
   "source": [
    "annealing_attempts"
   ]
  },
  {
   "cell_type": "markdown",
   "metadata": {},
   "source": [
    "# An ES attempt on a graph"
   ]
  },
  {
   "cell_type": "code",
   "execution_count": 14,
   "metadata": {},
   "outputs": [],
   "source": [
    "from es import SimpleGA, CMAES, PEPG, OpenES\n",
    "# defines OpenAI's ES algorithm solver. Note that we needed to anneal the sigma parameter\n",
    "NPARAMS = 2\n",
    "NPOPULATION = 100\n",
    "oes = OpenES(NPARAMS,                  # number of model parameters\n",
    "            sigma_init=0.025,            # initial standard deviation\n",
    "            sigma_decay=0.999,         # don't anneal standard deviation\n",
    "            learning_rate=0.005,         # learning rate for standard deviation\n",
    "            learning_rate_decay = 0.0, # annealing the learning rate\n",
    "            popsize=NPOPULATION,       # population size\n",
    "            antithetic=False,          # whether to use antithetic sampling\n",
    "            weight_decay=0.00,         # weight decay coefficient\n",
    "            rank_fitness=False,        # use rank rather than fitness numbers\n",
    "            forget_best=False)"
   ]
  },
  {
   "cell_type": "code",
   "execution_count": 15,
   "metadata": {},
   "outputs": [],
   "source": [
    "MAX_ITERATION = 500\n",
    "fit_func, history = objective(graph)\n",
    "# defines a function to use solver to solve fit_func\n",
    "def test_solver(solver):\n",
    "    history = []\n",
    "    for j in range(MAX_ITERATION):\n",
    "        solutions = solver.ask()\n",
    "        fitness_list = np.zeros(solver.popsize)\n",
    "        for i in range(solver.popsize):\n",
    "            fitness_list[i] = fit_func(solutions[i])\n",
    "        solver.tell(fitness_list)\n",
    "        result = solver.result() # first element is the best solution, second element is the best fitness\n",
    "        history.append(result[1])\n",
    "        if (j+1) % 100 == 0:\n",
    "            print(\"fitness at iteration\", (j+1), result[1])\n",
    "    print(\"local optimum discovered by solver:\\n\", result[0])\n",
    "    print(\"fitness score at this local optimum:\", result[1])\n",
    "    return history, result"
   ]
  },
  {
   "cell_type": "code",
   "execution_count": 16,
   "metadata": {},
   "outputs": [
    {
     "name": "stderr",
     "output_type": "stream",
     "text": [
      "\r",
      "  0%|          | 0/1 [00:00<?, ?it/s]"
     ]
    },
    {
     "name": "stdout",
     "output_type": "stream",
     "text": [
      "fitness at iteration 100 2.7498437683995642\n",
      "fitness at iteration 200 2.7498437683995642\n",
      "fitness at iteration 300 2.7498437683995642\n",
      "fitness at iteration 400 2.7530818991162436\n"
     ]
    },
    {
     "name": "stderr",
     "output_type": "stream",
     "text": [
      "100%|██████████| 1/1 [09:29<00:00, 569.19s/it]"
     ]
    },
    {
     "name": "stdout",
     "output_type": "stream",
     "text": [
      "fitness at iteration 500 2.764788877515453\n",
      "local optimum discovered by solver:\n",
      " [-0.00966231  0.00114483]\n",
      "fitness score at this local optimum: 2.764788877515453\n"
     ]
    },
    {
     "name": "stderr",
     "output_type": "stream",
     "text": [
      "\n"
     ]
    }
   ],
   "source": [
    "es_attempts = []\n",
    "for size in tqdm(graph_sizes[:1]):\n",
    "    size_attempts = []\n",
    "    for graph in size[:1]:\n",
    "        history, result = test_solver(oes)\n",
    "        size_attempts.append((result[0], result[1]))\n",
    "    es_attempts.append(size_attempts)"
   ]
  },
  {
   "cell_type": "markdown",
   "metadata": {},
   "source": [
    "# Compute Maxcut of Graphs"
   ]
  },
  {
   "cell_type": "code",
   "execution_count": 25,
   "metadata": {},
   "outputs": [
    {
     "name": "stderr",
     "output_type": "stream",
     "text": [
      "100%|██████████| 1/1 [00:00<00:00, 163.22it/s]\n"
     ]
    }
   ],
   "source": [
    "def cutsize(set1, set2, g):\n",
    "    cut = 0\n",
    "    for s1 in set1:\n",
    "        for s2 in set2:\n",
    "            if g.get_edge_data(s1, s2) is not None:\n",
    "                cut += g.get_edge_data(s1, s2)['weight']\n",
    "    return cut\n",
    "\n",
    "def maxcut(g, a=[], b=[], used=[]):\n",
    "    for node in g.nodes:\n",
    "        if node not in used:\n",
    "            left = maxcut(g, list(a) + [node], list(b), list(used) + [node])[0]\n",
    "            right = maxcut(g, list(a), list(b) + [node], list(used) + [node])[0]\n",
    "            if left > right:\n",
    "                a = list(a) + [node]\n",
    "                b = list(b)\n",
    "            else:\n",
    "                a = list(a)\n",
    "                b = list(b) + [node]\n",
    "    # There are no unused nodes, we've reached a leaf.\n",
    "    return cutsize(a, b, g), a, b\n",
    "\n",
    "maxcuts = []\n",
    "for size in tqdm(graph_sizes[:1]):\n",
    "    size_landscapes = []\n",
    "    for graph in size[:1]:\n",
    "        size_landscapes.append(maxcut(graph))\n",
    "    maxcuts.append(size_landscapes)"
   ]
  },
  {
   "cell_type": "code",
   "execution_count": 26,
   "metadata": {},
   "outputs": [
    {
     "data": {
      "text/plain": [
       "[[(2.860063770067472, [1, 3], [0, 2])]]"
      ]
     },
     "execution_count": 26,
     "metadata": {},
     "output_type": "execute_result"
    }
   ],
   "source": [
    "maxcuts"
   ]
  },
  {
   "cell_type": "markdown",
   "metadata": {},
   "source": [
    "# Compute Maximum Landscape Value for Concentration"
   ]
  },
  {
   "cell_type": "code",
   "execution_count": 31,
   "metadata": {},
   "outputs": [
    {
     "name": "stderr",
     "output_type": "stream",
     "text": [
      "100%|██████████| 1/1 [00:00<00:00, 1633.93it/s]\n"
     ]
    }
   ],
   "source": [
    "from classical_optimization.qaoa_circuits import plot_landscape\n",
    "import matplotlib.pyplot as plt\n",
    "maxargs = []\n",
    "for size in tqdm(landscapes[:1]):\n",
    "    size_args = []\n",
    "    for landscape in size[:1]:\n",
    "        size_args.append((np.argmax(landscape), np.max(landscape)))\n",
    "    maxargs.append(size_args)"
   ]
  }
 ],
 "metadata": {
  "kernelspec": {
   "display_name": "Python 3",
   "language": "python",
   "name": "python3"
  },
  "language_info": {
   "codemirror_mode": {
    "name": "ipython",
    "version": 3
   },
   "file_extension": ".py",
   "mimetype": "text/x-python",
   "name": "python",
   "nbconvert_exporter": "python",
   "pygments_lexer": "ipython3",
   "version": "3.8.5"
  }
 },
 "nbformat": 4,
 "nbformat_minor": 4
}
