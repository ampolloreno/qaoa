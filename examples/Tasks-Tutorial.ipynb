{
 "cells": [
  {
   "cell_type": "markdown",
   "metadata": {},
   "source": [
    "# QAOA Tasks Tutorial"
   ]
  },
  {
   "cell_type": "code",
   "execution_count": null,
   "metadata": {},
   "outputs": [],
   "source": [
    "from cirq.google.devices.serializable_device import SerializableDevice\n",
    "%load_ext autoreload\n",
    "%autoreload 2\n",
    "%pdb"
   ]
  },
  {
   "cell_type": "markdown",
   "metadata": {},
   "source": [
    "## Problem Generation\n",
    "\n",
    "First, we generate and save all of the random instances of the problem. This is not computationally intensive but very important to do first so we have a fixed set of random instances."
   ]
  },
  {
   "cell_type": "code",
   "execution_count": null,
   "metadata": {},
   "outputs": [],
   "source": [
    "import recirq\n",
    "from recirq.qaoa.experiments.problem_generation_tasks import \\\n",
    "    SKProblemGenerationTask, HardwareGridProblemGenerationTask, ThreeRegularProblemGenerationTask, \\\n",
    "    generate_3_regular_problem, generate_sk_problem, generate_hardware_grid_problem\n",
    "\n",
    "pgen_dataset_id = '2020-06-tutorial'\n",
    "hardware_grid_problem_tasks = [\n",
    "    HardwareGridProblemGenerationTask(\n",
    "        dataset_id=pgen_dataset_id,\n",
    "        device_name='ColdQuanta16',\n",
    "        instance_i=i,\n",
    "        n_qubits=n\n",
    "    )\n",
    "    for i in range(5)\n",
    "    for n in [9]\n",
    "]\n",
    "recirq.display_markdown_docstring(HardwareGridProblemGenerationTask)"
   ]
  },
  {
   "cell_type": "markdown",
   "metadata": {},
   "source": [
    "### Run the tasks"
   ]
  },
  {
   "cell_type": "code",
   "execution_count": null,
   "metadata": {},
   "outputs": [],
   "source": [
    "for task in hardware_grid_problem_tasks:\n",
    "    generate_hardware_grid_problem(task)"
   ]
  },
  {
   "cell_type": "markdown",
   "metadata": {},
   "source": [
    "## Angle Precomputation"
   ]
  },
  {
   "cell_type": "code",
   "execution_count": null,
   "metadata": {},
   "outputs": [],
   "source": [
    "from recirq.qaoa.experiments.angle_precomputation_tasks import \\\n",
    "    AnglePrecomputationTask, precompute_angles\n",
    "\n",
    "apre_dataset_id = '2020-06-tutorial'\n",
    "precompute_tasks = [\n",
    "    AnglePrecomputationTask(\n",
    "        dataset_id=apre_dataset_id,\n",
    "        generation_task=gen_task,\n",
    "        p=p)\n",
    "    for gen_task in recirq.roundrobin(\n",
    "        hardware_grid_problem_tasks\n",
    "    )\n",
    "    for p in [1]\n",
    "]\n",
    "recirq.display_markdown_docstring(AnglePrecomputationTask)"
   ]
  },
  {
   "cell_type": "code",
   "execution_count": null,
   "metadata": {},
   "outputs": [],
   "source": [
    "for task in precompute_tasks:\n",
    "    precompute_angles(task)"
   ]
  },
  {
   "cell_type": "markdown",
   "metadata": {},
   "source": [
    "## Precomputed Angle Data Collection"
   ]
  },
  {
   "cell_type": "code",
   "execution_count": null,
   "metadata": {},
   "outputs": [],
   "source": [
    "from recirq.qaoa.experiments.precomputed_execution_tasks import \\\n",
    "    PrecomputedDataCollectionTask, collect_data\n",
    "    \n",
    "\n",
    "dcol_dataset_id = '2020-06-tutorial'\n",
    "data_collection_tasks = [\n",
    "    PrecomputedDataCollectionTask(\n",
    "        dataset_id=dcol_dataset_id,\n",
    "        precomputation_task=pre_task,\n",
    "        device_name='ColdQuanta16-simulator',\n",
    "        n_shots=1_000,\n",
    "        structured=True,\n",
    "    )\n",
    "    for pre_task in precompute_tasks\n",
    "]\n",
    "recirq.display_markdown_docstring(PrecomputedDataCollectionTask)"
   ]
  },
  {
   "cell_type": "code",
   "execution_count": null,
   "metadata": {
    "scrolled": true
   },
   "outputs": [],
   "source": [
    "await recirq.execute_in_queue(collect_data, data_collection_tasks, num_workers=2)"
   ]
  },
  {
   "cell_type": "markdown",
   "metadata": {},
   "source": [
    "## Landscape Data Collection"
   ]
  },
  {
   "cell_type": "code",
   "execution_count": null,
   "metadata": {},
   "outputs": [],
   "source": [
    "from recirq.qaoa.experiments.p1_landscape_tasks import \\\n",
    "    P1LandscapeDataCollectionTask, \\\n",
    "    get_data_collection_tasks_on_a_grid, \\\n",
    "    collect_either_landscape_or_cal\n",
    "\n",
    "recirq.display_markdown_docstring(P1LandscapeDataCollectionTask)"
   ]
  },
  {
   "cell_type": "code",
   "execution_count": null,
   "metadata": {
    "scrolled": true
   },
   "outputs": [],
   "source": [
    "hardware_grid_problem_task = HardwareGridProblemGenerationTask(\n",
    "    dataset_id=pgen_dataset_id,\n",
    "    device_name='ColdQuanta16',\n",
    "    instance_i=1,\n",
    "    n_qubits=9\n",
    ")\n",
    "data_collection_tasks = get_data_collection_tasks_on_a_grid(\n",
    "    pgen_task=hardware_grid_problem_task,\n",
    "    dataset_id=dcol_dataset_id,\n",
    "    gamma_res=11,\n",
    "    beta_res=11,\n",
    "    device_name='ColdQuanta16-simulator',\n",
    "    epoch=\"grid\")\n",
    "\n",
    "await recirq.execute_in_queue(collect_either_landscape_or_cal,\n",
    "                              data_collection_tasks,\n",
    "                              num_workers=2)"
   ]
  },
  {
   "cell_type": "code",
   "execution_count": null,
   "metadata": {},
   "outputs": [],
   "source": [
    "import recirq\n",
    "import cirq\n",
    "import numpy as np\n",
    "import pandas as pd\n",
    "from datetime import datetime\n",
    "from recirq.qaoa.experiments.p1_landscape_tasks import \\\n",
    "    DEFAULT_BASE_DIR, DEFAULT_PROBLEM_GENERATION_BASE_DIR, DEFAULT_PRECOMPUTATION_BASE_DIR, \\\n",
    "    ReadoutCalibrationTask\n",
    "\n",
    "records = []\n",
    "ro_records = []\n",
    "for record in recirq.iterload_records(dataset_id=\"2020-06-tutorial\", base_dir=DEFAULT_BASE_DIR):\n",
    "    record['timestamp'] = datetime.fromisoformat(record['timestamp'])\n",
    "    dc_task = record['task']\n",
    "    \n",
    "    if isinstance(dc_task, ReadoutCalibrationTask):\n",
    "        ro_records.append(record)\n",
    "        continue\n",
    "    \n",
    "    pgen_task = dc_task.generation_task    \n",
    "    problem = recirq.load(pgen_task, base_dir=DEFAULT_PROBLEM_GENERATION_BASE_DIR)['problem']\n",
    "    record['problem'] = problem.graph\n",
    "    record['problem_type'] = problem.__class__.__name__\n",
    "    record['bitstrings'] = record['bitstrings'].bits\n",
    "    recirq.flatten_dataclass_into_record(record, 'task')\n",
    "    recirq.flatten_dataclass_into_record(record, 'generation_task')    \n",
    "    records.append(record)\n",
    "    \n",
    "# Associate each data collection task with its nearest readout calibration\n",
    "for record in sorted(records, key=lambda x: x['timestamp']):\n",
    "    record['ro'] = min(ro_records, key=lambda x: abs((x['timestamp']-record['timestamp']).total_seconds()))\n",
    "    \n",
    "df_raw = pd.DataFrame(records)    \n",
    "df_raw.head()"
   ]
  },
  {
   "cell_type": "code",
   "execution_count": null,
   "metadata": {},
   "outputs": [],
   "source": [
    "from recirq.qaoa.simulation import hamiltonian_objectives\n",
    "\n",
    "def compute_energies(row):\n",
    "    permutation = []\n",
    "    qubit_map = {}\n",
    "    for i, q in enumerate(row['qubits']):\n",
    "        fi = row['final_qubits'].index(q)\n",
    "        permutation.append(fi)\n",
    "        qubit_map[i] = q\n",
    "        \n",
    "    return hamiltonian_objectives(row['bitstrings'], \n",
    "                                  row['problem'], \n",
    "                                  permutation,\n",
    "                                  row['ro']['calibration'],\n",
    "                                  qubit_map)\n",
    "\n",
    "# Start cleaning up the raw data\n",
    "df = df_raw.copy()\n",
    "df = df.drop(['line_placement_strategy', \n",
    "              'generation_task.dataset_id', \n",
    "              'generation_task.device_name'], axis=1)\n",
    "\n",
    "# Compute energies\n",
    "df['energies'] = df.apply(compute_energies, axis=1)\n",
    "df = df.drop(['bitstrings', 'problem', 'ro', 'qubits', 'final_qubits'], axis=1)\n",
    "df['energy'] = df.apply(lambda row: np.mean(row['energies']), axis=1)\n",
    "\n",
    "# We won't do anything with raw energies right now\n",
    "df = df.drop('energies', axis=1)\n",
    "\n",
    "# Do timing somewhere else\n",
    "df = df.drop([col for col in df.columns if col.endswith('_time')], axis=1)\n",
    "\n",
    "df"
   ]
  },
  {
   "cell_type": "code",
   "execution_count": null,
   "metadata": {},
   "outputs": [],
   "source": [
    "def get_problem_graph(problem_type,\n",
    "                    n=None,\n",
    "                    instance_i=0):\n",
    "    if n is None:\n",
    "        if problem_type == 'HardwareGridProblem':\n",
    "            n = 4\n",
    "        elif problem_type == 'SKProblem':\n",
    "            n = 3\n",
    "        elif problem_type == 'ThreeRegularProblem':\n",
    "            n = 4\n",
    "        else:\n",
    "            raise ValueError(repr(problem_type))\n",
    "    \n",
    "    r = df_raw[\n",
    "        (df_raw['problem_type']==problem_type)&\n",
    "        (df_raw['n_qubits']==n)&\n",
    "        (df_raw['instance_i']==instance_i)\n",
    "    ]['problem']\n",
    "    return r.iloc[0]\n",
    "\n",
    "\n",
    "from recirq.qaoa.simulation import exact_qaoa_values_on_grid, lowest_and_highest_energy\n",
    "import itertools\n",
    "\n",
    "def compute_exact_values(problem_type, x_grid_num=23, y_grid_num=21):\n",
    "    exact = exact_qaoa_values_on_grid(\n",
    "        graph=get_problem_graph(problem_type),\n",
    "        num_processors=12,\n",
    "        x_grid_num=x_grid_num,\n",
    "        y_grid_num=y_grid_num,\n",
    "    ).T.reshape(-1)\n",
    "    \n",
    "    exact_gammas = np.linspace(0, np.pi/2, x_grid_num)\n",
    "    exact_betas  = np.linspace(-np.pi/4, np.pi/4, y_grid_num)\n",
    "    exact_points = np.asarray(list(itertools.product(exact_gammas, exact_betas)))\n",
    "    min_c, max_c = lowest_and_highest_energy(get_problem_graph(problem_type))\n",
    "    return exact_points, exact, min_c, max_c\n",
    "\n",
    "EXACT_VALS_CACHE = {k: compute_exact_values(k) \n",
    "                    for k in ['HardwareGridProblem']}"
   ]
  },
  {
   "cell_type": "code",
   "execution_count": null,
   "metadata": {},
   "outputs": [],
   "source": [
    "%matplotlib inline\n",
    "from matplotlib import pyplot as plt\n",
    "\n",
    "import seaborn as sns\n",
    "sns.set_style('ticks')\n",
    "\n",
    "plt.rc('axes', labelsize=16, titlesize=16)\n",
    "plt.rc('xtick', labelsize=14)\n",
    "plt.rc('ytick', labelsize=14)\n",
    "plt.rc('legend', fontsize=14, title_fontsize=16)\n",
    "\n",
    "# Note: I ran into https://github.com/matplotlib/matplotlib/issues/15410\n",
    "# if I imported matplotlib before using multiprocessing in `exact_qaoa_values_on_grid`, YMMV."
   ]
  },
  {
   "cell_type": "code",
   "execution_count": null,
   "metadata": {},
   "outputs": [],
   "source": [
    "import scipy.interpolate\n",
    "\n",
    "def plot_landscape(problem_type, res=200, method='nearest', cmap='PuOr'):\n",
    "    dfb = df\n",
    "    dfb = dfb[dfb['problem_type'] == problem_type]\n",
    "    xx, yy = np.meshgrid(np.linspace(0, np.pi/2, res), np.linspace(-np.pi/4, np.pi/4, res))\n",
    "    exact_points, exact, min_c, max_c = EXACT_VALS_CACHE[problem_type]\n",
    "\n",
    "    zz = scipy.interpolate.griddata(\n",
    "        points=dfb[['gamma', 'beta']].values,\n",
    "        values=dfb['energy'].values / min_c,\n",
    "        xi=(xx, yy),\n",
    "        method=method,\n",
    "    )\n",
    "\n",
    "    fig, (axl, axr) = plt.subplots(1, 2, figsize=(5*2, 5), sharey=True)\n",
    "    norm = plt.Normalize(max_c/min_c, min_c/min_c)\n",
    "    cmap = 'RdBu'\n",
    "    extent=(0, 4, -2, 2)\n",
    "    \n",
    "    axl.imshow(zz, extent=extent, origin='lower', cmap=cmap, norm=norm, interpolation='none')\n",
    "    axl.set_xlabel(r'$\\gamma\\ /\\ (\\pi/8)$')\n",
    "    axl.set_ylabel(r'$\\beta\\ /\\ (\\pi/8)$')\n",
    "    axl.set_title('Experiment')\n",
    "    \n",
    "    zz_exact = scipy.interpolate.griddata(\n",
    "        points=exact_points,\n",
    "        values=(exact/min_c),\n",
    "        xi=(xx, yy),\n",
    "        method=method,\n",
    "    )\n",
    "\n",
    "    g = axr.imshow(zz_exact, extent=extent, origin='lower', cmap=cmap, norm=norm, interpolation='none')\n",
    "    axr.set_xlabel(r'$\\gamma\\ /\\ (\\pi/8)$')\n",
    "    axr.set_title('Theory')\n",
    "\n",
    "    fig.colorbar(g, ax=[axl, axr], shrink=0.8)"
   ]
  },
  {
   "cell_type": "code",
   "execution_count": null,
   "metadata": {},
   "outputs": [],
   "source": [
    "plot_landscape('HardwareGridProblem')"
   ]
  }
 ],
 "metadata": {
  "kernelspec": {
   "display_name": "Python 3",
   "language": "python",
   "name": "python3"
  },
  "language_info": {
   "codemirror_mode": {
    "name": "ipython",
    "version": 3
   },
   "file_extension": ".py",
   "mimetype": "text/x-python",
   "name": "python",
   "nbconvert_exporter": "python",
   "pygments_lexer": "ipython3",
   "version": "3.7.4"
  }
 },
 "nbformat": 4,
 "nbformat_minor": 4
}
