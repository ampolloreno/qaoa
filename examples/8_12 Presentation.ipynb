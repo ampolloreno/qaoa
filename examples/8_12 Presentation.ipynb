{
 "cells": [
  {
   "cell_type": "code",
   "execution_count": null,
   "metadata": {},
   "outputs": [],
   "source": [
    "%load_ext autoreload\n",
    "%autoreload 2\n",
    "%pdb"
   ]
  },
  {
   "cell_type": "code",
   "execution_count": null,
   "metadata": {},
   "outputs": [],
   "source": [
    "import os\n",
    "import matplotlib.pyplot as plt\n",
    "dir_ = '../../'\n",
    "graph_folders = [folder for folder in os.listdir(dir_) if 'graphs' in folder]"
   ]
  },
  {
   "cell_type": "code",
   "execution_count": null,
   "metadata": {},
   "outputs": [],
   "source": [
    "def max_landscape(data):\n",
    "    maximum = 0\n",
    "    max_key = None\n",
    "    for k, _ in data.items():\n",
    "        if 'landscape' in k:\n",
    "            disc = int(k.split('_')[1][1:])\n",
    "            if disc > maximum:\n",
    "                maximum = disc\n",
    "                max_key = k\n",
    "    if max_key is None:\n",
    "        print(\"nothing here!\")\n",
    "    else:\n",
    "        beta = float(max_key.split('_')[2][1:])\n",
    "        gamma = float(max_key.split('_')[3][1:])\n",
    "        return data[max_key], gamma, beta"
   ]
  },
  {
   "cell_type": "code",
   "execution_count": null,
   "metadata": {},
   "outputs": [],
   "source": [
    "from networkx.algorithms.isomorphism import is_isomorphic\n",
    "def isomorphism_classes(graphs):\n",
    "    classes = []\n",
    "    for g in graphs:\n",
    "        graph = g[0]\n",
    "        appended = False\n",
    "        for class_ in classes:\n",
    "            if is_isomorphic(graph, class_[0][0]):\n",
    "                class_.append(g)\n",
    "                appended = True\n",
    "                break\n",
    "        if not appended:\n",
    "            classes.append([g])\n",
    "    return classes\n",
    "\n",
    "def prune_graphs(classes):\n",
    "    for class_ in classes:\n",
    "        while len(class_) > 1:\n",
    "            duplicate = class_.pop()\n",
    "            os.remove(duplicate[1])"
   ]
  },
  {
   "cell_type": "code",
   "execution_count": null,
   "metadata": {},
   "outputs": [],
   "source": [
    "from classical_optimization.terra.utils import read_graph\n",
    "from classical_optimization.qaoa_circuits import plot_landscape\n",
    "def clean_up_graphs():\n",
    "    for folder in graph_folders:\n",
    "        path = os.path.join(dir_, folder)\n",
    "        files = [f for f in os.listdir(path)]\n",
    "        graphs = []\n",
    "        for f in files:\n",
    "            if 'pkl' in f:\n",
    "                f = os.path.join(dir_, folder, f)\n",
    "                data = read_graph(f)\n",
    "                graphs.append((data['graph'], f))\n",
    "                #DELETES FILES, UNCOMMENT CAREFULLY\n",
    "                if len(data) == 1:\n",
    "                    os.remove(f)\n",
    "        prune_graphs(isomorphism_classes(graphs))"
   ]
  },
  {
   "cell_type": "code",
   "execution_count": null,
   "metadata": {},
   "outputs": [],
   "source": [
    "import networkx as nx\n",
    "for folder in graph_folders:\n",
    "        path = os.path.join(dir_, folder)\n",
    "        files = [f for f in os.listdir(path)]\n",
    "        graphs = []\n",
    "        for f in files:\n",
    "            f = os.path.join(dir_, folder, f)\n",
    "            data = read_graph(f)\n",
    "            nx.draw(data['graph'])\n",
    "            plt.show()\n",
    "            plot_data = max_landscape(data)\n",
    "            if plot_data is not None:\n",
    "                print(path)\n",
    "                plot_landscape(*plot_data)\n",
    "            plt.show()"
   ]
  }
 ],
 "metadata": {
  "kernelspec": {
   "display_name": "Python 3",
   "language": "python",
   "name": "python3"
  },
  "language_info": {
   "codemirror_mode": {
    "name": "ipython",
    "version": 3
   },
   "file_extension": ".py",
   "mimetype": "text/x-python",
   "name": "python",
   "nbconvert_exporter": "python",
   "pygments_lexer": "ipython3",
   "version": "3.7.4"
  }
 },
 "nbformat": 4,
 "nbformat_minor": 4
}
