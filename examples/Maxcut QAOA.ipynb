{
 "cells": [
  {
   "cell_type": "code",
   "execution_count": null,
   "metadata": {},
   "outputs": [],
   "source": [
    "from coldquanta.qiskit_tools.coldquanta_sim_backend import ColdQuantaSimBackend\n",
    "%load_ext autoreload\n",
    "%autoreload 2\n",
    "\n",
    "rows = 2\n",
    "cols = 2\n",
    "neutral_atom = ColdQuantaSimBackend(rows=rows, cols=cols)\n",
    "neutral_atom_config = neutral_atom.configuration()\n",
    "coupling_map = neutral_atom_config.coupling_map"
   ]
  },
  {
   "cell_type": "code",
   "execution_count": null,
   "metadata": {},
   "outputs": [],
   "source": [
    "from networkx import Graph, draw_planar\n",
    "g = Graph(coupling_map)\n",
    "draw_planar(g)"
   ]
  },
  {
   "cell_type": "code",
   "execution_count": null,
   "metadata": {},
   "outputs": [],
   "source": [
    "import numpy as np\n",
    "\n",
    "np.random.seed(137)\n",
    "weights = set()\n",
    "for k in coupling_map:\n",
    "    weights.add((min(k), max(k)))\n",
    "# Fix the weights to 1, for now.\n",
    "weights = {k: 1  for k in weights}"
   ]
  },
  {
   "cell_type": "code",
   "execution_count": null,
   "metadata": {},
   "outputs": [],
   "source": [
    "from classical_optimization.qaoa_circuits import maxcut_qaoa_circuit"
   ]
  },
  {
   "cell_type": "code",
   "execution_count": null,
   "metadata": {
    "scrolled": true
   },
   "outputs": [],
   "source": [
    "print(maxcut_qaoa_circuit(gammas=[0,0],betas=[0,0], p=1, weights=weights, rows=rows, cols=cols))"
   ]
  },
  {
   "cell_type": "code",
   "execution_count": null,
   "metadata": {},
   "outputs": [],
   "source": [
    "def produce_gammas_betas(discretization, max_gamma, max_beta):\n",
    "    return np.linspace(0, max_gamma, discretization), np.linspace(0, max_beta, discretization)\n",
    "\n",
    "discretization = 20\n",
    "max_gamma = max_beta = np.pi\n",
    "gammas, betas = produce_gammas_betas(discretization, max_gamma, max_beta)"
   ]
  },
  {
   "cell_type": "code",
   "execution_count": null,
   "metadata": {},
   "outputs": [],
   "source": [
    "from qiskit import Aer, execute\n",
    "simulator = Aer.get_backend('qasm_simulator')\n",
    "num_shots = 1024\n",
    "experiments = []\n",
    "for gamma in gammas:\n",
    "    for beta in betas:\n",
    "        experiments.append(maxcut_qaoa_circuit(gammas=[gamma], betas=[beta], p=1, rows=rows, cols=cols, weights=weights))\n",
    "job = execute(experiments, backend=simulator, shots=num_shots)    \n",
    "all_counts = job.result().get_counts()"
   ]
  },
  {
   "cell_type": "code",
   "execution_count": null,
   "metadata": {},
   "outputs": [],
   "source": [
    "from classical_optimization.qaoa_circuits import estimate_cost\n",
    "\n",
    "landscape = np.zeros((discretization, discretization))\n",
    "for i, gamma in enumerate(gammas):\n",
    "    for j, beta in enumerate(betas):\n",
    "        landscape[i][j] = estimate_cost(all_counts[i*len(betas) + j], weights)"
   ]
  },
  {
   "cell_type": "code",
   "execution_count": null,
   "metadata": {},
   "outputs": [],
   "source": [
    "from classical_optimization.qaoa_circuits import plot_landscape\n",
    "\n",
    "plot_landscape(landscape, max_gamma, max_beta, colorbar=True)"
   ]
  },
  {
   "cell_type": "code",
   "execution_count": null,
   "metadata": {},
   "outputs": [],
   "source": [
    "from qiskit.visualization import plot_histogram\n",
    "\n",
    "plot_histogram(all_counts[np.argmax(landscape)])"
   ]
  },
  {
   "cell_type": "markdown",
   "metadata": {},
   "source": [
    "# Now introduce noise!"
   ]
  },
  {
   "cell_type": "code",
   "execution_count": null,
   "metadata": {},
   "outputs": [],
   "source": [
    "from coldquanta.qiskit_tools.modeling.neutral_atom_noise_model import create_noise_model"
   ]
  },
  {
   "cell_type": "code",
   "execution_count": null,
   "metadata": {},
   "outputs": [],
   "source": [
    "noise_model = create_noise_model()"
   ]
  },
  {
   "cell_type": "code",
   "execution_count": null,
   "metadata": {},
   "outputs": [],
   "source": [
    "noise_model = create_noise_model(cz_fidelity=0.7)\n",
    "\n",
    "experiments = []\n",
    "for gamma in gammas:\n",
    "    for beta in betas:\n",
    "        experiments.append(maxcut_qaoa_circuit(gammas=[gamma], betas=[beta], p=1, rows=rows, cols=cols, weights=weights))\n",
    "job = execute(experiments,\n",
    "              simulator,\n",
    "              noise_model=noise_model,\n",
    "              coupling_map=coupling_map,\n",
    "              optimization_level=0,\n",
    "              shots=num_shots)  \n",
    "all_counts = job.result().get_counts()"
   ]
  },
  {
   "cell_type": "code",
   "execution_count": null,
   "metadata": {},
   "outputs": [],
   "source": [
    "noisy_landscape = np.zeros((discretization, discretization))\n",
    "for i, gamma in enumerate(gammas):\n",
    "    for j, beta in enumerate(betas):\n",
    "        noisy_landscape[i][j] = estimate_cost(all_counts[i*len(betas) + j], weights)"
   ]
  },
  {
   "cell_type": "code",
   "execution_count": null,
   "metadata": {
    "scrolled": false
   },
   "outputs": [],
   "source": [
    "plot_landscape(noisy_landscape, max_gamma, max_beta);"
   ]
  },
  {
   "cell_type": "code",
   "execution_count": null,
   "metadata": {},
   "outputs": [],
   "source": [
    "plot_histogram(all_counts[np.argmax(noisy_landscape)])"
   ]
  },
  {
   "cell_type": "markdown",
   "metadata": {},
   "source": [
    "# Include Classical Optimizer"
   ]
  },
  {
   "cell_type": "code",
   "execution_count": null,
   "metadata": {},
   "outputs": [],
   "source": [
    "from classical_optimization.qaoa_circuits import execute_qaoa_circuit_and_estimate_cost\n",
    "simulator = Aer.get_backend('qasm_simulator')\n",
    "shots_per_point = 1000"
   ]
  },
  {
   "cell_type": "code",
   "execution_count": null,
   "metadata": {
    "scrolled": false
   },
   "outputs": [],
   "source": [
    "from classical_optimization.qaoa_circuits import try_optimizer\n",
    "import matplotlib.pyplot as plt\n",
    "\n",
    "for method in ['nelder-mead', 'powell']:\n",
    "    history = []\n",
    "    result = try_optimizer(method, simulator, neutral_atom_config.coupling_map, shots_per_point,\n",
    "                           weights, max_gamma, max_beta, rows, cols, history)\n",
    "    history.append(result.x) #We will append the last visited point, since the plotting assumes this is the optimal value.\n",
    "    plot_landscape(landscape, max_gamma, max_beta, history=history, discretization=discretization)\n",
    "    plt.title(method)\n",
    "    plt.show()"
   ]
  },
  {
   "cell_type": "markdown",
   "metadata": {},
   "source": [
    "## Larger Depths!"
   ]
  },
  {
   "cell_type": "code",
   "execution_count": null,
   "metadata": {},
   "outputs": [],
   "source": [
    "discretization = 8\n",
    "max_gamma = max_beta = np.pi\n",
    "gammas, betas = produce_gammas_betas(discretization, max_gamma, max_beta)"
   ]
  },
  {
   "cell_type": "code",
   "execution_count": null,
   "metadata": {},
   "outputs": [],
   "source": [
    "import tqdm as tqdm\n",
    "from qiskit import Aer, execute\n",
    "simulator = Aer.get_backend('qasm_simulator')\n",
    "num_shots = 1024\n",
    "experiments = []\n",
    "for gamma in gammas:\n",
    "    for beta in betas:\n",
    "        for gamma1 in gammas:\n",
    "            for beta1 in betas:\n",
    "                experiments.append(maxcut_qaoa_circuit(gammas=[gamma, gamma1], betas=[beta, beta1], p=2, rows=rows, cols=cols, weights=weights))\n",
    "job = execute(experiments, backend=simulator, shots=num_shots)    \n",
    "all_counts = job.result().get_counts()"
   ]
  },
  {
   "cell_type": "code",
   "execution_count": null,
   "metadata": {},
   "outputs": [],
   "source": [
    "landscape = np.zeros((discretization, discretization, discretization, discretization))\n",
    "for i, gamma in enumerate(gammas):\n",
    "    for j, beta in enumerate(betas):\n",
    "        for k, gamma in enumerate(gammas):\n",
    "            for l, beta in enumerate(betas):\n",
    "                landscape[i][j][k][l] = estimate_cost(all_counts[i*len(betas)*len(gammas)*len(betas)+j*len(betas)*len(gammas)+k*len(betas) + l], weights)"
   ]
  },
  {
   "cell_type": "code",
   "execution_count": null,
   "metadata": {
    "scrolled": true
   },
   "outputs": [],
   "source": [
    "plot_landscape(landscape[np.unravel_index(landscape.argmax(), landscape.shape)[0:2]], max_gamma, max_beta, colorbar=True)"
   ]
  },
  {
   "cell_type": "code",
   "execution_count": null,
   "metadata": {},
   "outputs": [],
   "source": [
    "plot_histogram(all_counts[landscape.argmax()])"
   ]
  }
 ],
 "metadata": {
  "kernelspec": {
   "display_name": "Python 3",
   "language": "python",
   "name": "python3"
  },
  "language_info": {
   "codemirror_mode": {
    "name": "ipython",
    "version": 3
   },
   "file_extension": ".py",
   "mimetype": "text/x-python",
   "name": "python",
   "nbconvert_exporter": "python",
   "pygments_lexer": "ipython3",
   "version": "3.7.4"
  }
 },
 "nbformat": 4,
 "nbformat_minor": 4
}
