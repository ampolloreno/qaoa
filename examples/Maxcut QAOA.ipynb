{
 "cells": [
  {
   "cell_type": "code",
   "execution_count": 1,
   "metadata": {},
   "outputs": [],
   "source": [
    "# For this notebook, we've picked an instance of maxcut. Other problems are more interesting,\n",
    "# but this is the one always used in the literature.\n",
    "\n",
    "# The goal here is to setup a Maxcut QAOA instance using qiskit, and execute it on the qiskit simulator\n",
    "# using the ColdQuanta API. To validate our results, we will look for the canonical ``qaoa landscape\" and \n",
    "# see that it loses contrast when the noise is increased."
   ]
  },
  {
   "cell_type": "code",
   "execution_count": 2,
   "metadata": {},
   "outputs": [],
   "source": [
    "from coldquanta.qiskit_tools.coldquanta_sim_backend import ColdQuantaSimBackend\n",
    "# Set up a 2x2 grid topology.\n",
    "rows = 1\n",
    "cols = 2\n",
    "neutral_atom = ColdQuantaSimBackend(rows=rows, cols=cols)\n",
    "neutral_atom_config = neutral_atom.configuration()\n",
    "coupling_map = neutral_atom_config.coupling_map"
   ]
  },
  {
   "cell_type": "code",
   "execution_count": 3,
   "metadata": {},
   "outputs": [
    {
     "name": "stderr",
     "output_type": "stream",
     "text": [
      "/Users/anthonypolloreno/.pyenv/versions/3.7.4/envs/qaoa_venv/lib/python3.7/site-packages/networkx/drawing/layout.py:950: FutureWarning: arrays to stack must be passed as a \"sequence\" type such as list or tuple. Support for non-sequence iterables such as generators is deprecated as of NumPy 1.16 and will raise an error in the future.\n",
      "  pos = np.row_stack((pos[x] for x in node_list))\n"
     ]
    },
    {
     "data": {
      "image/png": "[encoded data removed]",
      "text/plain": [
       "<Figure size 432x288 with 1 Axes>"
      ]
     },
     "metadata": {},
     "output_type": "display_data"
    }
   ],
   "source": [
    "from networkx import Graph, draw_planar\n",
    "g = Graph(coupling_map)\n",
    "draw_planar(g)"
   ]
  },
  {
   "cell_type": "code",
   "execution_count": 4,
   "metadata": {},
   "outputs": [],
   "source": [
    "# We will currently only accept QAOA instances on graphs isomorphic to our own -\n",
    "# i.e. we are not implementing a compiler. Provide them as a dictionary.\n",
    "\n",
    "# Uniform weights.\n",
    "weights = set()\n",
    "for k in coupling_map:\n",
    "    weights.add((min(k), max(k)))\n",
    "weights = {k: 1 for k in weights}"
   ]
  },
  {
   "cell_type": "code",
   "execution_count": 5,
   "metadata": {},
   "outputs": [],
   "source": [
    "from classical_optimization.qaoa_circuits import maxcut_qaoa_circuit"
   ]
  },
  {
   "cell_type": "code",
   "execution_count": 6,
   "metadata": {},
   "outputs": [
    {
     "data": {
      "text/html": [
       "<pre style=\"word-wrap: normal;white-space: pre;background: #fff0;line-height: 1.1;font-family: &quot;Courier New&quot;,Courier,monospace\">        ┌───┐ ░                                     ░ ┌───────┐ ░ ┌─┐   \n",
       "   q_0: ┤ H ├─░───────■─────────────────────■───────░─┤ RX(0) ├─░─┤M├───\n",
       "        ├───┤ ░ ┌───┐ │ ┌───┐┌───────┐┌───┐ │ ┌───┐ ░ ├───────┤ ░ └╥┘┌─┐\n",
       "   q_1: ┤ H ├─░─┤ H ├─■─┤ H ├┤ RZ(0) ├┤ H ├─■─┤ H ├─░─┤ RX(0) ├─░──╫─┤M├\n",
       "        └───┘ ░ └───┘   └───┘└───────┘└───┘   └───┘ ░ └───────┘ ░  ║ └╥┘\n",
       "meas_0: ═══════════════════════════════════════════════════════════╩══╬═\n",
       "                                                                      ║ \n",
       "meas_1: ══════════════════════════════════════════════════════════════╩═\n",
       "                                                                        </pre>"
      ],
      "text/plain": [
       "        ┌───┐ ░                                     ░ ┌───────┐ ░ ┌─┐   \n",
       "   q_0: ┤ H ├─░───────■─────────────────────■───────░─┤ RX(0) ├─░─┤M├───\n",
       "        ├───┤ ░ ┌───┐ │ ┌───┐┌───────┐┌───┐ │ ┌───┐ ░ ├───────┤ ░ └╥┘┌─┐\n",
       "   q_1: ┤ H ├─░─┤ H ├─■─┤ H ├┤ RZ(0) ├┤ H ├─■─┤ H ├─░─┤ RX(0) ├─░──╫─┤M├\n",
       "        └───┘ ░ └───┘   └───┘└───────┘└───┘   └───┘ ░ └───────┘ ░  ║ └╥┘\n",
       "meas_0: ═══════════════════════════════════════════════════════════╩══╬═\n",
       "                                                                      ║ \n",
       "meas_1: ══════════════════════════════════════════════════════════════╩═\n",
       "                                                                        "
      ]
     },
     "execution_count": 6,
     "metadata": {},
     "output_type": "execute_result"
    }
   ],
   "source": [
    "maxcut_qaoa_circuit(gammas=[0],betas=[0], p=1, weights=weights, rows=rows, cols=cols).draw()"
   ]
  },
  {
   "cell_type": "code",
   "execution_count": 45,
   "metadata": {},
   "outputs": [],
   "source": [
    "def estimate_cost(counts, weights):\n",
    "    cost = 0\n",
    "    for assignment, count in counts.items():\n",
    "        for edge, weight in weights.items():\n",
    "            if assignment[edge[0]] != assignment[edge[1]]:\n",
    "                # We've cut this edge.\n",
    "                cost += weight*count\n",
    "    return cost/sum(counts.values()) "
   ]
  },
  {
   "cell_type": "code",
   "execution_count": 46,
   "metadata": {},
   "outputs": [],
   "source": [
    "import numpy as np\n",
    "discretization = 20\n",
    "max_gamma = max_beta = np.pi\n",
    "gammas = np.linspace(0, max_gamma, discretization)\n",
    "betas = np.linspace(0, max_beta, discretization)"
   ]
  },
  {
   "cell_type": "code",
   "execution_count": 47,
   "metadata": {},
   "outputs": [],
   "source": [
    "from qiskit import Aer, execute\n",
    "simulator = Aer.get_backend('qasm_simulator')\n",
    "num_shots = 1024\n",
    "experiments = []\n",
    "for gamma in gammas:\n",
    "    for beta in betas:\n",
    "        experiments.append(maxcut_qaoa_circuit(gammas=[gamma], betas=[beta], p=1, rows=rows, cols=cols, weights=weights))\n",
    "job = execute(experiments, backend=simulator, shots=num_shots)    \n",
    "all_counts = job.result().get_counts()"
   ]
  },
  {
   "cell_type": "code",
   "execution_count": 48,
   "metadata": {},
   "outputs": [],
   "source": [
    "landscape = np.zeros((discretization, discretization))\n",
    "for i, gamma in enumerate(gammas):\n",
    "    for j, beta in enumerate(betas):\n",
    "        landscape[i][j] = estimate_cost(all_counts[i*len(betas) + j], weights)"
   ]
  },
  {
   "cell_type": "code",
   "execution_count": 49,
   "metadata": {},
   "outputs": [
    {
     "name": "stdout",
     "output_type": "stream",
     "text": [
      "0.99609375\n",
      "0.0029296875\n"
     ]
    },
    {
     "data": {
      "image/png": "[encoded data removed]",
      "text/plain": [
       "<Figure size 504x360 with 1 Axes>"
      ]
     },
     "execution_count": 49,
     "metadata": {},
     "output_type": "execute_result"
    },
    {
     "data": {
      "image/png": "[encoded data removed]",
      "text/plain": [
       "<Figure size 432x288 with 2 Axes>"
      ]
     },
     "metadata": {
      "needs_background": "light"
     },
     "output_type": "display_data"
    }
   ],
   "source": [
    "import matplotlib.pyplot as plt\n",
    "from qiskit.visualization import plot_histogram\n",
    "\n",
    "plt.imshow(landscape)\n",
    "plt.tick_params(\n",
    "    axis='both',          # changes apply to the x-axis\n",
    "    which='both',      # both major and minor ticks are affected\n",
    "    bottom=False,      # ticks along the bottom edge are off\n",
    "    top=False, \n",
    "    left=False,\n",
    "    labelleft=False,        # ticks along the top edge are off\n",
    "    labelbottom=False) # labels along the bottom edge are off\n",
    "plt.ylabel(r\"$\\gamma$\")\n",
    "plt.xlabel(r\"$\\beta$\")\n",
    "print(np.max(landscape))\n",
    "print(np.min(landscape))\n",
    "plt.colorbar()\n",
    "plot_histogram(all_counts[np.argmax(landscape)])"
   ]
  },
  {
   "cell_type": "markdown",
   "metadata": {},
   "source": [
    "# Now introduce noise!"
   ]
  },
  {
   "cell_type": "code",
   "execution_count": 50,
   "metadata": {},
   "outputs": [],
   "source": [
    "from coldquanta.qiskit_tools.modeling.neutral_atom_noise_model import create_noise_model"
   ]
  },
  {
   "cell_type": "code",
   "execution_count": 51,
   "metadata": {},
   "outputs": [],
   "source": [
    "noise_model = create_noise_model()"
   ]
  },
  {
   "cell_type": "code",
   "execution_count": 52,
   "metadata": {},
   "outputs": [
    {
     "data": {
      "text/plain": [
       "NoiseModel:\n",
       "  Basis gates: ['cx', 'cz', 'id', 'u3']\n",
       "  Instructions with noise: ['r', 'cz', 'id', 'rz']\n",
       "  All-qubits errors: ['r', 'rz', 'id', 'cz']"
      ]
     },
     "execution_count": 52,
     "metadata": {},
     "output_type": "execute_result"
    }
   ],
   "source": [
    "noise_model"
   ]
  },
  {
   "cell_type": "code",
   "execution_count": 53,
   "metadata": {},
   "outputs": [],
   "source": [
    "noise_model = create_noise_model(cz_fidelity=0.7)\n",
    "\n",
    "experiments = []\n",
    "for gamma in gammas:\n",
    "    for beta in betas:\n",
    "        experiments.append(maxcut_qaoa_circuit(gammas=[gamma], betas=[beta], p=1, rows=rows, cols=cols, weights=weights))\n",
    "job = execute(experiments,\n",
    "              simulator,\n",
    "              noise_model=noise_model,\n",
    "              coupling_map=coupling_map,\n",
    "              optimization_level=0,\n",
    "              shots=num_shots)  \n",
    "all_counts = job.result().get_counts()"
   ]
  },
  {
   "cell_type": "code",
   "execution_count": 54,
   "metadata": {},
   "outputs": [],
   "source": [
    "noisy_landscape = np.zeros((discretization, discretization))\n",
    "for i, gamma in enumerate(gammas):\n",
    "    for j, beta in enumerate(betas):\n",
    "        noisy_landscape[i][j] = estimate_cost(all_counts[i*len(betas) + j], weights)"
   ]
  },
  {
   "cell_type": "code",
   "execution_count": 55,
   "metadata": {
    "scrolled": false
   },
   "outputs": [
    {
     "data": {
      "image/png": "[encoded data removed]",
      "text/plain": [
       "<Figure size 504x360 with 1 Axes>"
      ]
     },
     "execution_count": 55,
     "metadata": {},
     "output_type": "execute_result"
    },
    {
     "data": {
      "image/png": "[encoded data removed]",
      "text/plain": [
       "<Figure size 432x288 with 1 Axes>"
      ]
     },
     "metadata": {},
     "output_type": "display_data"
    }
   ],
   "source": [
    "import matplotlib.pyplot as plt\n",
    "from qiskit.visualization import plot_histogram\n",
    "\n",
    "plt.imshow(noisy_landscape)\n",
    "plt.tick_params(\n",
    "    axis='both',          # changes apply to the x-axis\n",
    "    which='both',      # both major and minor ticks are affected\n",
    "    bottom=False,      # ticks along the bottom edge are off\n",
    "    top=False, \n",
    "    left=False,\n",
    "    labelleft=False,        # ticks along the top edge are off\n",
    "    labelbottom=False) # labels along the bottom edge are off\n",
    "plt.ylabel(r\"$\\gamma$\")\n",
    "plt.xlabel(r\"$\\beta$\")\n",
    "\n",
    "plot_histogram(all_counts[np.argmax(noisy_landscape)])"
   ]
  },
  {
   "cell_type": "markdown",
   "metadata": {},
   "source": [
    "# Include Classical Optimizer"
   ]
  },
  {
   "cell_type": "code",
   "execution_count": 62,
   "metadata": {},
   "outputs": [],
   "source": [
    "from scipy.optimize import minimize\n",
    "\n",
    "def execute_qaoa_circuit_and_estimate_cost(gamma, beta, num_shots, simulator, coupling_map, weights, *, noise_model=None):\n",
    "    circuit = maxcut_qaoa_circuit(gammas=[gamma], betas=[beta], p=1, rows=rows, cols=cols, weights=weights)\n",
    "    job = execute(circuit,\n",
    "                  simulator,\n",
    "                  noise_model=noise_model,\n",
    "                  coupling_map=coupling_map,\n",
    "                  optimization_level=0,\n",
    "                  shots=num_shots)  \n",
    "    all_counts = job.result().get_counts()\n",
    "    return estimate_cost(all_counts, weights)"
   ]
  },
  {
   "cell_type": "code",
   "execution_count": 63,
   "metadata": {},
   "outputs": [],
   "source": [
    "simulator = Aer.get_backend('qasm_simulator')\n",
    "shots_per_point = 1000\n",
    "\n",
    "# HACK, history will need to be reinitialized everytime the optimizer is called.\n",
    "def store_log(func):\n",
    "    def logged_func(x):\n",
    "        history.append(x)\n",
    "        return func(x)\n",
    "    return logged_func\n",
    "\n",
    "@store_log\n",
    "def gamma_beta_objective(gamma_beta):\n",
    "    return -execute_qaoa_circuit_and_estimate_cost(gamma=gamma_beta[0], beta=gamma_beta[1], num_shots=shots_per_point,\n",
    "                                                   simulator=simulator,\n",
    "                                                   coupling_map=neutral_atom_config.coupling_map,\n",
    "                                                   weights=weights)"
   ]
  },
  {
   "cell_type": "code",
   "execution_count": 64,
   "metadata": {},
   "outputs": [],
   "source": [
    "def gamma_beta_to_index(gamma, beta, discretization):\n",
    "    return (gamma * discretization/max_gamma)%(discretization-1), (beta * discretization/max_beta)%(discretization-1)\n",
    "def plot_history_over_landscape(history, landscape, discretization):\n",
    "    plt.imshow(landscape)\n",
    "    plt.ylabel(r\"$\\gamma$\")\n",
    "    plt.xlabel(r\"$\\beta$\")\n",
    "    plt.tick_params(\n",
    "    axis='both',          # changes apply to the x-axis\n",
    "    which='both',      # both major and minor ticks are affected\n",
    "    bottom=False,      # ticks along the bottom edge are off\n",
    "    top=False, \n",
    "    left=False,\n",
    "    labelleft=False,        # ticks along the top edge are off\n",
    "    labelbottom=False) # labels along the bottom edge are off\n",
    "    \n",
    "    plt.colorbar()\n",
    "    for i, point in enumerate(history[1:-1]):\n",
    "        plt.scatter(*gamma_beta_to_index(*point, discretization), c='r')\n",
    "    plt.scatter(*gamma_beta_to_index(*history[0], discretization), marker='.', s=200, c='w')\n",
    "    plt.scatter(*gamma_beta_to_index(*history[-1], discretization), marker='*', s=200, c='w')"
   ]
  },
  {
   "cell_type": "code",
   "execution_count": 65,
   "metadata": {},
   "outputs": [],
   "source": [
    "def try_optimizer(optimizer):\n",
    "    global history\n",
    "    history = []\n",
    "    initial_gamma_beta = [np.random.rand() * max_param for max_param in (max_gamma, max_beta)]\n",
    "    result = minimize(gamma_beta_objective, x0=initial_gamma_beta, method=optimizer)\n",
    "    print(fr'$\\gamma$,$\\beta$={result.x}')\n",
    "    print(f'Max cut is {-result.fun}')\n",
    "    plot_history_over_landscape(history, landscape, discretization)\n",
    "    plt.title(optimizer)\n",
    "    plt.show()"
   ]
  },
  {
   "cell_type": "code",
   "execution_count": 66,
   "metadata": {},
   "outputs": [],
   "source": [
    "methods = ['Nelder-Mead',\n",
    "           'Powell',\n",
    "           'CG',\n",
    "           'BFGS',\n",
    "           # 'Newton-CG',\n",
    "           'L-BFGS-B',\n",
    "           'TNC', \n",
    "           'COBYLA',\n",
    "           'SLSQP',\n",
    "           'trust-constr',\n",
    "           #'dogleg',\n",
    "           #'trust-ncg',\n",
    "           #'trust-krylov',\n",
    "           #'trust-exact'\n",
    "          ]"
   ]
  },
  {
   "cell_type": "code",
   "execution_count": 67,
   "metadata": {
    "scrolled": true
   },
   "outputs": [
    {
     "name": "stdout",
     "output_type": "stream",
     "text": [
      "$\\gamma$,$\\beta$=[0.94263021 0.10762172]\n",
      "Max cut is 0.445\n"
     ]
    },
    {
     "data": {
      "image/png": "[encoded data removed]",
      "text/plain": [
       "<Figure size 432x288 with 2 Axes>"
      ]
     },
     "metadata": {
      "needs_background": "light"
     },
     "output_type": "display_data"
    },
    {
     "name": "stdout",
     "output_type": "stream",
     "text": [
      "$\\gamma$,$\\beta$=[2.35342738 0.77430336]\n",
      "Max cut is 1.0\n"
     ]
    },
    {
     "data": {
      "image/png": "[encoded data removed]",
      "text/plain": [
       "<Figure size 432x288 with 2 Axes>"
      ]
     },
     "metadata": {
      "needs_background": "light"
     },
     "output_type": "display_data"
    },
    {
     "name": "stdout",
     "output_type": "stream",
     "text": [
      "$\\gamma$,$\\beta$=[2.16063856 1.97741895]\n",
      "Max cut is 0.182\n"
     ]
    },
    {
     "data": {
      "image/png": "[encoded data removed]",
      "text/plain": [
       "<Figure size 432x288 with 2 Axes>"
      ]
     },
     "metadata": {
      "needs_background": "light"
     },
     "output_type": "display_data"
    },
    {
     "name": "stdout",
     "output_type": "stream",
     "text": [
      "$\\gamma$,$\\beta$=[0.7314762  0.05931209]\n",
      "Max cut is 0.464\n"
     ]
    },
    {
     "data": {
      "image/png": "[encoded data removed]",
      "text/plain": [
       "<Figure size 432x288 with 2 Axes>"
      ]
     },
     "metadata": {
      "needs_background": "light"
     },
     "output_type": "display_data"
    },
    {
     "name": "stdout",
     "output_type": "stream",
     "text": [
      "$\\gamma$,$\\beta$=[2.80683338 1.48919625]\n",
      "Max cut is 0.562\n"
     ]
    },
    {
     "data": {
      "image/png": "[encoded data removed]",
      "text/plain": [
       "<Figure size 432x288 with 2 Axes>"
      ]
     },
     "metadata": {
      "needs_background": "light"
     },
     "output_type": "display_data"
    },
    {
     "name": "stdout",
     "output_type": "stream",
     "text": [
      "$\\gamma$,$\\beta$=[1.50059033 0.70305308]\n",
      "Max cut is 0.431\n"
     ]
    },
    {
     "data": {
      "image/png": "[encoded data removed]",
      "text/plain": [
       "<Figure size 432x288 with 2 Axes>"
      ]
     },
     "metadata": {
      "needs_background": "light"
     },
     "output_type": "display_data"
    },
    {
     "name": "stdout",
     "output_type": "stream",
     "text": [
      "$\\gamma$,$\\beta$=[2.36689837 0.79324168]\n",
      "Max cut is 1.0\n"
     ]
    },
    {
     "data": {
      "image/png": "[encoded data removed]",
      "text/plain": [
       "<Figure size 432x288 with 2 Axes>"
      ]
     },
     "metadata": {
      "needs_background": "light"
     },
     "output_type": "display_data"
    },
    {
     "name": "stdout",
     "output_type": "stream",
     "text": [
      "$\\gamma$,$\\beta$=[ 4748.96957138 -1094.03908059]\n",
      "Max cut is 0.116\n"
     ]
    },
    {
     "data": {
      "image/png": "[encoded data removed]",
      "text/plain": [
       "<Figure size 432x288 with 2 Axes>"
      ]
     },
     "metadata": {
      "needs_background": "light"
     },
     "output_type": "display_data"
    },
    {
     "name": "stdout",
     "output_type": "stream",
     "text": [
      "$\\gamma$,$\\beta$=[2.38982184 0.58488831]\n",
      "Max cut is 0.97\n"
     ]
    },
    {
     "data": {
      "image/png": "[encoded data removed]",
      "text/plain": [
       "<Figure size 432x288 with 2 Axes>"
      ]
     },
     "metadata": {
      "needs_background": "light"
     },
     "output_type": "display_data"
    }
   ],
   "source": [
    "# It looks like my plotting is incorrect.\n",
    "for method in methods:\n",
    "    try_optimizer(method)"
   ]
  },
  {
   "cell_type": "code",
   "execution_count": 3,
   "metadata": {},
   "outputs": [
    {
     "data": {
      "text/html": [
       "<pre style=\"word-wrap: normal;white-space: pre;background: #fff0;line-height: 1.1;font-family: &quot;Courier New&quot;,Courier,monospace\">     ┌───┐┌─────┐\n",
       "q_0: ┤ H ├┤ foo ├\n",
       "     └───┘└─────┘</pre>"
      ],
      "text/plain": [
       "     ┌───┐┌─────┐\n",
       "q_0: ┤ H ├┤ foo ├\n",
       "     └───┘└─────┘"
      ]
     },
     "execution_count": 3,
     "metadata": {},
     "output_type": "execute_result"
    }
   ],
   "source": [
    "circuit.draw()"
   ]
  },
  {
   "cell_type": "code",
   "execution_count": 7,
   "metadata": {},
   "outputs": [],
   "source": [
    "backend = Aer.get_backend('qasm_simulator')\n",
    "backend_options={'method': 'density_matrix'}\n",
    "job = execute(circuit, backend=backend, backend_options=backend_options, shots=1)"
   ]
  },
  {
   "cell_type": "code",
   "execution_count": 23,
   "metadata": {},
   "outputs": [
    {
     "data": {
      "text/plain": [
       "[[[0.5000000000000001, 0.0], [0.5, 0.0]],\n",
       " [[0.5, 0.0], [0.4999999999999999, 0.0]]]"
      ]
     },
     "execution_count": 23,
     "metadata": {},
     "output_type": "execute_result"
    }
   ],
   "source": [
    "job.result().results[0].data.snapshots.density_matrix['foo'][0]['value']"
   ]
  },
  {
   "cell_type": "code",
   "execution_count": null,
   "metadata": {},
   "outputs": [],
   "source": []
  }
 ],
 "metadata": {
  "kernelspec": {
   "display_name": "Python 3",
   "language": "python",
   "name": "python3"
  },
  "language_info": {
   "codemirror_mode": {
    "name": "ipython",
    "version": 3
   },
   "file_extension": ".py",
   "mimetype": "text/x-python",
   "name": "python",
   "nbconvert_exporter": "python",
   "pygments_lexer": "ipython3",
   "version": "3.7.4"
  }
 },
 "nbformat": 4,
 "nbformat_minor": 4
}
