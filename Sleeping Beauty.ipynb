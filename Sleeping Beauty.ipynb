{
 "cells": [
  {
   "cell_type": "code",
   "execution_count": 5,
   "metadata": {},
   "outputs": [],
   "source": [
    "def initial_coin_flip():\n",
    "    if np.random.rand() > .5:\n",
    "        return \"heads\"\n",
    "    else:\n",
    "\n",
    "        return \"tails\"\n",
    "def halfer():\n",
    "    if np.random.rand() > .5:\n",
    "        return \"heads\"\n",
    "    else:\n",
    "\n",
    "        return \"tails\"\n",
    "def thirder():\n",
    "    if np.random.rand() > 2/3:\n",
    "        return \"heads\"\n",
    "    else:\n",
    "\n",
    "        return \"tails\""
   ]
  },
  {
   "cell_type": "code",
   "execution_count": 14,
   "metadata": {},
   "outputs": [
    {
     "name": "stdout",
     "output_type": "stream",
     "text": [
      "0.7500857\n",
      "0.8332678\n"
     ]
    }
   ],
   "source": [
    "import numpy as np\n",
    "num_trials = 10000000\n",
    "for strategy in [halfer, thirder]:\n",
    "    successes = 0\n",
    "    for _ in range(num_trials):\n",
    "        init = initial_coin_flip()\n",
    "        if init == \"heads\":\n",
    "            #Wake up on Monday only.\n",
    "            if strategy() == init:\n",
    "                successes +=1\n",
    "        else:\n",
    "            #Wake up on Monday.\n",
    "            if strategy() == init:\n",
    "                successes +=1\n",
    "            #Wake up on Tuesday.\n",
    "            if strategy() == init:\n",
    "                successes +=1\n",
    "    print(successes/num_trials)"
   ]
  },
  {
   "cell_type": "code",
   "execution_count": null,
   "metadata": {},
   "outputs": [],
   "source": []
  }
 ],
 "metadata": {
  "kernelspec": {
   "display_name": "Python 3",
   "language": "python",
   "name": "python3"
  },
  "language_info": {
   "codemirror_mode": {
    "name": "ipython",
    "version": 3
   },
   "file_extension": ".py",
   "mimetype": "text/x-python",
   "name": "python",
   "nbconvert_exporter": "python",
   "pygments_lexer": "ipython3",
   "version": "3.8.5"
  }
 },
 "nbformat": 4,
 "nbformat_minor": 4
}
