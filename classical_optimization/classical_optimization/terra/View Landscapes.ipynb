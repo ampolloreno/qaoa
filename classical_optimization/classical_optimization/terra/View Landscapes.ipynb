{
 "cells": [
  {
   "cell_type": "code",
   "execution_count": 30,
   "metadata": {},
   "outputs": [],
   "source": [
    "import dill\n",
    "from classical_optimization.terra.utils import read_graph\n",
    "from classical_optimization.qaoa_circuits import plot_landscape\n",
    "\n",
    "def max_landscape(data):\n",
    "    maximum = 0\n",
    "    max_key = None\n",
    "    for k, _ in data.items():\n",
    "        if 'landscape' in k:\n",
    "            disc = int(k.split('_')[1][1:])\n",
    "            if disc > maximum:\n",
    "                maximum = disc\n",
    "                max_key = k\n",
    "    beta = float(max_key.split('_')[2][1:])\n",
    "    gamma = float(max_key.split('_')[3][1:])\n",
    "    return data[max_key], gamma, beta"
   ]
  },
  {
   "cell_type": "code",
   "execution_count": null,
   "metadata": {},
   "outputs": [],
   "source": []
  },
  {
   "cell_type": "code",
   "execution_count": 31,
   "metadata": {},
   "outputs": [
    {
     "name": "stdout",
     "output_type": "stream",
     "text": [
      "008a4f361b698a316b4a1603d5bb44fc.pkl  92b63454937ccde118268235417f3a2f.pkl\r\n",
      "01c9981e70ddfd7d6e600227f8b647bd.pkl  9521b45398a65f6c66503b230c8df098.pkl\r\n",
      "02326ffbe21c850b16d7c399d3756152.pkl  96c098aa54d6b3625c86fa356ba1cd7b.pkl\r\n",
      "0b31c1dc1fdf0c4146e755b4b6b3d9d0.pkl  a067b617942167addd3e06fee483b43f.pkl\r\n",
      "28e5eb7259fdad2631b1479d325e85db.pkl  ad1783ba55c4146aa33fa2ce90ad4560.pkl\r\n",
      "2b1c223895bafd9118d307b61ba6c3a5.pkl  af4737db2e66860ac76d6e73c9864aaf.pkl\r\n",
      "32336758f6ad30be0e997d59c09b9787.pkl  bb605bdf4be3d3bf13ecdfa04f45c8c6.pkl\r\n",
      "3dcc63f9a5ad3802fe955c4bf26e921f.pkl  e8446cd58f68b06e93f20458375d7d17.pkl\r\n",
      "52a797d76eeb176b03238f0a3954a174.pkl  e8ea851c71bbb603cdab0b7cc0888e07.pkl\r\n",
      "5446d0e7d727d5e34d561615417194e0.pkl  ea2a565475b76eebabbcf35e0f82a611.pkl\r\n",
      "57dd1c02e373759b2f347fa965d687b2.pkl  ecb53a4979e45b4970b12fc94f21dc24.pkl\r\n",
      "5f75ec41690e2e52f877c8500be5af1e.pkl  f80d7634bece4a17d3d0899fb3d6fd06.pkl\r\n",
      "797eb6370aefca6589e048c8d9eb50aa.pkl  f9ba04e3a4031d4fa560c67a57650d60.pkl\r\n",
      "7b1a29d16d2826369a603b9d9cce0978.pkl  fb94fcf2ecedfb8bc3a6883934bce89d.pkl\r\n",
      "7e750c0ab402b9f6f5e3d46754ab19b9.pkl  fd978cbc83e8e786ae75d3e50ca6746e.pkl\r\n",
      "7f7815bc9e2cc12bbc0f2eee33f34f21.pkl\r\n"
     ]
    }
   ],
   "source": [
    "ls ../../../10_graphs/"
   ]
  },
  {
   "cell_type": "code",
   "execution_count": 36,
   "metadata": {},
   "outputs": [
    {
     "name": "stdout",
     "output_type": "stream",
     "text": [
      "7720f500617cfc4abb411e003735a640.pkl\n"
     ]
    }
   ],
   "source": [
    "for f in os.listdir('../../../16_graphs/'):\n",
    "    print(f)"
   ]
  },
  {
   "cell_type": "code",
   "execution_count": 37,
   "metadata": {
    "scrolled": false
   },
   "outputs": [
    {
     "name": "stdout",
     "output_type": "stream",
     "text": [
      "{'graph': <networkx.classes.graph.Graph object at 0x1246ce950>}\n",
      "{'graph': <networkx.classes.graph.Graph object at 0x1246e4f10>}\n",
      "{'graph': <networkx.classes.graph.Graph object at 0x1246e4a50>}\n",
      "{'graph': <networkx.classes.graph.Graph object at 0x1246e4490>}\n",
      "{'graph': <networkx.classes.graph.Graph object at 0x1246f7fd0>}\n",
      "{'graph': <networkx.classes.graph.Graph object at 0x1246e47d0>}\n",
      "{'graph': <networkx.classes.graph.Graph object at 0x1246e4f50>}\n",
      "{'graph': <networkx.classes.graph.Graph object at 0x1246e4490>}\n",
      "{'graph': <networkx.classes.graph.Graph object at 0x1246e4a50>}\n",
      "{'graph': <networkx.classes.graph.Graph object at 0x1246e4f10>}\n",
      "{'graph': <networkx.classes.graph.Graph object at 0x1246e4d90>}\n",
      "{'graph': <networkx.classes.graph.Graph object at 0x1246e47d0>}\n",
      "{'graph': <networkx.classes.graph.Graph object at 0x1246e4f50>}\n",
      "{'graph': <networkx.classes.graph.Graph object at 0x1246e4490>}\n",
      "{'graph': <networkx.classes.graph.Graph object at 0x1246e4a50>}\n",
      "{'graph': <networkx.classes.graph.Graph object at 0x1246e4f10>}\n",
      "{'graph': <networkx.classes.graph.Graph object at 0x1246e4d90>}\n",
      "{'graph': <networkx.classes.graph.Graph object at 0x1246e47d0>}\n",
      "{'graph': <networkx.classes.graph.Graph object at 0x1246e4f50>}\n",
      "{'graph': <networkx.classes.graph.Graph object at 0x1246e4490>}\n",
      "{'graph': <networkx.classes.graph.Graph object at 0x1246e4a50>}\n",
      "{'graph': <networkx.classes.graph.Graph object at 0x1246e4f10>}\n",
      "{'graph': <networkx.classes.graph.Graph object at 0x1246e4d90>}\n",
      "{'graph': <networkx.classes.graph.Graph object at 0x1246e47d0>}\n",
      "{'graph': <networkx.classes.graph.Graph object at 0x1246e4f50>}\n",
      "{'graph': <networkx.classes.graph.Graph object at 0x1246e4490>}\n",
      "{'graph': <networkx.classes.graph.Graph object at 0x1246e4a50>}\n",
      "{'graph': <networkx.classes.graph.Graph object at 0x1246e4f10>}\n",
      "{'graph': <networkx.classes.graph.Graph object at 0x1246e4d90>}\n",
      "{'graph': <networkx.classes.graph.Graph object at 0x1246e47d0>}\n",
      "{'graph': <networkx.classes.graph.Graph object at 0x1246e4f50>}\n",
      "{'graph': <networkx.classes.graph.Graph object at 0x1246e4490>}\n",
      "{'graph': <networkx.classes.graph.Graph object at 0x1246e4a50>}\n",
      "{'graph': <networkx.classes.graph.Graph object at 0x1246e4f10>}\n",
      "{'graph': <networkx.classes.graph.Graph object at 0x1246e4d90>}\n",
      "{'graph': <networkx.classes.graph.Graph object at 0x1246e47d0>}\n",
      "{'graph': <networkx.classes.graph.Graph object at 0x1246e4f50>}\n",
      "{'graph': <networkx.classes.graph.Graph object at 0x1246e4490>}\n",
      "{'graph': <networkx.classes.graph.Graph object at 0x1246e4a50>}\n",
      "{'graph': <networkx.classes.graph.Graph object at 0x1246e4f10>}\n",
      "{'graph': <networkx.classes.graph.Graph object at 0x1246e4d90>}\n",
      "{'graph': <networkx.classes.graph.Graph object at 0x1246e47d0>}\n",
      "{'graph': <networkx.classes.graph.Graph object at 0x1246e4f50>}\n",
      "{'graph': <networkx.classes.graph.Graph object at 0x1246e4a50>}\n",
      "{'graph': <networkx.classes.graph.Graph object at 0x1246e4f10>}\n",
      "{'graph': <networkx.classes.graph.Graph object at 0x1246e47d0>}\n",
      "{'graph': <networkx.classes.graph.Graph object at 0x1246e4d90>}\n",
      "{'graph': <networkx.classes.graph.Graph object at 0x1246e4490>}\n",
      "{'graph': <networkx.classes.graph.Graph object at 0x1246e4f50>}\n",
      "{'graph': <networkx.classes.graph.Graph object at 0x1246e4a50>}\n",
      "{'graph': <networkx.classes.graph.Graph object at 0x1246e47d0>}\n",
      "{'graph': <networkx.classes.graph.Graph object at 0x1246e4d90>}\n",
      "{'graph': <networkx.classes.graph.Graph object at 0x1246e4f50>}\n",
      "{'graph': <networkx.classes.graph.Graph object at 0x1246e4490>}\n",
      "{'graph': <networkx.classes.graph.Graph object at 0x1246e4f10>}\n",
      "{'graph': <networkx.classes.graph.Graph object at 0x1246e4a50>}\n",
      "{'graph': <networkx.classes.graph.Graph object at 0x1246e47d0>}\n",
      "{'graph': <networkx.classes.graph.Graph object at 0x1246e4d90>}\n",
      "{'graph': <networkx.classes.graph.Graph object at 0x1246e4f50>}\n",
      "{'graph': <networkx.classes.graph.Graph object at 0x1246e4490>}\n",
      "{'graph': <networkx.classes.graph.Graph object at 0x1246e4f10>}\n",
      "{'graph': <networkx.classes.graph.Graph object at 0x1246e4a50>}\n",
      "{'graph': <networkx.classes.graph.Graph object at 0x1246e47d0>}\n",
      "{'graph': <networkx.classes.graph.Graph object at 0x1246e4d90>}\n",
      "{'graph': <networkx.classes.graph.Graph object at 0x1246e4f50>}\n",
      "{'graph': <networkx.classes.graph.Graph object at 0x1246e4490>}\n",
      "{'graph': <networkx.classes.graph.Graph object at 0x1246e4f10>}\n",
      "{'graph': <networkx.classes.graph.Graph object at 0x1246e4a50>}\n",
      "{'graph': <networkx.classes.graph.Graph object at 0x1246e47d0>}\n",
      "{'graph': <networkx.classes.graph.Graph object at 0x1246e4d90>}\n",
      "{'graph': <networkx.classes.graph.Graph object at 0x1246e4f50>}\n",
      "{'graph': <networkx.classes.graph.Graph object at 0x1246e4490>}\n",
      "{'graph': <networkx.classes.graph.Graph object at 0x1246e4f10>}\n",
      "{'graph': <networkx.classes.graph.Graph object at 0x1246e4a50>}\n",
      "{'graph': <networkx.classes.graph.Graph object at 0x1246e47d0>}\n",
      "{'graph': <networkx.classes.graph.Graph object at 0x1246e4d90>}\n",
      "{'graph': <networkx.classes.graph.Graph object at 0x1246e4f50>}\n",
      "{'graph': <networkx.classes.graph.Graph object at 0x1246e4490>}\n",
      "{'graph': <networkx.classes.graph.Graph object at 0x1246e4f10>}\n",
      "{'graph': <networkx.classes.graph.Graph object at 0x1246e4a50>}\n",
      "{'graph': <networkx.classes.graph.Graph object at 0x1246e47d0>}\n",
      "{'graph': <networkx.classes.graph.Graph object at 0x1246e4d90>}\n",
      "{'graph': <networkx.classes.graph.Graph object at 0x1246e4f50>}\n",
      "{'graph': <networkx.classes.graph.Graph object at 0x1246e4490>}\n",
      "{'graph': <networkx.classes.graph.Graph object at 0x1246e4f10>}\n",
      "{'graph': <networkx.classes.graph.Graph object at 0x1246e4a50>}\n",
      "{'graph': <networkx.classes.graph.Graph object at 0x1246e47d0>}\n",
      "{'graph': <networkx.classes.graph.Graph object at 0x1246e4d90>}\n",
      "{'graph': <networkx.classes.graph.Graph object at 0x1246e4f50>}\n",
      "{'graph': <networkx.classes.graph.Graph object at 0x1246e4490>}\n",
      "{'graph': <networkx.classes.graph.Graph object at 0x1246e4f10>}\n",
      "{'graph': <networkx.classes.graph.Graph object at 0x1246e4a50>}\n",
      "{'graph': <networkx.classes.graph.Graph object at 0x1246e47d0>}\n",
      "{'graph': <networkx.classes.graph.Graph object at 0x1246e4d90>}\n",
      "{'graph': <networkx.classes.graph.Graph object at 0x1246e4f50>}\n",
      "{'graph': <networkx.classes.graph.Graph object at 0x1246e4490>}\n",
      "{'graph': <networkx.classes.graph.Graph object at 0x1246e4f10>}\n",
      "{'graph': <networkx.classes.graph.Graph object at 0x1246e4a50>}\n",
      "{'graph': <networkx.classes.graph.Graph object at 0x1246e47d0>}\n",
      "{'graph': <networkx.classes.graph.Graph object at 0x1246e4d90>}\n",
      "{'graph': <networkx.classes.graph.Graph object at 0x1246e4f50>}\n",
      "{'graph': <networkx.classes.graph.Graph object at 0x1246e4490>}\n",
      "{'graph': <networkx.classes.graph.Graph object at 0x1246e4f10>}\n",
      "{'graph': <networkx.classes.graph.Graph object at 0x1246e4a50>}\n",
      "{'graph': <networkx.classes.graph.Graph object at 0x1246e47d0>}\n",
      "{'graph': <networkx.classes.graph.Graph object at 0x1246e4d90>}\n",
      "{'graph': <networkx.classes.graph.Graph object at 0x1246e4f50>}\n",
      "{'graph': <networkx.classes.graph.Graph object at 0x1246e4490>}\n",
      "{'graph': <networkx.classes.graph.Graph object at 0x1246e4f10>}\n",
      "{'graph': <networkx.classes.graph.Graph object at 0x1246e4a50>}\n",
      "{'graph': <networkx.classes.graph.Graph object at 0x1246e47d0>}\n",
      "{'graph': <networkx.classes.graph.Graph object at 0x1246e4d90>}\n",
      "{'graph': <networkx.classes.graph.Graph object at 0x1246e4f50>}\n",
      "{'graph': <networkx.classes.graph.Graph object at 0x1246e4490>}\n",
      "{'graph': <networkx.classes.graph.Graph object at 0x1246e4f10>}\n",
      "{'graph': <networkx.classes.graph.Graph object at 0x1246e4a50>}\n",
      "{'graph': <networkx.classes.graph.Graph object at 0x1246e47d0>}\n",
      "{'graph': <networkx.classes.graph.Graph object at 0x1246e4d90>}\n",
      "{'graph': <networkx.classes.graph.Graph object at 0x1246e4f50>}\n",
      "{'graph': <networkx.classes.graph.Graph object at 0x1246e4490>}\n",
      "{'graph': <networkx.classes.graph.Graph object at 0x1246e4f10>}\n",
      "{'graph': <networkx.classes.graph.Graph object at 0x1246e4a50>}\n",
      "{'graph': <networkx.classes.graph.Graph object at 0x1246e47d0>}\n",
      "{'graph': <networkx.classes.graph.Graph object at 0x1246e4d90>}\n",
      "{'graph': <networkx.classes.graph.Graph object at 0x1246e4f50>}\n",
      "{'graph': <networkx.classes.graph.Graph object at 0x1246e4490>}\n",
      "{'graph': <networkx.classes.graph.Graph object at 0x1246e4f10>}\n",
      "{'graph': <networkx.classes.graph.Graph object at 0x1246e4a50>}\n",
      "{'graph': <networkx.classes.graph.Graph object at 0x1246e47d0>}\n",
      "{'graph': <networkx.classes.graph.Graph object at 0x1246e4d90>}\n",
      "{'graph': <networkx.classes.graph.Graph object at 0x1246e4f50>, 'landscape_d1_b3.141592653589793_g6.283185307179586': array([[9.],\n",
      "       [9.]]), 'landscape_d1_b3.141592653589793_g6.283185307179586_time': 65.40975761413574}\n"
     ]
    },
    {
     "data": {
      "image/png": "[encoded data removed]",
      "text/plain": [
       "<Figure size 432x288 with 2 Axes>"
      ]
     },
     "metadata": {
      "needs_background": "light"
     },
     "output_type": "display_data"
    },
    {
     "name": "stdout",
     "output_type": "stream",
     "text": [
      "{'graph': <networkx.classes.graph.Graph object at 0x125011e90>}\n",
      "{'graph': <networkx.classes.graph.Graph object at 0x124a95290>}\n",
      "{'graph': <networkx.classes.graph.Graph object at 0x1246e4f50>}\n",
      "{'graph': <networkx.classes.graph.Graph object at 0x1249d6e10>}\n",
      "{'graph': <networkx.classes.graph.Graph object at 0x124703cd0>}\n",
      "{'graph': <networkx.classes.graph.Graph object at 0x124703290>}\n",
      "{'graph': <networkx.classes.graph.Graph object at 0x124703910>}\n",
      "{'graph': <networkx.classes.graph.Graph object at 0x124703cd0>}\n",
      "{'graph': <networkx.classes.graph.Graph object at 0x1250234d0>}\n"
     ]
    }
   ],
   "source": [
    "import os\n",
    "import matplotlib.pyplot as plt\n",
    "dir_ = '../../../12_graphs/'\n",
    "files = [f for f in os.listdir(dir_)]\n",
    "for f in files:\n",
    "    if 'pkl' in f:\n",
    "        f = f\"{dir_}{f}\"\n",
    "        data = read_graph(f)\n",
    "        print(data)\n",
    "        if len(data) > 1:\n",
    "            plot_landscape(*max_landscape(data))\n",
    "            plt.show()\n"
   ]
  },
  {
   "cell_type": "code",
   "execution_count": null,
   "metadata": {},
   "outputs": [],
   "source": []
  }
 ],
 "metadata": {
  "kernelspec": {
   "display_name": "Python 3",
   "language": "python",
   "name": "python3"
  },
  "language_info": {
   "codemirror_mode": {
    "name": "ipython",
    "version": 3
   },
   "file_extension": ".py",
   "mimetype": "text/x-python",
   "name": "python",
   "nbconvert_exporter": "python",
   "pygments_lexer": "ipython3",
   "version": "3.7.4"
  }
 },
 "nbformat": 4,
 "nbformat_minor": 4
}
