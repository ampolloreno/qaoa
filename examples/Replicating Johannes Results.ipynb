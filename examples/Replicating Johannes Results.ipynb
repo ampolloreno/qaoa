{
 "cells": [
  {
   "cell_type": "code",
   "execution_count": 1,
   "metadata": {},
   "outputs": [],
   "source": [
    "%load_ext autoreload\n",
    "%autoreload 2"
   ]
  },
  {
   "cell_type": "code",
   "execution_count": 2,
   "metadata": {},
   "outputs": [
    {
     "name": "stderr",
     "output_type": "stream",
     "text": [
      "/home/ampolloreno/repos/cotengra/cotengra/hyper.py:29: UserWarning: Couldn't import `kahypar` - skipping from default hyper optimizer and using basic `labels` method instead.\n",
      "  warnings.warn(\"Couldn't import `kahypar` - skipping from default \"\n"
     ]
    }
   ],
   "source": [
    "import quimb as qu\n",
    "import quimb.tensor as qtn\n",
    "import cotengra as ctg\n",
    "\n",
    "opt = ctg.ReusableHyperOptimizer(\n",
    "    reconf_opts={},\n",
    "    max_repeats=16,\n",
    "    parallel=True,\n",
    ")"
   ]
  },
  {
   "cell_type": "code",
   "execution_count": 89,
   "metadata": {},
   "outputs": [],
   "source": [
    "reg = 3\n",
    "n = 20\n",
    "seed = 666\n",
    "graph = nx.watts_strogatz_graph(n, reg, .5, seed=seed)"
   ]
  },
  {
   "cell_type": "code",
   "execution_count": 111,
   "metadata": {},
   "outputs": [],
   "source": [
    "from scipy.optimize import dual_annealing\n",
    "from classical_optimization.qaoa_circuits import execute_qaoa_circuit_and_estimate_cost\n",
    "import numpy as np\n",
    "from qiskit import Aer, execute\n",
    "from coldquanta.qiskit_tools.modeling.neutral_atom_noise_model import create_noise_model\n",
    "import networkx as nx\n",
    "\n",
    "np.random.seed(666)\n",
    "reprate = 25 \n",
    "one_hour = 60 * 60 #seconds\n",
    "max_gamma = 2 * np.pi\n",
    "max_beta = np.pi\n",
    "simulator = Aer.get_backend('qasm_simulator')\n",
    "noise_model = create_noise_model(cz_fidelity=1)\n",
    "\n",
    "reg = 3\n",
    "n = 20\n",
    "seed = 666\n",
    "graph = nx.watts_strogatz_graph(n, reg, .5, seed=seed)\n",
    "# import numpy as np\n",
    "# from networkx.algorithms.approximation.vertex_cover import min_weighted_vertex_cover\n",
    "# n = 20\n",
    "# p = 1/(n-1)\n",
    "# g = nx.fast_gnp_random_graph(n, p, seed=2)\n",
    "n = 20\n",
    "m = int(n/2)\n",
    "edges = []\n",
    "while len(edges) < m:\n",
    "    edge = (np.random.randint(n), np.random.randint(n))\n",
    "    if edge not in edges and (edge[1], edge[0]) not in edges and edge[0] != edge[1]:\n",
    "        \n",
    "        edges.append(edge)\n",
    "weights = {edge:((np.random.rand(1)-.5)*2)[0] for edge in edges}\n",
    "positive_edges = [edge for edge in edges if weights[edge]>0]\n",
    "weights = {edge:1 for edge in edges}\n",
    "graph=nx.Graph()\n",
    "graph.add_weighted_edges_from([(edge[0], edge[1], weights[edge]) for edge in edges])\n",
    "\n",
    "\n",
    "terms = weights\n",
    "circ_ex = None\n",
    "shots_per_point = 10\n",
    "def weights(graph):\n",
    "    rtn = {}\n",
    "    for e in graph.edges:\n",
    "        weight = graph.get_edge_data(e[0], e[1])['weight']\n",
    "        rtn[e] = weight\n",
    "    return rtn\n",
    "\n",
    "def objective(graph):\n",
    "    #Hack for backwards compatibility.\n",
    "    num_rows = len(graph.nodes)\n",
    "    num_cols = 1\n",
    "\n",
    "    history = []\n",
    "    def store_log(func):\n",
    "        def logged_func(x):\n",
    "            ret = func(x)\n",
    "            history.append((x, ret))\n",
    "            return ret\n",
    "        return logged_func\n",
    "\n",
    "    @store_log\n",
    "    def gamma_beta_objective(gamma_beta):\n",
    "        p=1\n",
    "        gammas = [gamma_beta[1]]\n",
    "        betas = [gamma_beta[0]]\n",
    "        circ_ex = qtn.circ_qaoa(terms, p, gammas, betas)\n",
    "        circ_ex = qtn.circuit_gen.circ_qaoa(terms, p, gammas, betas)\n",
    "        ZZ = qu.pauli('Z') & qu.pauli('Z')\n",
    "#         ens = [\n",
    "#             circ_ex.local_expectation(weight * ZZ, edge, optimize=opt)\n",
    "#             for edge, weight in terms.items()\n",
    "#         ]\n",
    "            \n",
    "#         return sum(ens).real\n",
    "        samples = list(circ_ex.simulate_counts(shots_per_point))\n",
    "        values = []\n",
    "        for sample in samples:\n",
    "            value = 0\n",
    "            for k, v in terms.items():\n",
    "                if sample[k[0]] != sample[k[1]]:\n",
    "                    value += 1\n",
    "            values.append(value)\n",
    "        return np.mean(values)\n",
    "    return gamma_beta_objective, history\n",
    "\n"
   ]
  },
  {
   "cell_type": "code",
   "execution_count": 112,
   "metadata": {},
   "outputs": [],
   "source": [
    "gammas = [1]\n",
    "betas = [1]\n",
    "p=1\n",
    "# global circ_ex\n",
    "# if circ_ex is None:\n",
    "circ_ex = qtn.circuit_gen.circ_qaoa(terms, p, gammas, betas)\n",
    "# else:\n",
    "#     new_circ_ex = qtn.circuit_gen.circ_qaoa(terms, p, gammas, betas)\n",
    "#     tm = new_circ_ex.to_dense_tn()\n",
    "#     circ_ex.update_params_from(tm)\n",
    "ZZ = qu.pauli('Z') & qu.pauli('Z')\n",
    "ens = [\n",
    "    circ_ex.local_expectation(weight * ZZ, edge, optimize=opt)\n",
    "    for edge, weight in terms.items()\n",
    "]"
   ]
  },
  {
   "cell_type": "code",
   "execution_count": 113,
   "metadata": {},
   "outputs": [
    {
     "name": "stdout",
     "output_type": "stream",
     "text": [
      "0.0\n",
      "0.16534698176788384\n",
      "0.3306939635357677\n",
      "0.4960409453036515\n",
      "0.6613879270715354\n",
      "0.8267349088394192\n",
      "0.992081890607303\n",
      "1.1574288723751869\n",
      "1.3227758541430708\n",
      "1.4881228359109546\n",
      "1.6534698176788385\n",
      "1.8188167994467224\n",
      "1.984163781214606\n",
      "2.14951076298249\n",
      "2.3148577447503738\n",
      "2.4802047265182576\n",
      "2.6455517082861415\n",
      "2.8108986900540254\n",
      "2.9762456718219092\n",
      "3.141592653589793\n"
     ]
    }
   ],
   "source": [
    "import networkx as nx\n",
    "obj, hist = objective(graph)\n",
    "all_data = []\n",
    "bound = np.pi\n",
    "samples = 20\n",
    "for g in np.linspace(0, bound, num=samples):\n",
    "    data = []\n",
    "    print(g)\n",
    "    for b in np.linspace(0, bound, num=samples):\n",
    "        data.append(obj([b, g]))\n",
    "    all_data.append(data)"
   ]
  },
  {
   "cell_type": "code",
   "execution_count": 114,
   "metadata": {},
   "outputs": [
    {
     "data": {
      "text/plain": [
       "<matplotlib.image.AxesImage at 0x7f70985b7fa0>"
      ]
     },
     "execution_count": 114,
     "metadata": {},
     "output_type": "execute_result"
    },
    {
     "data": {
      "image/png": "[encoded data removed]",
      "text/plain": [
       "<Figure size 432x288 with 1 Axes>"
      ]
     },
     "metadata": {
      "needs_background": "light"
     },
     "output_type": "display_data"
    }
   ],
   "source": [
    "import matplotlib.pyplot as plt\n",
    "plt.imshow(np.array(all_data))"
   ]
  },
  {
   "cell_type": "code",
   "execution_count": 115,
   "metadata": {},
   "outputs": [],
   "source": [
    "from es import SimpleGA, CMAES, PEPG, OpenES\n",
    "NPARAMS = 2\n",
    "NPOPULATION = 10\n",
    "oes = OpenES(NPARAMS,                  # number of model parameters\n",
    "            sigma_init=0.025*np.pi*5,            # initial standard deviation\n",
    "            sigma_decay=1,         # don't anneal standard deviation\n",
    "            learning_rate=0.005,         # learning rate for standard deviation\n",
    "            learning_rate_decay = 0.0, # annealing the learning rate\n",
    "            popsize=NPOPULATION,       # population size\n",
    "            antithetic=False,          # whether to use antithetic sampling\n",
    "            weight_decay=0.00,         # weight decay coefficient\n",
    "            rank_fitness=False,        # use rank rather than fitness numbers\n",
    "            forget_best=True)"
   ]
  },
  {
   "cell_type": "code",
   "execution_count": 116,
   "metadata": {},
   "outputs": [],
   "source": [
    "from tqdm import tqdm\n",
    "MAX_ITERATION = 100\n",
    "fit_func1, history = objective(graph)\n",
    "fit_func = lambda x: fit_func1(x)\n",
    "# defines a function to use solver to solve fit_func\n",
    "def test_solver(solver):\n",
    "    history = []\n",
    "    for j in tqdm(range(MAX_ITERATION)):\n",
    "        solutions = solver.ask()\n",
    "        fitness_list = np.zeros(solver.popsize)\n",
    "        for i in range(solver.popsize):\n",
    "            fitness_list[i] = fit_func(solutions[i])\n",
    "        solver.tell(fitness_list)\n",
    "        result = solver.result() # first element is the best solution, second element is the best fitness\n",
    "        print(result)\n",
    "        history.append((result))\n",
    "        if (j+1) % 100 == 0:\n",
    "            print(\"fitness at iteration\", (j+1), result[1])\n",
    "    print(\"local optimum discovered by solver:\\n\", result[0])\n",
    "    print(\"fitness score at this local optimum:\", result[1])\n",
    "    return history, result"
   ]
  },
  {
   "cell_type": "code",
   "execution_count": 117,
   "metadata": {
    "scrolled": true
   },
   "outputs": [
    {
     "name": "stderr",
     "output_type": "stream",
     "text": [
      "  1%|          | 1/100 [00:00<00:55,  1.78it/s]"
     ]
    },
    {
     "name": "stdout",
     "output_type": "stream",
     "text": [
      "(array([ 0.12426326, -0.29949231]), 6.0, 6.0, 0.39269908169872414)\n"
     ]
    },
    {
     "name": "stderr",
     "output_type": "stream",
     "text": [
      "\r",
      "  2%|▏         | 2/100 [00:01<00:54,  1.79it/s]"
     ]
    },
    {
     "name": "stdout",
     "output_type": "stream",
     "text": [
      "(array([ 0.49619168, -0.70369812]), 8.7, 8.7, 0.39269908169872414)\n"
     ]
    },
    {
     "name": "stderr",
     "output_type": "stream",
     "text": [
      "\r",
      "  3%|▎         | 3/100 [00:01<00:53,  1.80it/s]"
     ]
    },
    {
     "name": "stdout",
     "output_type": "stream",
     "text": [
      "(array([ 0.26377344, -0.71673409]), 7.6, 7.6, 0.39269908169872414)\n"
     ]
    },
    {
     "name": "stderr",
     "output_type": "stream",
     "text": [
      "\r",
      "  4%|▍         | 4/100 [00:02<00:53,  1.80it/s]"
     ]
    },
    {
     "name": "stdout",
     "output_type": "stream",
     "text": [
      "(array([ 0.36396487, -0.12562673]), 6.3, 6.3, 0.39269908169872414)\n"
     ]
    },
    {
     "name": "stderr",
     "output_type": "stream",
     "text": [
      "\r",
      "  5%|▌         | 5/100 [00:02<00:52,  1.80it/s]"
     ]
    },
    {
     "name": "stdout",
     "output_type": "stream",
     "text": [
      "(array([ 0.18128164, -0.40066764]), 7.3, 7.3, 0.39269908169872414)\n"
     ]
    },
    {
     "name": "stderr",
     "output_type": "stream",
     "text": [
      "\r",
      "  6%|▌         | 6/100 [00:03<00:52,  1.81it/s]"
     ]
    },
    {
     "name": "stdout",
     "output_type": "stream",
     "text": [
      "(array([ 0.46615006, -0.66443463]), 8.8, 8.8, 0.39269908169872414)\n"
     ]
    },
    {
     "name": "stderr",
     "output_type": "stream",
     "text": [
      "\r",
      "  7%|▋         | 7/100 [00:03<00:51,  1.81it/s]"
     ]
    },
    {
     "name": "stdout",
     "output_type": "stream",
     "text": [
      "(array([-0.46486484,  0.40074529]), 8.3, 8.3, 0.39269908169872414)\n"
     ]
    },
    {
     "name": "stderr",
     "output_type": "stream",
     "text": [
      "\r",
      "  8%|▊         | 8/100 [00:04<00:50,  1.81it/s]"
     ]
    },
    {
     "name": "stdout",
     "output_type": "stream",
     "text": [
      "(array([-0.451486 ,  0.3983605]), 7.9, 7.9, 0.39269908169872414)\n"
     ]
    },
    {
     "name": "stderr",
     "output_type": "stream",
     "text": [
      "\r",
      "  9%|▉         | 9/100 [00:04<00:50,  1.81it/s]"
     ]
    },
    {
     "name": "stdout",
     "output_type": "stream",
     "text": [
      "(array([-0.4763925 ,  0.15849727]), 6.5, 6.5, 0.39269908169872414)\n"
     ]
    },
    {
     "name": "stderr",
     "output_type": "stream",
     "text": [
      "\r",
      " 10%|█         | 10/100 [00:05<00:49,  1.82it/s]"
     ]
    },
    {
     "name": "stdout",
     "output_type": "stream",
     "text": [
      "(array([ 0.32304265, -0.23993425]), 6.5, 6.5, 0.39269908169872414)\n"
     ]
    },
    {
     "name": "stderr",
     "output_type": "stream",
     "text": [
      "\r",
      " 11%|█         | 11/100 [00:06<00:48,  1.82it/s]"
     ]
    },
    {
     "name": "stdout",
     "output_type": "stream",
     "text": [
      "(array([-0.21880818,  0.56776754]), 7.8, 7.8, 0.39269908169872414)\n"
     ]
    },
    {
     "name": "stderr",
     "output_type": "stream",
     "text": [
      "\r",
      " 12%|█▏        | 12/100 [00:06<00:49,  1.77it/s]"
     ]
    },
    {
     "name": "stdout",
     "output_type": "stream",
     "text": [
      "(array([-0.19569522,  0.11069517]), 5.8, 5.8, 0.39269908169872414)\n"
     ]
    },
    {
     "name": "stderr",
     "output_type": "stream",
     "text": [
      "\r",
      " 13%|█▎        | 13/100 [00:07<00:50,  1.73it/s]"
     ]
    },
    {
     "name": "stdout",
     "output_type": "stream",
     "text": [
      "(array([-0.43162798,  0.65908933]), 7.8, 7.8, 0.39269908169872414)\n"
     ]
    },
    {
     "name": "stderr",
     "output_type": "stream",
     "text": [
      "\r",
      " 14%|█▍        | 14/100 [00:07<00:49,  1.74it/s]"
     ]
    },
    {
     "name": "stdout",
     "output_type": "stream",
     "text": [
      "(array([-0.32229237,  0.49075462]), 8.6, 8.6, 0.39269908169872414)\n"
     ]
    },
    {
     "name": "stderr",
     "output_type": "stream",
     "text": [
      "\r",
      " 15%|█▌        | 15/100 [00:08<00:48,  1.75it/s]"
     ]
    },
    {
     "name": "stdout",
     "output_type": "stream",
     "text": [
      "(array([ 0.36048568, -0.28905494]), 7.8, 7.8, 0.39269908169872414)\n"
     ]
    },
    {
     "name": "stderr",
     "output_type": "stream",
     "text": [
      "\r",
      " 16%|█▌        | 16/100 [00:08<00:47,  1.76it/s]"
     ]
    },
    {
     "name": "stdout",
     "output_type": "stream",
     "text": [
      "(array([-0.11306715,  0.45995691]), 6.8, 6.8, 0.39269908169872414)\n"
     ]
    },
    {
     "name": "stderr",
     "output_type": "stream",
     "text": [
      "\r",
      " 17%|█▋        | 17/100 [00:09<00:47,  1.76it/s]"
     ]
    },
    {
     "name": "stdout",
     "output_type": "stream",
     "text": [
      "(array([-0.30706284,  0.73277519]), 8.1, 8.1, 0.39269908169872414)\n"
     ]
    },
    {
     "name": "stderr",
     "output_type": "stream",
     "text": [
      "\r",
      " 18%|█▊        | 18/100 [00:10<00:46,  1.75it/s]"
     ]
    },
    {
     "name": "stdout",
     "output_type": "stream",
     "text": [
      "(array([-0.1350504 ,  0.61360429]), 7.1, 7.1, 0.39269908169872414)\n"
     ]
    },
    {
     "name": "stderr",
     "output_type": "stream",
     "text": [
      "\r",
      " 19%|█▉        | 19/100 [00:10<00:46,  1.74it/s]"
     ]
    },
    {
     "name": "stdout",
     "output_type": "stream",
     "text": [
      "(array([-0.40892535,  0.8115297 ]), 8.2, 8.2, 0.39269908169872414)\n"
     ]
    },
    {
     "name": "stderr",
     "output_type": "stream",
     "text": [
      "\r",
      " 20%|██        | 20/100 [00:11<00:46,  1.73it/s]"
     ]
    },
    {
     "name": "stdout",
     "output_type": "stream",
     "text": [
      "(array([ 0.11311446, -0.46214533]), 6.6, 6.6, 0.39269908169872414)\n"
     ]
    },
    {
     "name": "stderr",
     "output_type": "stream",
     "text": [
      "\r",
      " 21%|██        | 21/100 [00:11<00:45,  1.73it/s]"
     ]
    },
    {
     "name": "stdout",
     "output_type": "stream",
     "text": [
      "(array([ 0.6474514 , -0.20588619]), 7.1, 7.1, 0.39269908169872414)\n"
     ]
    },
    {
     "name": "stderr",
     "output_type": "stream",
     "text": [
      "\r",
      " 22%|██▏       | 22/100 [00:12<00:44,  1.76it/s]"
     ]
    },
    {
     "name": "stdout",
     "output_type": "stream",
     "text": [
      "(array([-0.1742075 ,  0.35853341]), 7.0, 7.0, 0.39269908169872414)\n"
     ]
    },
    {
     "name": "stderr",
     "output_type": "stream",
     "text": [
      "\r",
      " 23%|██▎       | 23/100 [00:12<00:43,  1.78it/s]"
     ]
    },
    {
     "name": "stdout",
     "output_type": "stream",
     "text": [
      "(array([ 0.1988461 , -0.13195196]), 6.9, 6.9, 0.39269908169872414)\n"
     ]
    },
    {
     "name": "stderr",
     "output_type": "stream",
     "text": [
      "\r",
      " 24%|██▍       | 24/100 [00:13<00:42,  1.80it/s]"
     ]
    },
    {
     "name": "stdout",
     "output_type": "stream",
     "text": [
      "(array([ 0.2594344 , -0.36155501]), 7.7, 7.7, 0.39269908169872414)\n"
     ]
    },
    {
     "name": "stderr",
     "output_type": "stream",
     "text": [
      "\r",
      " 25%|██▌       | 25/100 [00:14<00:41,  1.80it/s]"
     ]
    },
    {
     "name": "stdout",
     "output_type": "stream",
     "text": [
      "(array([-0.28388722,  0.12582151]), 6.8, 6.8, 0.39269908169872414)\n"
     ]
    },
    {
     "name": "stderr",
     "output_type": "stream",
     "text": [
      "\r",
      " 26%|██▌       | 26/100 [00:14<00:40,  1.81it/s]"
     ]
    },
    {
     "name": "stdout",
     "output_type": "stream",
     "text": [
      "(array([-0.38329102,  0.75666213]), 8.4, 8.4, 0.39269908169872414)\n"
     ]
    },
    {
     "name": "stderr",
     "output_type": "stream",
     "text": [
      "\r",
      " 27%|██▋       | 27/100 [00:15<00:40,  1.82it/s]"
     ]
    },
    {
     "name": "stdout",
     "output_type": "stream",
     "text": [
      "(array([ 0.5381173 , -0.33785682]), 7.8, 7.8, 0.39269908169872414)\n"
     ]
    },
    {
     "name": "stderr",
     "output_type": "stream",
     "text": [
      "\r",
      " 28%|██▊       | 28/100 [00:15<00:39,  1.82it/s]"
     ]
    },
    {
     "name": "stdout",
     "output_type": "stream",
     "text": [
      "(array([ 0.39274258, -0.62994697]), 8.0, 8.0, 0.39269908169872414)\n"
     ]
    },
    {
     "name": "stderr",
     "output_type": "stream",
     "text": [
      "\r",
      " 29%|██▉       | 29/100 [00:16<00:38,  1.82it/s]"
     ]
    },
    {
     "name": "stdout",
     "output_type": "stream",
     "text": [
      "(array([-0.42557543,  0.28711323]), 7.7, 7.7, 0.39269908169872414)\n"
     ]
    },
    {
     "name": "stderr",
     "output_type": "stream",
     "text": [
      "\r",
      " 30%|███       | 30/100 [00:16<00:38,  1.80it/s]"
     ]
    },
    {
     "name": "stdout",
     "output_type": "stream",
     "text": [
      "(array([-0.38106206,  0.32638548]), 7.3, 7.3, 0.39269908169872414)\n"
     ]
    },
    {
     "name": "stderr",
     "output_type": "stream",
     "text": [
      "\r",
      " 31%|███       | 31/100 [00:17<00:38,  1.81it/s]"
     ]
    },
    {
     "name": "stdout",
     "output_type": "stream",
     "text": [
      "(array([ 0.21824661, -0.35839607]), 7.5, 7.5, 0.39269908169872414)\n"
     ]
    },
    {
     "name": "stderr",
     "output_type": "stream",
     "text": [
      "\r",
      " 32%|███▏      | 32/100 [00:17<00:37,  1.82it/s]"
     ]
    },
    {
     "name": "stdout",
     "output_type": "stream",
     "text": [
      "(array([-0.39895599,  0.86030501]), 8.1, 8.1, 0.39269908169872414)\n"
     ]
    },
    {
     "name": "stderr",
     "output_type": "stream",
     "text": [
      "\r",
      " 33%|███▎      | 33/100 [00:18<00:36,  1.83it/s]"
     ]
    },
    {
     "name": "stdout",
     "output_type": "stream",
     "text": [
      "(array([ 0.43394628, -0.42876541]), 7.8, 7.8, 0.39269908169872414)\n"
     ]
    },
    {
     "name": "stderr",
     "output_type": "stream",
     "text": [
      "\r",
      " 34%|███▍      | 34/100 [00:18<00:36,  1.83it/s]"
     ]
    },
    {
     "name": "stdout",
     "output_type": "stream",
     "text": [
      "(array([-0.2385678 ,  0.38643905]), 8.6, 8.6, 0.39269908169872414)\n"
     ]
    },
    {
     "name": "stderr",
     "output_type": "stream",
     "text": [
      "\r",
      " 35%|███▌      | 35/100 [00:19<00:35,  1.84it/s]"
     ]
    },
    {
     "name": "stdout",
     "output_type": "stream",
     "text": [
      "(array([ 0.17616808, -0.77426707]), 6.6, 6.6, 0.39269908169872414)\n"
     ]
    },
    {
     "name": "stderr",
     "output_type": "stream",
     "text": [
      "\r",
      " 36%|███▌      | 36/100 [00:20<00:34,  1.84it/s]"
     ]
    },
    {
     "name": "stdout",
     "output_type": "stream",
     "text": [
      "(array([-0.12563619,  0.19908678]), 6.0, 6.0, 0.39269908169872414)\n"
     ]
    },
    {
     "name": "stderr",
     "output_type": "stream",
     "text": [
      "\r",
      " 37%|███▋      | 37/100 [00:20<00:34,  1.83it/s]"
     ]
    },
    {
     "name": "stdout",
     "output_type": "stream",
     "text": [
      "(array([-0.56935409,  0.31088385]), 7.5, 7.5, 0.39269908169872414)\n"
     ]
    },
    {
     "name": "stderr",
     "output_type": "stream",
     "text": [
      "\r",
      " 38%|███▊      | 38/100 [00:21<00:33,  1.84it/s]"
     ]
    },
    {
     "name": "stdout",
     "output_type": "stream",
     "text": [
      "(array([ 0.28946016, -0.69081118]), 8.4, 8.4, 0.39269908169872414)\n"
     ]
    },
    {
     "name": "stderr",
     "output_type": "stream",
     "text": [
      "\r",
      " 39%|███▉      | 39/100 [00:21<00:33,  1.84it/s]"
     ]
    },
    {
     "name": "stdout",
     "output_type": "stream",
     "text": [
      "(array([ 0.37152289, -0.65302799]), 9.1, 9.1, 0.39269908169872414)\n"
     ]
    },
    {
     "name": "stderr",
     "output_type": "stream",
     "text": [
      "\r",
      " 40%|████      | 40/100 [00:22<00:32,  1.82it/s]"
     ]
    },
    {
     "name": "stdout",
     "output_type": "stream",
     "text": [
      "(array([ 0.20114025, -0.46045142]), 7.3, 7.3, 0.39269908169872414)\n"
     ]
    },
    {
     "name": "stderr",
     "output_type": "stream",
     "text": [
      "\r",
      " 41%|████      | 41/100 [00:22<00:33,  1.79it/s]"
     ]
    },
    {
     "name": "stdout",
     "output_type": "stream",
     "text": [
      "(array([ 0.563001  , -0.68543659]), 8.0, 8.0, 0.39269908169872414)\n"
     ]
    },
    {
     "name": "stderr",
     "output_type": "stream",
     "text": [
      "\r",
      " 42%|████▏     | 42/100 [00:23<00:32,  1.79it/s]"
     ]
    },
    {
     "name": "stdout",
     "output_type": "stream",
     "text": [
      "(array([ 0.5137119 , -0.54432783]), 8.9, 8.9, 0.39269908169872414)\n"
     ]
    },
    {
     "name": "stderr",
     "output_type": "stream",
     "text": [
      "\r",
      " 43%|████▎     | 43/100 [00:24<00:33,  1.72it/s]"
     ]
    },
    {
     "name": "stdout",
     "output_type": "stream",
     "text": [
      "(array([ 0.57410275, -0.41528833]), 8.2, 8.2, 0.39269908169872414)\n"
     ]
    },
    {
     "name": "stderr",
     "output_type": "stream",
     "text": [
      "\r",
      " 44%|████▍     | 44/100 [00:24<00:32,  1.71it/s]"
     ]
    },
    {
     "name": "stdout",
     "output_type": "stream",
     "text": [
      "(array([-0.39623132,  0.56172413]), 8.9, 8.9, 0.39269908169872414)\n"
     ]
    },
    {
     "name": "stderr",
     "output_type": "stream",
     "text": [
      "\r",
      " 45%|████▌     | 45/100 [00:25<00:32,  1.71it/s]"
     ]
    },
    {
     "name": "stdout",
     "output_type": "stream",
     "text": [
      "(array([ 0.09419825, -0.22605297]), 6.6, 6.6, 0.39269908169872414)\n"
     ]
    },
    {
     "name": "stderr",
     "output_type": "stream",
     "text": [
      "\r",
      " 46%|████▌     | 46/100 [00:25<00:31,  1.69it/s]"
     ]
    },
    {
     "name": "stdout",
     "output_type": "stream",
     "text": [
      "(array([-0.23336658,  0.63719965]), 7.8, 7.8, 0.39269908169872414)\n"
     ]
    },
    {
     "name": "stderr",
     "output_type": "stream",
     "text": [
      "\r",
      " 47%|████▋     | 47/100 [00:26<00:32,  1.65it/s]"
     ]
    },
    {
     "name": "stdout",
     "output_type": "stream",
     "text": [
      "(array([-0.43962978,  0.65520071]), 8.4, 8.4, 0.39269908169872414)\n"
     ]
    },
    {
     "name": "stderr",
     "output_type": "stream",
     "text": [
      "\r",
      " 48%|████▊     | 48/100 [00:27<00:34,  1.52it/s]"
     ]
    },
    {
     "name": "stdout",
     "output_type": "stream",
     "text": [
      "(array([-0.20977183,  0.69719035]), 7.6, 7.6, 0.39269908169872414)\n"
     ]
    },
    {
     "name": "stderr",
     "output_type": "stream",
     "text": [
      "\r",
      " 49%|████▉     | 49/100 [00:27<00:34,  1.47it/s]"
     ]
    },
    {
     "name": "stdout",
     "output_type": "stream",
     "text": [
      "(array([-0.319353  ,  0.54559543]), 8.6, 8.6, 0.39269908169872414)\n"
     ]
    },
    {
     "name": "stderr",
     "output_type": "stream",
     "text": [
      "\r",
      " 50%|█████     | 50/100 [00:28<00:35,  1.42it/s]"
     ]
    },
    {
     "name": "stdout",
     "output_type": "stream",
     "text": [
      "(array([ 0.30011218, -0.26495179]), 6.4, 6.4, 0.39269908169872414)\n"
     ]
    },
    {
     "name": "stderr",
     "output_type": "stream",
     "text": [
      "\r",
      " 51%|█████     | 51/100 [00:29<00:33,  1.45it/s]"
     ]
    },
    {
     "name": "stdout",
     "output_type": "stream",
     "text": [
      "(array([-0.38684532,  0.28525337]), 7.2, 7.2, 0.39269908169872414)\n"
     ]
    },
    {
     "name": "stderr",
     "output_type": "stream",
     "text": [
      "\r",
      " 52%|█████▏    | 52/100 [00:30<00:31,  1.50it/s]"
     ]
    },
    {
     "name": "stdout",
     "output_type": "stream",
     "text": [
      "(array([ 0.35719682, -0.34219237]), 7.7, 7.7, 0.39269908169872414)\n"
     ]
    },
    {
     "name": "stderr",
     "output_type": "stream",
     "text": [
      "\r",
      " 53%|█████▎    | 53/100 [00:30<00:30,  1.56it/s]"
     ]
    },
    {
     "name": "stdout",
     "output_type": "stream",
     "text": [
      "(array([-0.43948704,  0.15505258]), 7.1, 7.1, 0.39269908169872414)\n"
     ]
    },
    {
     "name": "stderr",
     "output_type": "stream",
     "text": [
      "\r",
      " 54%|█████▍    | 54/100 [00:31<00:29,  1.56it/s]"
     ]
    },
    {
     "name": "stdout",
     "output_type": "stream",
     "text": [
      "(array([-0.24204704,  0.58907567]), 8.4, 8.4, 0.39269908169872414)\n"
     ]
    },
    {
     "name": "stderr",
     "output_type": "stream",
     "text": [
      "\r",
      " 55%|█████▌    | 55/100 [00:32<00:30,  1.47it/s]"
     ]
    },
    {
     "name": "stdout",
     "output_type": "stream",
     "text": [
      "(array([ 0.28617087, -0.48816712]), 8.6, 8.6, 0.39269908169872414)\n"
     ]
    },
    {
     "name": "stderr",
     "output_type": "stream",
     "text": [
      "\r",
      " 56%|█████▌    | 56/100 [00:32<00:29,  1.47it/s]"
     ]
    },
    {
     "name": "stdout",
     "output_type": "stream",
     "text": [
      "(array([-0.22624716,  0.52735669]), 8.2, 8.2, 0.39269908169872414)\n"
     ]
    },
    {
     "name": "stderr",
     "output_type": "stream",
     "text": [
      "\r",
      " 57%|█████▋    | 57/100 [00:33<00:29,  1.48it/s]"
     ]
    },
    {
     "name": "stdout",
     "output_type": "stream",
     "text": [
      "(array([ 0.15177436, -0.54666415]), 7.4, 7.4, 0.39269908169872414)\n"
     ]
    },
    {
     "name": "stderr",
     "output_type": "stream",
     "text": [
      "\r",
      " 58%|█████▊    | 58/100 [00:33<00:27,  1.55it/s]"
     ]
    },
    {
     "name": "stdout",
     "output_type": "stream",
     "text": [
      "(array([ 0.32057554, -0.5294889 ]), 8.4, 8.4, 0.39269908169872414)\n"
     ]
    },
    {
     "name": "stderr",
     "output_type": "stream",
     "text": [
      "\r",
      " 59%|█████▉    | 59/100 [00:34<00:27,  1.52it/s]"
     ]
    },
    {
     "name": "stdout",
     "output_type": "stream",
     "text": [
      "(array([ 0.19215237, -0.44077726]), 7.4, 7.4, 0.39269908169872414)\n"
     ]
    },
    {
     "name": "stderr",
     "output_type": "stream",
     "text": [
      "\r",
      " 60%|██████    | 60/100 [00:35<00:26,  1.49it/s]"
     ]
    },
    {
     "name": "stdout",
     "output_type": "stream",
     "text": [
      "(array([ 0.08271769, -0.15326077]), 6.2, 6.2, 0.39269908169872414)\n"
     ]
    },
    {
     "name": "stderr",
     "output_type": "stream",
     "text": [
      "\r",
      " 61%|██████    | 61/100 [00:35<00:26,  1.48it/s]"
     ]
    },
    {
     "name": "stdout",
     "output_type": "stream",
     "text": [
      "(array([-0.15087977,  0.28874164]), 6.9, 6.9, 0.39269908169872414)\n"
     ]
    },
    {
     "name": "stderr",
     "output_type": "stream",
     "text": [
      "\r",
      " 62%|██████▏   | 62/100 [00:36<00:25,  1.51it/s]"
     ]
    },
    {
     "name": "stdout",
     "output_type": "stream",
     "text": [
      "(array([-0.24023332,  0.20369886]), 7.2, 7.2, 0.39269908169872414)\n"
     ]
    },
    {
     "name": "stderr",
     "output_type": "stream",
     "text": [
      "\r",
      " 63%|██████▎   | 63/100 [00:37<00:23,  1.55it/s]"
     ]
    },
    {
     "name": "stdout",
     "output_type": "stream",
     "text": [
      "(array([-0.27906725,  0.58595997]), 8.5, 8.5, 0.39269908169872414)\n"
     ]
    },
    {
     "name": "stderr",
     "output_type": "stream",
     "text": [
      "\r",
      " 64%|██████▍   | 64/100 [00:37<00:23,  1.53it/s]"
     ]
    },
    {
     "name": "stdout",
     "output_type": "stream",
     "text": [
      "(array([-0.46904619,  0.40334974]), 8.4, 8.4, 0.39269908169872414)\n"
     ]
    },
    {
     "name": "stderr",
     "output_type": "stream",
     "text": [
      "\r",
      " 65%|██████▌   | 65/100 [00:38<00:22,  1.54it/s]"
     ]
    },
    {
     "name": "stdout",
     "output_type": "stream",
     "text": [
      "(array([-0.44308141,  0.83030153]), 8.4, 8.4, 0.39269908169872414)\n"
     ]
    },
    {
     "name": "stderr",
     "output_type": "stream",
     "text": [
      "\r",
      " 66%|██████▌   | 66/100 [00:39<00:22,  1.51it/s]"
     ]
    },
    {
     "name": "stdout",
     "output_type": "stream",
     "text": [
      "(array([ 0.579857 , -0.2904812]), 7.1, 7.1, 0.39269908169872414)\n"
     ]
    },
    {
     "name": "stderr",
     "output_type": "stream",
     "text": [
      "\r",
      " 67%|██████▋   | 67/100 [00:40<00:23,  1.41it/s]"
     ]
    },
    {
     "name": "stdout",
     "output_type": "stream",
     "text": [
      "(array([ 0.30589122, -0.5554027 ]), 8.3, 8.3, 0.39269908169872414)\n"
     ]
    },
    {
     "name": "stderr",
     "output_type": "stream",
     "text": [
      "\r",
      " 68%|██████▊   | 68/100 [00:40<00:22,  1.43it/s]"
     ]
    },
    {
     "name": "stdout",
     "output_type": "stream",
     "text": [
      "(array([ 0.31950617, -0.56813828]), 8.7, 8.7, 0.39269908169872414)\n"
     ]
    },
    {
     "name": "stderr",
     "output_type": "stream",
     "text": [
      "\r",
      " 69%|██████▉   | 69/100 [00:41<00:20,  1.48it/s]"
     ]
    },
    {
     "name": "stdout",
     "output_type": "stream",
     "text": [
      "(array([ 0.15006795, -0.29557711]), 7.8, 7.8, 0.39269908169872414)\n"
     ]
    },
    {
     "name": "stderr",
     "output_type": "stream",
     "text": [
      "\r",
      " 70%|███████   | 70/100 [00:42<00:20,  1.48it/s]"
     ]
    },
    {
     "name": "stdout",
     "output_type": "stream",
     "text": [
      "(array([-0.38577375,  0.33781067]), 7.9, 7.9, 0.39269908169872414)\n"
     ]
    },
    {
     "name": "stderr",
     "output_type": "stream",
     "text": [
      "\r",
      " 71%|███████   | 71/100 [00:42<00:19,  1.51it/s]"
     ]
    },
    {
     "name": "stdout",
     "output_type": "stream",
     "text": [
      "(array([ 0.3070535 , -0.64646388]), 8.5, 8.5, 0.39269908169872414)\n"
     ]
    },
    {
     "name": "stderr",
     "output_type": "stream",
     "text": [
      "\r",
      " 72%|███████▏  | 72/100 [00:43<00:17,  1.56it/s]"
     ]
    },
    {
     "name": "stdout",
     "output_type": "stream",
     "text": [
      "(array([ 0.6987344 , -0.59615848]), 7.2, 7.2, 0.39269908169872414)\n"
     ]
    },
    {
     "name": "stderr",
     "output_type": "stream",
     "text": [
      "\r",
      " 73%|███████▎  | 73/100 [00:43<00:17,  1.58it/s]"
     ]
    },
    {
     "name": "stdout",
     "output_type": "stream",
     "text": [
      "(array([1.04189936, 0.51988643]), 8.4, 8.4, 0.39269908169872414)\n"
     ]
    },
    {
     "name": "stderr",
     "output_type": "stream",
     "text": [
      "\r",
      " 74%|███████▍  | 74/100 [00:44<00:17,  1.50it/s]"
     ]
    },
    {
     "name": "stdout",
     "output_type": "stream",
     "text": [
      "(array([ 0.57320687, -0.43064079]), 7.6, 7.6, 0.39269908169872414)\n"
     ]
    },
    {
     "name": "stderr",
     "output_type": "stream",
     "text": [
      "\r",
      " 75%|███████▌  | 75/100 [00:45<00:17,  1.45it/s]"
     ]
    },
    {
     "name": "stdout",
     "output_type": "stream",
     "text": [
      "(array([-0.33464312,  0.25459981]), 7.2, 7.2, 0.39269908169872414)\n"
     ]
    },
    {
     "name": "stderr",
     "output_type": "stream",
     "text": [
      "\r",
      " 76%|███████▌  | 76/100 [00:46<00:17,  1.40it/s]"
     ]
    },
    {
     "name": "stdout",
     "output_type": "stream",
     "text": [
      "(array([ 0.32284768, -0.2360683 ]), 8.2, 8.2, 0.39269908169872414)\n"
     ]
    },
    {
     "name": "stderr",
     "output_type": "stream",
     "text": [
      "\r",
      " 77%|███████▋  | 77/100 [00:46<00:16,  1.36it/s]"
     ]
    },
    {
     "name": "stdout",
     "output_type": "stream",
     "text": [
      "(array([ 0.19373216, -0.7362607 ]), 7.7, 7.7, 0.39269908169872414)\n"
     ]
    },
    {
     "name": "stderr",
     "output_type": "stream",
     "text": [
      "\r",
      " 78%|███████▊  | 78/100 [00:47<00:16,  1.34it/s]"
     ]
    },
    {
     "name": "stdout",
     "output_type": "stream",
     "text": [
      "(array([ 0.40825673, -0.65688323]), 8.4, 8.4, 0.39269908169872414)\n"
     ]
    },
    {
     "name": "stderr",
     "output_type": "stream",
     "text": [
      "\r",
      " 79%|███████▉  | 79/100 [00:48<00:15,  1.33it/s]"
     ]
    },
    {
     "name": "stdout",
     "output_type": "stream",
     "text": [
      "(array([ 0.3980429, -0.2936542]), 7.3, 7.3, 0.39269908169872414)\n"
     ]
    },
    {
     "name": "stderr",
     "output_type": "stream",
     "text": [
      "\r",
      " 80%|████████  | 80/100 [00:49<00:14,  1.35it/s]"
     ]
    },
    {
     "name": "stdout",
     "output_type": "stream",
     "text": [
      "(array([ 0.61179711, -0.32382604]), 7.0, 7.0, 0.39269908169872414)\n"
     ]
    },
    {
     "name": "stderr",
     "output_type": "stream",
     "text": [
      "\r",
      " 81%|████████  | 81/100 [00:49<00:14,  1.32it/s]"
     ]
    },
    {
     "name": "stdout",
     "output_type": "stream",
     "text": [
      "(array([ 0.45125044, -0.63470429]), 7.9, 7.9, 0.39269908169872414)\n"
     ]
    },
    {
     "name": "stderr",
     "output_type": "stream",
     "text": [
      "\r",
      " 82%|████████▏ | 82/100 [00:50<00:13,  1.32it/s]"
     ]
    },
    {
     "name": "stdout",
     "output_type": "stream",
     "text": [
      "(array([ 0.29715525, -0.26119796]), 7.7, 7.7, 0.39269908169872414)\n"
     ]
    },
    {
     "name": "stderr",
     "output_type": "stream",
     "text": [
      "\r",
      " 83%|████████▎ | 83/100 [00:51<00:12,  1.36it/s]"
     ]
    },
    {
     "name": "stdout",
     "output_type": "stream",
     "text": [
      "(array([-0.24731618,  0.37328795]), 7.8, 7.8, 0.39269908169872414)\n"
     ]
    },
    {
     "name": "stderr",
     "output_type": "stream",
     "text": [
      "\r",
      " 84%|████████▍ | 84/100 [00:52<00:11,  1.40it/s]"
     ]
    },
    {
     "name": "stdout",
     "output_type": "stream",
     "text": [
      "(array([-0.45668927,  0.59550833]), 7.8, 7.8, 0.39269908169872414)\n"
     ]
    },
    {
     "name": "stderr",
     "output_type": "stream",
     "text": [
      "\r",
      " 85%|████████▌ | 85/100 [00:52<00:10,  1.44it/s]"
     ]
    },
    {
     "name": "stdout",
     "output_type": "stream",
     "text": [
      "(array([ 0.4236109 , -0.44584115]), 8.5, 8.5, 0.39269908169872414)\n"
     ]
    },
    {
     "name": "stderr",
     "output_type": "stream",
     "text": [
      "\r",
      " 86%|████████▌ | 86/100 [00:53<00:09,  1.52it/s]"
     ]
    },
    {
     "name": "stdout",
     "output_type": "stream",
     "text": [
      "(array([-0.32857359,  0.46303068]), 8.6, 8.6, 0.39269908169872414)\n"
     ]
    },
    {
     "name": "stderr",
     "output_type": "stream",
     "text": [
      "\r",
      " 87%|████████▋ | 87/100 [00:53<00:08,  1.57it/s]"
     ]
    },
    {
     "name": "stdout",
     "output_type": "stream",
     "text": [
      "(array([ 0.31758163, -0.33635201]), 7.5, 7.5, 0.39269908169872414)\n"
     ]
    },
    {
     "name": "stderr",
     "output_type": "stream",
     "text": [
      "\r",
      " 88%|████████▊ | 88/100 [00:54<00:07,  1.58it/s]"
     ]
    },
    {
     "name": "stdout",
     "output_type": "stream",
     "text": [
      "(array([ 0.27497018, -0.33407144]), 7.7, 7.7, 0.39269908169872414)\n"
     ]
    },
    {
     "name": "stderr",
     "output_type": "stream",
     "text": [
      "\r",
      " 89%|████████▉ | 89/100 [00:55<00:06,  1.64it/s]"
     ]
    },
    {
     "name": "stdout",
     "output_type": "stream",
     "text": [
      "(array([-0.44569405,  0.43902022]), 8.5, 8.5, 0.39269908169872414)\n"
     ]
    },
    {
     "name": "stderr",
     "output_type": "stream",
     "text": [
      "\r",
      " 90%|█████████ | 90/100 [00:55<00:05,  1.67it/s]"
     ]
    },
    {
     "name": "stdout",
     "output_type": "stream",
     "text": [
      "(array([-0.40222727,  0.57697195]), 8.2, 8.2, 0.39269908169872414)\n"
     ]
    },
    {
     "name": "stderr",
     "output_type": "stream",
     "text": [
      "\r",
      " 91%|█████████ | 91/100 [00:56<00:05,  1.67it/s]"
     ]
    },
    {
     "name": "stdout",
     "output_type": "stream",
     "text": [
      "(array([-0.45900693,  0.53109153]), 8.6, 8.6, 0.39269908169872414)\n"
     ]
    },
    {
     "name": "stderr",
     "output_type": "stream",
     "text": [
      "\r",
      " 92%|█████████▏| 92/100 [00:56<00:04,  1.69it/s]"
     ]
    },
    {
     "name": "stdout",
     "output_type": "stream",
     "text": [
      "(array([-0.44148   ,  0.60669582]), 9.0, 9.0, 0.39269908169872414)\n"
     ]
    },
    {
     "name": "stderr",
     "output_type": "stream",
     "text": [
      "\r",
      " 93%|█████████▎| 93/100 [00:57<00:04,  1.72it/s]"
     ]
    },
    {
     "name": "stdout",
     "output_type": "stream",
     "text": [
      "(array([-0.29514027,  0.8273126 ]), 8.0, 8.0, 0.39269908169872414)\n"
     ]
    },
    {
     "name": "stderr",
     "output_type": "stream",
     "text": [
      "\r",
      " 94%|█████████▍| 94/100 [00:57<00:03,  1.70it/s]"
     ]
    },
    {
     "name": "stdout",
     "output_type": "stream",
     "text": [
      "(array([ 0.51282274, -0.41988428]), 8.5, 8.5, 0.39269908169872414)\n"
     ]
    },
    {
     "name": "stderr",
     "output_type": "stream",
     "text": [
      "\r",
      " 95%|█████████▌| 95/100 [00:58<00:02,  1.68it/s]"
     ]
    },
    {
     "name": "stdout",
     "output_type": "stream",
     "text": [
      "(array([-0.11454561,  0.35246088]), 7.0, 7.0, 0.39269908169872414)\n"
     ]
    },
    {
     "name": "stderr",
     "output_type": "stream",
     "text": [
      "\r",
      " 96%|█████████▌| 96/100 [00:59<00:02,  1.70it/s]"
     ]
    },
    {
     "name": "stdout",
     "output_type": "stream",
     "text": [
      "(array([-0.90640409, -0.57707958]), 6.7, 6.7, 0.39269908169872414)\n"
     ]
    },
    {
     "name": "stderr",
     "output_type": "stream",
     "text": [
      "\r",
      " 97%|█████████▋| 97/100 [00:59<00:01,  1.71it/s]"
     ]
    },
    {
     "name": "stdout",
     "output_type": "stream",
     "text": [
      "(array([-0.17191792,  0.4441099 ]), 7.5, 7.5, 0.39269908169872414)\n"
     ]
    },
    {
     "name": "stderr",
     "output_type": "stream",
     "text": [
      "\r",
      " 98%|█████████▊| 98/100 [01:00<00:01,  1.74it/s]"
     ]
    },
    {
     "name": "stdout",
     "output_type": "stream",
     "text": [
      "(array([ 0.26847477, -0.23525259]), 7.5, 7.5, 0.39269908169872414)\n"
     ]
    },
    {
     "name": "stderr",
     "output_type": "stream",
     "text": [
      "\r",
      " 99%|█████████▉| 99/100 [01:00<00:00,  1.72it/s]"
     ]
    },
    {
     "name": "stdout",
     "output_type": "stream",
     "text": [
      "(array([-0.18219051,  0.36495588]), 7.1, 7.1, 0.39269908169872414)\n"
     ]
    },
    {
     "name": "stderr",
     "output_type": "stream",
     "text": [
      "100%|██████████| 100/100 [01:02<00:00,  1.61it/s]"
     ]
    },
    {
     "name": "stdout",
     "output_type": "stream",
     "text": [
      "(array([-0.51948382,  0.49425195]), 7.6, 7.6, 0.39269908169872414)\n",
      "fitness at iteration 100 7.6\n",
      "local optimum discovered by solver:\n",
      " [-0.51948382  0.49425195]\n",
      "fitness score at this local optimum: 7.6\n"
     ]
    },
    {
     "name": "stderr",
     "output_type": "stream",
     "text": [
      "\n"
     ]
    }
   ],
   "source": [
    "history, result = test_solver(oes)\n"
   ]
  },
  {
   "cell_type": "code",
   "execution_count": 118,
   "metadata": {},
   "outputs": [
    {
     "data": {
      "text/plain": [
       "<matplotlib.collections.PathCollection at 0x7f7082f6e2e0>"
      ]
     },
     "execution_count": 118,
     "metadata": {},
     "output_type": "execute_result"
    },
    {
     "data": {
      "image/png": "[encoded data removed]",
      "text/plain": [
       "<Figure size 432x288 with 1 Axes>"
      ]
     },
     "metadata": {
      "needs_background": "light"
     },
     "output_type": "display_data"
    }
   ],
   "source": [
    "plt.imshow(all_data)\n",
    "xys = [h[0] for h in history]\n",
    "x = [el[0]%(bound)*(samples-1)/(bound) for el in xys]\n",
    "y = [el[1]%(bound)*(samples-1)/(bound) for el in xys]\n",
    "plt.scatter(x, y)"
   ]
  },
  {
   "cell_type": "code",
   "execution_count": 119,
   "metadata": {},
   "outputs": [],
   "source": [
    "# It's currently reporting the average fitness, which of course it might want to use when it's estimating the energy\n",
    "# But at the end it should report the maximum value. Here the mean is 10.1, which suggests that a better bitstring was \n",
    "# sampled."
   ]
  },
  {
   "cell_type": "markdown",
   "metadata": {},
   "source": [
    "# Annealing"
   ]
  },
  {
   "cell_type": "code",
   "execution_count": 120,
   "metadata": {},
   "outputs": [
    {
     "data": {
      "text/plain": [
       "(array([5.05003666, 2.60090007]), 8.3)"
      ]
     },
     "execution_count": 120,
     "metadata": {},
     "output_type": "execute_result"
    }
   ],
   "source": [
    "from tqdm import tqdm\n",
    "annealing_attempts = []\n",
    "func, history2 = objective(graph)\n",
    "np.random.seed(seed)\n",
    "initial_gamma_beta = [np.random.rand() * max_param for max_param in (max_gamma, max_beta)]\n",
    "result = dual_annealing(\n",
    "    lambda x: -1*func(x),\n",
    "    bounds=[(0, max_gamma),\n",
    "            (0, max_beta)],\n",
    "    x0=np.array(initial_gamma_beta),\n",
    "    # One annealing attempt.\n",
    "    maxiter=10,\n",
    "    maxfun=one_hour*reprate,\n",
    "    seed=1)\n",
    "result.fun = -result.fun\n",
    "(result.x, result.fun)        "
   ]
  },
  {
   "cell_type": "code",
   "execution_count": 121,
   "metadata": {},
   "outputs": [
    {
     "data": {
      "text/plain": [
       "<matplotlib.image.AxesImage at 0x7f70983cc970>"
      ]
     },
     "execution_count": 121,
     "metadata": {},
     "output_type": "execute_result"
    },
    {
     "data": {
      "image/png": "[encoded data removed]",
      "text/plain": [
       "<Figure size 432x288 with 1 Axes>"
      ]
     },
     "metadata": {
      "needs_background": "light"
     },
     "output_type": "display_data"
    }
   ],
   "source": [
    "xys2 = [h[0] for h in history2]\n",
    "x2 = [el[0]%(bound)*(samples-1)/(bound) for el in xys2]\n",
    "y2 = [el[1]%(bound)*(samples-1)/(bound) for el in xys2]\n",
    "plt.scatter(x2,y2)\n",
    "plt.scatter([result.x[0]%(bound)*(samples-1)/(bound)], [result.x[1]%(bound)*(samples-1)/(bound)])\n",
    "plt.imshow(all_data)"
   ]
  },
  {
   "cell_type": "code",
   "execution_count": null,
   "metadata": {},
   "outputs": [],
   "source": []
  }
 ],
 "metadata": {
  "kernelspec": {
   "display_name": "Python 3",
   "language": "python",
   "name": "python3"
  },
  "language_info": {
   "codemirror_mode": {
    "name": "ipython",
    "version": 3
   },
   "file_extension": ".py",
   "mimetype": "text/x-python",
   "name": "python",
   "nbconvert_exporter": "python",
   "pygments_lexer": "ipython3",
   "version": "3.8.5"
  }
 },
 "nbformat": 4,
 "nbformat_minor": 4
}
