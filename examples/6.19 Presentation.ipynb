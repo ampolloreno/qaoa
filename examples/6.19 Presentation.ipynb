{
 "cells": [
  {
   "cell_type": "code",
   "execution_count": 1,
   "metadata": {},
   "outputs": [
    {
     "name": "stderr",
     "output_type": "stream",
     "text": [
      "/Users/anthonypolloreno/.pyenv/versions/3.7.4/envs/qaoa_venv/lib/python3.7/site-packages/pandas/compat/__init__.py:117: UserWarning: Could not import the lzma module. Your installed Python is incomplete. Attempting to use lzma compression will result in a RuntimeError.\n",
      "  warnings.warn(msg)\n"
     ]
    },
    {
     "name": "stdout",
     "output_type": "stream",
     "text": [
      "Automatic pdb calling has been turned ON\n"
     ]
    }
   ],
   "source": [
    "from coldquanta.qiskit_tools.coldquanta_sim_backend import ColdQuantaSimBackend\n",
    "from networkx import Graph, draw_planar\n",
    "from recirq.qaoa.classical_angle_optimization import optimize_instance_interp_heuristic\n",
    "import numpy as np \n",
    "from classical_optimization.qaoa_circuits import maxcut_qaoa_circuit\n",
    "from qiskit import Aer, execute\n",
    "from classical_optimization.qaoa_circuits import estimate_cost\n",
    "from classical_optimization.qaoa_circuits import plot_landscape\n",
    "\n",
    "%load_ext autoreload\n",
    "%autoreload 2\n",
    "%pdb"
   ]
  },
  {
   "cell_type": "code",
   "execution_count": 2,
   "metadata": {},
   "outputs": [],
   "source": [
    "rows = 3\n",
    "cols = 3\n",
    "neutral_atom = ColdQuantaSimBackend(rows=rows, cols=cols)\n",
    "neutral_atom_config = neutral_atom.configuration()\n",
    "coupling_map = neutral_atom_config.coupling_map\n",
    "\n",
    "g = Graph()\n",
    "            \n",
    "weights = set()\n",
    "for k in coupling_map:\n",
    "    weights.add((min(k), max(k)))\n",
    "# Fix the weights to 1, for now.\n",
    "weights = {k: 1  for k in weights}\n",
    "\n",
    "for k,v in weights.items():\n",
    "    g.add_edge(k[0], k[1], weight=v)\n",
    "\n",
    "def produce_gammas_betas(discretization, max_gamma, max_beta):\n",
    "    return np.linspace(0, max_gamma, discretization), np.linspace(0, max_beta, discretization)\n",
    "\n",
    "discretization = 20\n",
    "max_gamma = 2*np.pi\n",
    "max_beta = np.pi\n",
    "gammas, betas = produce_gammas_betas(discretization, max_gamma, max_beta)\n",
    "\n",
    "simulator = Aer.get_backend('qasm_simulator')\n",
    "num_shots = 1024\n",
    "experiments = []\n",
    "for gamma in gammas:\n",
    "    for beta in betas:\n",
    "        experiments.append(maxcut_qaoa_circuit(gammas=[gamma], betas=[beta], p=1, rows=rows, cols=cols, weights=weights))\n",
    "job = execute(experiments, backend=simulator, shots=num_shots)    \n",
    "all_counts = job.result().get_counts()    \n",
    "landscape = np.zeros((discretization, discretization))\n",
    "for i, gamma in enumerate(gammas):\n",
    "    for j, beta in enumerate(betas):\n",
    "        landscape[i][j] = estimate_cost(all_counts[i*len(betas) + j], weights)"
   ]
  },
  {
   "cell_type": "code",
   "execution_count": 3,
   "metadata": {},
   "outputs": [],
   "source": [
    "from classical_optimization.qaoa_circuits import gamma_beta_to_index \n",
    "#result = optimize_instance_interp_heuristic(g, 1)[0]\n",
    "#init_gamma, init_beta = gamma_beta_to_index(result.gammas[0], result.betas[0], discretization, max_gamma, max_beta)\n",
    "init_gamma, init_beta = .5, 1.57"
   ]
  },
  {
   "cell_type": "code",
   "execution_count": 4,
   "metadata": {
    "scrolled": true
   },
   "outputs": [
    {
     "name": "stdout",
     "output_type": "stream",
     "text": [
      "$\\gamma$,$\\beta$=[0.28990445 2.03849862]\n",
      "Max cut is 6.767\n"
     ]
    },
    {
     "data": {
      "image/png": "[encoded data removed]",
      "text/plain": [
       "<Figure size 432x288 with 2 Axes>"
      ]
     },
     "metadata": {
      "needs_background": "light"
     },
     "output_type": "display_data"
    }
   ],
   "source": [
    "from classical_optimization.qaoa_circuits import try_optimizer, plot_history_over_landscape\n",
    "import matplotlib.pyplot as plt\n",
    "from coldquanta.qiskit_tools.modeling.neutral_atom_noise_model import create_noise_model\n",
    "\n",
    "noise_model = create_noise_model(cz_fidelity=.9)\n",
    "history = []\n",
    "try_optimizer('mgd', simulator, coupling_map, shots_per_point=1_000, weights=weights, max_gamma=max_gamma,\n",
    "              max_beta=max_beta, rows=rows, cols=cols, history=history, initial_gamma_beta=[init_gamma, init_beta],\n",
    "              noise_model=noise_model)\n",
    "plot_history_over_landscape(history, landscape, discretization, max_gamma, max_beta)"
   ]
  }
 ],
 "metadata": {
  "kernelspec": {
   "display_name": "Python 3",
   "language": "python",
   "name": "python3"
  },
  "language_info": {
   "codemirror_mode": {
    "name": "ipython",
    "version": 3
   },
   "file_extension": ".py",
   "mimetype": "text/x-python",
   "name": "python",
   "nbconvert_exporter": "python",
   "pygments_lexer": "ipython3",
   "version": "3.7.4"
  }
 },
 "nbformat": 4,
 "nbformat_minor": 4
}
