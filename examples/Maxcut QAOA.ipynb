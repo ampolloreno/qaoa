{
 "cells": [
  {
   "cell_type": "code",
   "execution_count": 2,
   "metadata": {},
   "outputs": [],
   "source": [
    "# For this notebook, we've picked an instance of maxcut. Other problems are more interesting,\n",
    "# but this is the one always used in the literature.\n",
    "\n",
    "# The goal here is to setup a Maxcut QAOA instance using qiskit, and execute it on the qiskit simulator\n",
    "# using the ColdQuanta API. To validate our results, we will look for the canonical ``qaoa landscape\" and \n",
    "# see that it loses contrast when the noise is increased."
   ]
  },
  {
   "cell_type": "code",
   "execution_count": 32,
   "metadata": {},
   "outputs": [],
   "source": [
    "from coldquanta.qiskit_tools.coldquanta_sim_backend import ColdQuantaSimBackend\n",
    "# Set up a 2x2 grid topology.\n",
    "rows = cols = 2\n",
    "neutral_atom = ColdQuantaSimBackend(rows=rows, cols=cols)\n",
    "neutral_atom_config = neutral_atom.configuration()\n",
    "coupling_map = neutral_atom_config.coupling_map"
   ]
  },
  {
   "cell_type": "code",
   "execution_count": 33,
   "metadata": {},
   "outputs": [
    {
     "data": {
      "image/png": "[encoded data removed]",
      "text/plain": [
       "<Figure size 432x288 with 1 Axes>"
      ]
     },
     "metadata": {},
     "output_type": "display_data"
    }
   ],
   "source": [
    "from networkx import Graph, draw_spring\n",
    "g = Graph(coupling_map)\n",
    "# Plot with the Fruchterman-Reingold force-directed algorithm.\n",
    "draw_spring(g)"
   ]
  },
  {
   "cell_type": "code",
   "execution_count": 34,
   "metadata": {},
   "outputs": [],
   "source": [
    "# We will currently only accept QAOA instances on graphs isomorphic to our own -\n",
    "# i.e. we are not implementing a compiler. Provide them as a dictionary.\n",
    "\n",
    "# Uniform weights.\n",
    "weights = {tuple(k): 1 for k in coupling_map}"
   ]
  },
  {
   "cell_type": "code",
   "execution_count": 52,
   "metadata": {},
   "outputs": [],
   "source": [
    "# It looks like Qiskit hasn't implemented any kind of exponentiation - \n",
    "# in particular, they write to use \"an Ising-type gate\":\n",
    "# https://qiskit.org/textbook/ch-applications/qaoa.html#2.1-(weighted)-$MAXCUT$\n",
    "# Rigetti has implemented an exponentiate-like feature -\n",
    "# http://docs.rigetti.com/en/stable/apidocs/autogen/pyquil.paulis.exponentiate.html#pyquil.paulis.exponentiate\n",
    "\n",
    "# For this example, everything is diagonal and we are free to just compute the QAOA circuit from the weights.\n",
    "# Taking from the qiskit tutorial:\n",
    "from qiskit import QuantumCircuit\n",
    "QAOA = QuantumCircuit(rows*cols, rows*cols) #qubits, classical bits\n",
    "\n",
    "def qaoa_circuit(gamma, beta):\n",
    "    # apply the layer of Hadamard gates to all qubits, and then fence all qubits.\n",
    "    QAOA.h(range(rows*cols))\n",
    "    QAOA.barrier()\n",
    "\n",
    "    # apply the Ising type gates with angle gamma along the edges in E\n",
    "    for edge, weight in weights.items():\n",
    "        k = edge[0]\n",
    "        l = edge[1]\n",
    "        # The following is a gate decomposition for a exp(-i*\\gamma*ZZ). **UNVERIFIED**.\n",
    "        # Controlled-U1 gate - i.e. Controlled phase.\n",
    "        QAOA.cu1(-2*gamma*weight, k, l)\n",
    "        QAOA.u1(gamma, k)\n",
    "        QAOA.u1(gamma, l)\n",
    "\n",
    "    # then apply the single qubit X - rotations with angle beta to all qubits\n",
    "    QAOA.barrier()\n",
    "    #\\exp^{-i\\beta\\sigma_x} = RX(2*\\beta), so the factor of two keeps us consistent with https://arxiv.org/pdf/1411.4028 \n",
    "    QAOA.rx(-2*beta, range(rows*cols))\n",
    "    return QAOA"
   ]
  },
  {
   "cell_type": "code",
   "execution_count": null,
   "metadata": {},
   "outputs": [],
   "source": []
  }
 ],
 "metadata": {
  "kernelspec": {
   "display_name": "Python 3",
   "language": "python",
   "name": "python3"
  },
  "language_info": {
   "codemirror_mode": {
    "name": "ipython",
    "version": 3
   },
   "file_extension": ".py",
   "mimetype": "text/x-python",
   "name": "python",
   "nbconvert_exporter": "python",
   "pygments_lexer": "ipython3",
   "version": "3.7.4"
  }
 },
 "nbformat": 4,
 "nbformat_minor": 4
}
