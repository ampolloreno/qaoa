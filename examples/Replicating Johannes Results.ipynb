{
 "cells": [
  {
   "cell_type": "code",
   "execution_count": 1,
   "metadata": {},
   "outputs": [],
   "source": [
    "%load_ext autoreload\n",
    "%autoreload 2"
   ]
  },
  {
   "cell_type": "code",
   "execution_count": 2,
   "metadata": {},
   "outputs": [
    {
     "name": "stderr",
     "output_type": "stream",
     "text": [
      "/home/ampolloreno/repos/cotengra/cotengra/hyper.py:29: UserWarning: Couldn't import `kahypar` - skipping from default hyper optimizer and using basic `labels` method instead.\n",
      "  warnings.warn(\"Couldn't import `kahypar` - skipping from default \"\n"
     ]
    }
   ],
   "source": [
    "import quimb as qu\n",
    "import quimb.tensor as qtn\n",
    "import cotengra as ctg\n",
    "\n",
    "opt = ctg.ReusableHyperOptimizer(\n",
    "    reconf_opts={},\n",
    "    max_repeats=16,\n",
    "    parallel=True,\n",
    ")"
   ]
  },
  {
   "cell_type": "code",
   "execution_count": 3,
   "metadata": {},
   "outputs": [
    {
     "name": "stderr",
     "output_type": "stream",
     "text": [
      "/home/ampolloreno/anaconda3/envs/qaoa/lib/python3.8/site-packages/qiskit/validation/fields/custom.py:76: DeprecationWarning: `np.float` is a deprecated alias for the builtin `float`. To silence this warning, use `float` by itself. Doing this will not modify any behavior and is safe. If you specifically wanted the numpy scalar type, use `np.float64` here.\n",
      "Deprecated in NumPy 1.20; for more details and guidance: https://numpy.org/devdocs/release/1.20.0-notes.html#deprecations\n",
      "  numpy.integer, numpy.float,\n",
      "/home/ampolloreno/anaconda3/envs/qaoa/lib/python3.8/site-packages/qiskit/quantum_info/operators/pauli.py:111: DeprecationWarning: `np.bool` is a deprecated alias for the builtin `bool`. To silence this warning, use `bool` by itself. Doing this will not modify any behavior and is safe. If you specifically wanted the numpy scalar type, use `np.bool_` here.\n",
      "Deprecated in NumPy 1.20; for more details and guidance: https://numpy.org/devdocs/release/1.20.0-notes.html#deprecations\n",
      "  z = np.zeros(len(label), dtype=np.bool)\n",
      "/home/ampolloreno/anaconda3/envs/qaoa/lib/python3.8/site-packages/qiskit/quantum_info/operators/pauli.py:112: DeprecationWarning: `np.bool` is a deprecated alias for the builtin `bool`. To silence this warning, use `bool` by itself. Doing this will not modify any behavior and is safe. If you specifically wanted the numpy scalar type, use `np.bool_` here.\n",
      "Deprecated in NumPy 1.20; for more details and guidance: https://numpy.org/devdocs/release/1.20.0-notes.html#deprecations\n",
      "  x = np.zeros(len(label), dtype=np.bool)\n",
      "/home/ampolloreno/anaconda3/envs/qaoa/lib/python3.8/site-packages/qiskit/quantum_info/operators/pauli.py:34: DeprecationWarning: `np.bool` is a deprecated alias for the builtin `bool`. To silence this warning, use `bool` by itself. Doing this will not modify any behavior and is safe. If you specifically wanted the numpy scalar type, use `np.bool_` here.\n",
      "Deprecated in NumPy 1.20; for more details and guidance: https://numpy.org/devdocs/release/1.20.0-notes.html#deprecations\n",
      "  arr = np.asarray(arr).astype(np.bool)\n",
      "/home/ampolloreno/anaconda3/envs/qaoa/lib/python3.8/site-packages/qiskit/quantum_info/operators/pauli.py:34: DeprecationWarning: `np.bool` is a deprecated alias for the builtin `bool`. To silence this warning, use `bool` by itself. Doing this will not modify any behavior and is safe. If you specifically wanted the numpy scalar type, use `np.bool_` here.\n",
      "Deprecated in NumPy 1.20; for more details and guidance: https://numpy.org/devdocs/release/1.20.0-notes.html#deprecations\n",
      "  arr = np.asarray(arr).astype(np.bool)\n",
      "/home/ampolloreno/anaconda3/envs/qaoa/lib/python3.8/site-packages/qiskit/quantum_info/operators/pauli.py:111: DeprecationWarning: `np.bool` is a deprecated alias for the builtin `bool`. To silence this warning, use `bool` by itself. Doing this will not modify any behavior and is safe. If you specifically wanted the numpy scalar type, use `np.bool_` here.\n",
      "Deprecated in NumPy 1.20; for more details and guidance: https://numpy.org/devdocs/release/1.20.0-notes.html#deprecations\n",
      "  z = np.zeros(len(label), dtype=np.bool)\n",
      "/home/ampolloreno/anaconda3/envs/qaoa/lib/python3.8/site-packages/qiskit/quantum_info/operators/pauli.py:112: DeprecationWarning: `np.bool` is a deprecated alias for the builtin `bool`. To silence this warning, use `bool` by itself. Doing this will not modify any behavior and is safe. If you specifically wanted the numpy scalar type, use `np.bool_` here.\n",
      "Deprecated in NumPy 1.20; for more details and guidance: https://numpy.org/devdocs/release/1.20.0-notes.html#deprecations\n",
      "  x = np.zeros(len(label), dtype=np.bool)\n",
      "/home/ampolloreno/anaconda3/envs/qaoa/lib/python3.8/site-packages/qiskit/quantum_info/operators/pauli.py:34: DeprecationWarning: `np.bool` is a deprecated alias for the builtin `bool`. To silence this warning, use `bool` by itself. Doing this will not modify any behavior and is safe. If you specifically wanted the numpy scalar type, use `np.bool_` here.\n",
      "Deprecated in NumPy 1.20; for more details and guidance: https://numpy.org/devdocs/release/1.20.0-notes.html#deprecations\n",
      "  arr = np.asarray(arr).astype(np.bool)\n",
      "/home/ampolloreno/anaconda3/envs/qaoa/lib/python3.8/site-packages/qiskit/quantum_info/operators/pauli.py:34: DeprecationWarning: `np.bool` is a deprecated alias for the builtin `bool`. To silence this warning, use `bool` by itself. Doing this will not modify any behavior and is safe. If you specifically wanted the numpy scalar type, use `np.bool_` here.\n",
      "Deprecated in NumPy 1.20; for more details and guidance: https://numpy.org/devdocs/release/1.20.0-notes.html#deprecations\n",
      "  arr = np.asarray(arr).astype(np.bool)\n",
      "/home/ampolloreno/anaconda3/envs/qaoa/lib/python3.8/site-packages/qiskit/quantum_info/operators/pauli.py:111: DeprecationWarning: `np.bool` is a deprecated alias for the builtin `bool`. To silence this warning, use `bool` by itself. Doing this will not modify any behavior and is safe. If you specifically wanted the numpy scalar type, use `np.bool_` here.\n",
      "Deprecated in NumPy 1.20; for more details and guidance: https://numpy.org/devdocs/release/1.20.0-notes.html#deprecations\n",
      "  z = np.zeros(len(label), dtype=np.bool)\n",
      "/home/ampolloreno/anaconda3/envs/qaoa/lib/python3.8/site-packages/qiskit/quantum_info/operators/pauli.py:112: DeprecationWarning: `np.bool` is a deprecated alias for the builtin `bool`. To silence this warning, use `bool` by itself. Doing this will not modify any behavior and is safe. If you specifically wanted the numpy scalar type, use `np.bool_` here.\n",
      "Deprecated in NumPy 1.20; for more details and guidance: https://numpy.org/devdocs/release/1.20.0-notes.html#deprecations\n",
      "  x = np.zeros(len(label), dtype=np.bool)\n",
      "/home/ampolloreno/anaconda3/envs/qaoa/lib/python3.8/site-packages/qiskit/quantum_info/operators/pauli.py:34: DeprecationWarning: `np.bool` is a deprecated alias for the builtin `bool`. To silence this warning, use `bool` by itself. Doing this will not modify any behavior and is safe. If you specifically wanted the numpy scalar type, use `np.bool_` here.\n",
      "Deprecated in NumPy 1.20; for more details and guidance: https://numpy.org/devdocs/release/1.20.0-notes.html#deprecations\n",
      "  arr = np.asarray(arr).astype(np.bool)\n",
      "/home/ampolloreno/anaconda3/envs/qaoa/lib/python3.8/site-packages/qiskit/quantum_info/operators/pauli.py:34: DeprecationWarning: `np.bool` is a deprecated alias for the builtin `bool`. To silence this warning, use `bool` by itself. Doing this will not modify any behavior and is safe. If you specifically wanted the numpy scalar type, use `np.bool_` here.\n",
      "Deprecated in NumPy 1.20; for more details and guidance: https://numpy.org/devdocs/release/1.20.0-notes.html#deprecations\n",
      "  arr = np.asarray(arr).astype(np.bool)\n",
      "/home/ampolloreno/anaconda3/envs/qaoa/lib/python3.8/site-packages/qiskit/quantum_info/operators/pauli.py:111: DeprecationWarning: `np.bool` is a deprecated alias for the builtin `bool`. To silence this warning, use `bool` by itself. Doing this will not modify any behavior and is safe. If you specifically wanted the numpy scalar type, use `np.bool_` here.\n",
      "Deprecated in NumPy 1.20; for more details and guidance: https://numpy.org/devdocs/release/1.20.0-notes.html#deprecations\n",
      "  z = np.zeros(len(label), dtype=np.bool)\n",
      "/home/ampolloreno/anaconda3/envs/qaoa/lib/python3.8/site-packages/qiskit/quantum_info/operators/pauli.py:112: DeprecationWarning: `np.bool` is a deprecated alias for the builtin `bool`. To silence this warning, use `bool` by itself. Doing this will not modify any behavior and is safe. If you specifically wanted the numpy scalar type, use `np.bool_` here.\n",
      "Deprecated in NumPy 1.20; for more details and guidance: https://numpy.org/devdocs/release/1.20.0-notes.html#deprecations\n",
      "  x = np.zeros(len(label), dtype=np.bool)\n",
      "/home/ampolloreno/anaconda3/envs/qaoa/lib/python3.8/site-packages/qiskit/quantum_info/operators/pauli.py:34: DeprecationWarning: `np.bool` is a deprecated alias for the builtin `bool`. To silence this warning, use `bool` by itself. Doing this will not modify any behavior and is safe. If you specifically wanted the numpy scalar type, use `np.bool_` here.\n",
      "Deprecated in NumPy 1.20; for more details and guidance: https://numpy.org/devdocs/release/1.20.0-notes.html#deprecations\n",
      "  arr = np.asarray(arr).astype(np.bool)\n",
      "/home/ampolloreno/anaconda3/envs/qaoa/lib/python3.8/site-packages/qiskit/quantum_info/operators/pauli.py:34: DeprecationWarning: `np.bool` is a deprecated alias for the builtin `bool`. To silence this warning, use `bool` by itself. Doing this will not modify any behavior and is safe. If you specifically wanted the numpy scalar type, use `np.bool_` here.\n",
      "Deprecated in NumPy 1.20; for more details and guidance: https://numpy.org/devdocs/release/1.20.0-notes.html#deprecations\n",
      "  arr = np.asarray(arr).astype(np.bool)\n"
     ]
    }
   ],
   "source": [
    "from scipy.optimize import dual_annealing\n",
    "from classical_optimization.qaoa_circuits import execute_qaoa_circuit_and_estimate_cost\n",
    "import numpy as np\n",
    "from qiskit import Aer, execute\n",
    "from coldquanta.qiskit_tools.modeling.neutral_atom_noise_model import create_noise_model\n",
    "import networkx as nx\n",
    "\n",
    "np.random.seed(666)\n",
    "reprate = 25 \n",
    "one_hour = 60 * 60 #seconds\n",
    "max_gamma = 2 * np.pi\n",
    "max_beta = np.pi\n",
    "\n",
    "n = 20\n",
    "m = int(n/2)\n",
    "edges = []\n",
    "while len(edges) < m:\n",
    "    edge = (np.random.randint(n), np.random.randint(n))\n",
    "    if edge not in edges and (edge[1], edge[0]) not in edges and edge[0] != edge[1]:\n",
    "        \n",
    "        edges.append(edge)\n",
    "weights = {edge:((np.random.rand(1)-.5)*2)[0] for edge in edges}\n",
    "positive_edges = [edge for edge in edges if weights[edge]>0]\n",
    "#weights = {edge:1 for edge in edges}\n",
    "graph=nx.Graph()\n",
    "graph.add_weighted_edges_from([(edge[0], edge[1], weights[edge]) for edge in edges])\n",
    "\n",
    "\n",
    "terms = weights\n",
    "circ_ex = None\n",
    "BASELINE_SHOTS = 5\n",
    "\n",
    "def objective(graph):\n",
    "    #Hack for backwards compatibility.\n",
    "    num_rows = len(graph.nodes)\n",
    "    num_cols = 1\n",
    "\n",
    "    history = []\n",
    "    def store_log(func):\n",
    "        def logged_func(x):\n",
    "            ret = func(x)\n",
    "            history.append((x, ret))\n",
    "            return ret\n",
    "        return logged_func\n",
    "\n",
    "    @store_log\n",
    "    def gamma_beta_objective(gamma_beta):\n",
    "        p=1\n",
    "        gammas = [gamma_beta[1]]\n",
    "        betas = [gamma_beta[0]]\n",
    "        circ_ex = qtn.circ_qaoa(terms, p, gammas, betas)\n",
    "        circ_ex = qtn.circuit_gen.circ_qaoa(terms, p, gammas, betas)\n",
    "        ZZ = qu.pauli('Z') & qu.pauli('Z')\n",
    "#         ens = [\n",
    "#             circ_ex.local_expectation(weight * ZZ, edge, optimize=opt)\n",
    "#             for edge, weight in terms.items()\n",
    "#         ]\n",
    "            \n",
    "#         return sum(ens).real\n",
    "        samples = list(circ_ex.simulate_counts(shots_per_point))\n",
    "        values = []\n",
    "        for sample in samples:\n",
    "            value = 0\n",
    "            for k, v in terms.items():\n",
    "                if sample[k[0]] != sample[k[1]]:\n",
    "                    value += 1\n",
    "            values.append(value)\n",
    "        return np.mean(values)\n",
    "    return gamma_beta_objective, history\n",
    "\n",
    "def expectation_objective(graph):\n",
    "    #Hack for backwards compatibility.\n",
    "    num_rows = len(graph.nodes)\n",
    "    num_cols = 1\n",
    "\n",
    "    history = []\n",
    "    def store_log(func):\n",
    "        def logged_func(x):\n",
    "            ret = func(x)\n",
    "            history.append((x, ret))\n",
    "            return ret\n",
    "        return logged_func\n",
    "\n",
    "    @store_log\n",
    "    def gamma_beta_objective(gamma_beta):\n",
    "        p=1\n",
    "        gammas = [gamma_beta[1]]\n",
    "        betas = [gamma_beta[0]]\n",
    "        circ_ex = qtn.circ_qaoa(terms, p, gammas, betas)\n",
    "        circ_ex = qtn.circuit_gen.circ_qaoa(terms, p, gammas, betas)\n",
    "        ZZ = qu.pauli('Z') & qu.pauli('Z')\n",
    "        ens = [\n",
    "            circ_ex.local_expectation(weight * ZZ, edge, optimize=opt)\n",
    "            for edge, weight in terms.items()\n",
    "        ]\n",
    "            \n",
    "        return sum(ens).real\n",
    "    return gamma_beta_objective, history\n",
    "\n"
   ]
  },
  {
   "cell_type": "code",
   "execution_count": 23,
   "metadata": {},
   "outputs": [
    {
     "name": "stderr",
     "output_type": "stream",
     "text": [
      "<ipython-input-23-3a2e1d7ccf7f>:13: UserWarning: FixedFormatter should only be used together with FixedLocator\n",
      "  cb.ax.set_yticklabels([f\"{(i-100)/100}\" for i in cb.get_ticks()]) #\n"
     ]
    },
    {
     "data": {
      "image/png": "[encoded data removed]",
      "text/plain": [
       "<Figure size 432x288 with 2 Axes>"
      ]
     },
     "metadata": {},
     "output_type": "display_data"
    }
   ],
   "source": [
    "import matplotlib.pyplot as plt\n",
    "pos=nx.circular_layout(graph)\n",
    "colors=[int(100+100*weights.get(edge, weights.get((edge[1], edge[0])))) for edge in graph.edges]\n",
    "widths = [10+10*weights.get(edge, weights.get((edge[1], edge[0]))) for edge in graph.edges]\n",
    "cmap=plt.cm.cividis\n",
    "vmin = min(colors)\n",
    "vmax = max(colors)\n",
    "nx.draw(graph, pos, node_color='k', edge_color=colors, width=widths, edge_cmap=cmap,\n",
    "           with_labels=False, vmin=vmin, vmax=vmax)\n",
    "sm = plt.cm.ScalarMappable(cmap=cmap, norm=plt.Normalize(vmin = vmin, vmax=vmax))\n",
    "sm._A = []\n",
    "cb= plt.colorbar(sm)\n",
    "cb.ax.set_yticklabels([f\"{(i-100)/100}\" for i in cb.get_ticks()]) #\n",
    "cb.set_label('Weight', fontsize=30)\n",
    "#plt.show()\n",
    "tick_font_size = 14\n",
    "cb.ax.tick_params(labelsize=tick_font_size)\n",
    "plt.savefig(\"/home/ampolloreno/graph.png\", dpi=200, bbox_inches='tight')\n"
   ]
  },
  {
   "cell_type": "code",
   "execution_count": 6,
   "metadata": {},
   "outputs": [],
   "source": [
    "gammas = [1]\n",
    "betas = [1]\n",
    "p=1\n",
    "# global circ_ex\n",
    "# if circ_ex is None:\n",
    "circ_ex = qtn.circuit_gen.circ_qaoa(terms, p, gammas, betas)\n",
    "# else:\n",
    "#     new_circ_ex = qtn.circuit_gen.circ_qaoa(terms, p, gammas, betas)\n",
    "#     tm = new_circ_ex.to_dense_tn()\n",
    "#     circ_ex.update_params_from(tm)\n",
    "ZZ = qu.pauli('Z') & qu.pauli('Z')\n",
    "ens = [\n",
    "    circ_ex.local_expectation(weight * ZZ, edge, optimize=opt)\n",
    "    for edge, weight in terms.items()\n",
    "]"
   ]
  },
  {
   "cell_type": "code",
   "execution_count": 7,
   "metadata": {},
   "outputs": [
    {
     "name": "stdout",
     "output_type": "stream",
     "text": [
      "3.141592653589793\n",
      "2.9762456718219092\n",
      "2.8108986900540254\n",
      "2.6455517082861415\n",
      "2.4802047265182576\n",
      "2.3148577447503738\n",
      "2.14951076298249\n",
      "1.984163781214606\n",
      "1.8188167994467224\n",
      "1.6534698176788385\n",
      "1.4881228359109546\n",
      "1.3227758541430708\n",
      "1.1574288723751869\n",
      "0.992081890607303\n",
      "0.8267349088394192\n",
      "0.6613879270715354\n",
      "0.4960409453036515\n",
      "0.3306939635357677\n",
      "0.16534698176788384\n",
      "0.0\n"
     ]
    }
   ],
   "source": [
    "import networkx as nx\n",
    "obj, hist = expectation_objective(graph)\n",
    "all_data = []\n",
    "bound = np.pi\n",
    "samples = 20\n",
    "for g in list(reversed(np.linspace(0, bound, num=samples))):\n",
    "    data = []\n",
    "    print(g)\n",
    "    for b in np.linspace(0, bound, num=samples):\n",
    "        data.append(obj([b, g]))\n",
    "    all_data.append(data)"
   ]
  },
  {
   "cell_type": "code",
   "execution_count": 8,
   "metadata": {
    "scrolled": true
   },
   "outputs": [
    {
     "name": "stdout",
     "output_type": "stream",
     "text": [
      "(array([-2.5,  0. ,  2.5,  5. ,  7.5, 10. , 12.5, 15. , 17.5, 20. ]), [Text(0, 0, ''), Text(0, 0, ''), Text(0, 0, ''), Text(0, 0, ''), Text(0, 0, ''), Text(0, 0, ''), Text(0, 0, ''), Text(0, 0, ''), Text(0, 0, ''), Text(0, 0, '')])\n"
     ]
    },
    {
     "data": {
      "image/png": "[encoded data removed]",
      "text/plain": [
       "<Figure size 432x288 with 2 Axes>"
      ]
     },
     "metadata": {
      "needs_background": "light"
     },
     "output_type": "display_data"
    }
   ],
   "source": [
    "import matplotlib.pyplot as plt\n",
    "plt.imshow(np.array(all_data))\n",
    "plt.ylabel(r\"$\\gamma/\\pi$\")\n",
    "plt.xlabel(r\"$\\beta/\\pi$\")\n",
    "print(plt.xticks())\n",
    "plt.xticks(plt.xticks()[0][1:-1:2], [0, .25, .5, .75])\n",
    "plt.yticks(plt.yticks()[0][1:-1:2], [0, .25, .5, .75][::-1])\n",
    "cb = plt.colorbar()\n",
    "cb.set_label('Energy', fontsize=30)"
   ]
  },
  {
   "cell_type": "code",
   "execution_count": 9,
   "metadata": {},
   "outputs": [],
   "source": [
    "from es import SimpleGA, CMAES, PEPG, OpenES\n",
    "NPARAMS = 2\n",
    "NPOPULATION = 10\n",
    "oes = OpenES(NPARAMS,                  # number of model parameters\n",
    "            sigma_init=0.025*np.pi*5,            # initial standard deviation\n",
    "            sigma_decay=1,         # don't anneal standard deviation\n",
    "            learning_rate=0.005,         # learning rate for standard deviation\n",
    "            learning_rate_decay = 0.0, # annealing the learning rate\n",
    "            popsize=NPOPULATION,       # population size\n",
    "            antithetic=False,          # whether to use antithetic sampling\n",
    "            weight_decay=0.00,         # weight decay coefficient\n",
    "            rank_fitness=False,        # use rank rather than fitness numbers\n",
    "            forget_best=True)"
   ]
  },
  {
   "cell_type": "code",
   "execution_count": 16,
   "metadata": {},
   "outputs": [],
   "source": [
    "from tqdm import tqdm\n",
    "MAX_ITERATION = 50\n",
    "shots_per_point = BASELINE_SHOTS\n",
    "fit_func1, history = objective(graph)\n",
    "fit_func = lambda x: fit_func1(x)\n",
    "# defines a function to use solver to solve fit_func\n",
    "def test_solver(solver):\n",
    "    history = []\n",
    "    for j in tqdm(range(MAX_ITERATION)):\n",
    "        solutions = solver.ask()\n",
    "        fitness_list = np.zeros(solver.popsize)\n",
    "        for i in range(solver.popsize):\n",
    "            fitness_list[i] = fit_func(solutions[i])\n",
    "        solver.tell(fitness_list)\n",
    "        result = solver.result() # first element is the best solution, second element is the best fitness\n",
    "        print(result)\n",
    "        history.append((result))\n",
    "        if (j+1) % 100 == 0:\n",
    "            print(\"fitness at iteration\", (j+1), result[1])\n",
    "    print(\"local optimum discovered by solver:\\n\", result[0])\n",
    "    print(\"fitness score at this local optimum:\", result[1])\n",
    "    return history, result"
   ]
  },
  {
   "cell_type": "code",
   "execution_count": 17,
   "metadata": {
    "scrolled": true
   },
   "outputs": [
    {
     "name": "stderr",
     "output_type": "stream",
     "text": [
      "  2%|▏         | 1/50 [00:00<00:27,  1.79it/s]"
     ]
    },
    {
     "name": "stdout",
     "output_type": "stream",
     "text": [
      "(array([0.47008133, 0.24899682]), 5.4, 5.4, 0.39269908169872414)\n"
     ]
    },
    {
     "name": "stderr",
     "output_type": "stream",
     "text": [
      "\r",
      "  4%|▍         | 2/50 [00:01<00:27,  1.76it/s]"
     ]
    },
    {
     "name": "stdout",
     "output_type": "stream",
     "text": [
      "(array([ 0.28073535, -0.27627915]), 6.0, 6.0, 0.39269908169872414)\n"
     ]
    },
    {
     "name": "stderr",
     "output_type": "stream",
     "text": [
      "\r",
      "  6%|▌         | 3/50 [00:01<00:26,  1.76it/s]"
     ]
    },
    {
     "name": "stdout",
     "output_type": "stream",
     "text": [
      "(array([ 0.020799  , -0.43949765]), 6.0, 6.0, 0.39269908169872414)\n"
     ]
    },
    {
     "name": "stderr",
     "output_type": "stream",
     "text": [
      "\r",
      "  8%|▊         | 4/50 [00:02<00:25,  1.77it/s]"
     ]
    },
    {
     "name": "stdout",
     "output_type": "stream",
     "text": [
      "(array([-0.85396421, -0.42656629]), 5.8, 5.8, 0.39269908169872414)\n"
     ]
    },
    {
     "name": "stderr",
     "output_type": "stream",
     "text": [
      "\r",
      " 10%|█         | 5/50 [00:02<00:25,  1.78it/s]"
     ]
    },
    {
     "name": "stdout",
     "output_type": "stream",
     "text": [
      "(array([-0.48520439, -0.20697181]), 6.8, 6.8, 0.39269908169872414)\n"
     ]
    },
    {
     "name": "stderr",
     "output_type": "stream",
     "text": [
      "\r",
      " 12%|█▏        | 6/50 [00:03<00:24,  1.80it/s]"
     ]
    },
    {
     "name": "stdout",
     "output_type": "stream",
     "text": [
      "(array([ 0.29693053, -0.00623461]), 6.6, 6.6, 0.39269908169872414)\n"
     ]
    },
    {
     "name": "stderr",
     "output_type": "stream",
     "text": [
      "\r",
      " 14%|█▍        | 7/50 [00:03<00:23,  1.80it/s]"
     ]
    },
    {
     "name": "stdout",
     "output_type": "stream",
     "text": [
      "(array([-0.04120898, -0.626149  ]), 6.2, 6.2, 0.39269908169872414)\n"
     ]
    },
    {
     "name": "stderr",
     "output_type": "stream",
     "text": [
      "\r",
      " 16%|█▌        | 8/50 [00:04<00:23,  1.81it/s]"
     ]
    },
    {
     "name": "stdout",
     "output_type": "stream",
     "text": [
      "(array([0.15280896, 0.02229551]), 6.8, 6.8, 0.39269908169872414)\n"
     ]
    },
    {
     "name": "stderr",
     "output_type": "stream",
     "text": [
      "\r",
      " 18%|█▊        | 9/50 [00:05<00:22,  1.81it/s]"
     ]
    },
    {
     "name": "stdout",
     "output_type": "stream",
     "text": [
      "(array([0.27136951, 0.45299757]), 6.6, 6.6, 0.39269908169872414)\n"
     ]
    },
    {
     "name": "stderr",
     "output_type": "stream",
     "text": [
      "\r",
      " 20%|██        | 10/50 [00:05<00:22,  1.82it/s]"
     ]
    },
    {
     "name": "stdout",
     "output_type": "stream",
     "text": [
      "(array([0.00458546, 0.20450794]), 6.2, 6.2, 0.39269908169872414)\n"
     ]
    },
    {
     "name": "stderr",
     "output_type": "stream",
     "text": [
      "\r",
      " 22%|██▏       | 11/50 [00:06<00:21,  1.82it/s]"
     ]
    },
    {
     "name": "stdout",
     "output_type": "stream",
     "text": [
      "(array([ 0.2100114 , -0.10467763]), 6.0, 6.0, 0.39269908169872414)\n"
     ]
    },
    {
     "name": "stderr",
     "output_type": "stream",
     "text": [
      "\r",
      " 24%|██▍       | 12/50 [00:06<00:20,  1.82it/s]"
     ]
    },
    {
     "name": "stdout",
     "output_type": "stream",
     "text": [
      "(array([-0.49421013, -0.19233118]), 7.2, 7.2, 0.39269908169872414)\n"
     ]
    },
    {
     "name": "stderr",
     "output_type": "stream",
     "text": [
      "\r",
      " 26%|██▌       | 13/50 [00:07<00:20,  1.80it/s]"
     ]
    },
    {
     "name": "stdout",
     "output_type": "stream",
     "text": [
      "(array([-0.46237041, -0.56324819]), 6.8, 6.8, 0.39269908169872414)\n"
     ]
    },
    {
     "name": "stderr",
     "output_type": "stream",
     "text": [
      "\r",
      " 28%|██▊       | 14/50 [00:07<00:20,  1.79it/s]"
     ]
    },
    {
     "name": "stdout",
     "output_type": "stream",
     "text": [
      "(array([0.23831736, 0.22987223]), 5.4, 5.4, 0.39269908169872414)\n"
     ]
    },
    {
     "name": "stderr",
     "output_type": "stream",
     "text": [
      "\r",
      " 30%|███       | 15/50 [00:08<00:19,  1.79it/s]"
     ]
    },
    {
     "name": "stdout",
     "output_type": "stream",
     "text": [
      "(array([0.44175838, 0.59058286]), 7.2, 7.2, 0.39269908169872414)\n"
     ]
    },
    {
     "name": "stderr",
     "output_type": "stream",
     "text": [
      "\r",
      " 32%|███▏      | 16/50 [00:08<00:18,  1.80it/s]"
     ]
    },
    {
     "name": "stdout",
     "output_type": "stream",
     "text": [
      "(array([-0.14703277, -0.21030236]), 5.8, 5.8, 0.39269908169872414)\n"
     ]
    },
    {
     "name": "stderr",
     "output_type": "stream",
     "text": [
      "\r",
      " 34%|███▍      | 17/50 [00:09<00:18,  1.79it/s]"
     ]
    },
    {
     "name": "stdout",
     "output_type": "stream",
     "text": [
      "(array([ 0.01022003, -0.30804894]), 6.2, 6.2, 0.39269908169872414)\n"
     ]
    },
    {
     "name": "stderr",
     "output_type": "stream",
     "text": [
      "\r",
      " 36%|███▌      | 18/50 [00:10<00:17,  1.78it/s]"
     ]
    },
    {
     "name": "stdout",
     "output_type": "stream",
     "text": [
      "(array([0.04181782, 0.58105988]), 6.2, 6.2, 0.39269908169872414)\n"
     ]
    },
    {
     "name": "stderr",
     "output_type": "stream",
     "text": [
      "\r",
      " 38%|███▊      | 19/50 [00:10<00:17,  1.78it/s]"
     ]
    },
    {
     "name": "stdout",
     "output_type": "stream",
     "text": [
      "(array([-0.91418  ,  0.1795394]), 5.6, 5.6, 0.39269908169872414)\n"
     ]
    },
    {
     "name": "stderr",
     "output_type": "stream",
     "text": [
      "\r",
      " 40%|████      | 20/50 [00:11<00:16,  1.79it/s]"
     ]
    },
    {
     "name": "stdout",
     "output_type": "stream",
     "text": [
      "(array([-0.48857498, -0.48587714]), 7.0, 7.0, 0.39269908169872414)\n"
     ]
    },
    {
     "name": "stderr",
     "output_type": "stream",
     "text": [
      "\r",
      " 42%|████▏     | 21/50 [00:11<00:16,  1.75it/s]"
     ]
    },
    {
     "name": "stdout",
     "output_type": "stream",
     "text": [
      "(array([0.48033804, 0.60817979]), 6.6, 6.6, 0.39269908169872414)\n"
     ]
    },
    {
     "name": "stderr",
     "output_type": "stream",
     "text": [
      "\r",
      " 44%|████▍     | 22/50 [00:12<00:15,  1.76it/s]"
     ]
    },
    {
     "name": "stdout",
     "output_type": "stream",
     "text": [
      "(array([0.50301937, 0.57704065]), 5.8, 5.8, 0.39269908169872414)\n"
     ]
    },
    {
     "name": "stderr",
     "output_type": "stream",
     "text": [
      "\r",
      " 46%|████▌     | 23/50 [00:12<00:16,  1.68it/s]"
     ]
    },
    {
     "name": "stdout",
     "output_type": "stream",
     "text": [
      "(array([-0.3699815 , -0.10658092]), 5.8, 5.8, 0.39269908169872414)\n"
     ]
    },
    {
     "name": "stderr",
     "output_type": "stream",
     "text": [
      "\r",
      " 48%|████▊     | 24/50 [00:13<00:15,  1.67it/s]"
     ]
    },
    {
     "name": "stdout",
     "output_type": "stream",
     "text": [
      "(array([0.06426371, 0.61227929]), 6.4, 6.4, 0.39269908169872414)\n"
     ]
    },
    {
     "name": "stderr",
     "output_type": "stream",
     "text": [
      "\r",
      " 50%|█████     | 25/50 [00:14<00:14,  1.69it/s]"
     ]
    },
    {
     "name": "stdout",
     "output_type": "stream",
     "text": [
      "(array([-0.16373164, -0.46887434]), 6.4, 6.4, 0.39269908169872414)\n"
     ]
    },
    {
     "name": "stderr",
     "output_type": "stream",
     "text": [
      "\r",
      " 52%|█████▏    | 26/50 [00:14<00:13,  1.72it/s]"
     ]
    },
    {
     "name": "stdout",
     "output_type": "stream",
     "text": [
      "(array([0.00745222, 0.00093367]), 6.2, 6.2, 0.39269908169872414)\n"
     ]
    },
    {
     "name": "stderr",
     "output_type": "stream",
     "text": [
      "\r",
      " 54%|█████▍    | 27/50 [00:15<00:13,  1.75it/s]"
     ]
    },
    {
     "name": "stdout",
     "output_type": "stream",
     "text": [
      "(array([-0.32503361, -0.89193587]), 6.0, 6.0, 0.39269908169872414)\n"
     ]
    },
    {
     "name": "stderr",
     "output_type": "stream",
     "text": [
      "\r",
      " 56%|█████▌    | 28/50 [00:15<00:12,  1.77it/s]"
     ]
    },
    {
     "name": "stdout",
     "output_type": "stream",
     "text": [
      "(array([-0.55107859, -0.68839973]), 6.4, 6.4, 0.39269908169872414)\n"
     ]
    },
    {
     "name": "stderr",
     "output_type": "stream",
     "text": [
      "\r",
      " 58%|█████▊    | 29/50 [00:16<00:11,  1.76it/s]"
     ]
    },
    {
     "name": "stdout",
     "output_type": "stream",
     "text": [
      "(array([ 0.04568981, -0.16699197]), 6.0, 6.0, 0.39269908169872414)\n"
     ]
    },
    {
     "name": "stderr",
     "output_type": "stream",
     "text": [
      "\r",
      " 60%|██████    | 30/50 [00:16<00:11,  1.78it/s]"
     ]
    },
    {
     "name": "stdout",
     "output_type": "stream",
     "text": [
      "(array([-0.36533031, -0.85014305]), 6.4, 6.4, 0.39269908169872414)\n"
     ]
    },
    {
     "name": "stderr",
     "output_type": "stream",
     "text": [
      "\r",
      " 62%|██████▏   | 31/50 [00:17<00:10,  1.76it/s]"
     ]
    },
    {
     "name": "stdout",
     "output_type": "stream",
     "text": [
      "(array([ 0.15948216, -0.17037626]), 5.6, 5.6, 0.39269908169872414)\n"
     ]
    },
    {
     "name": "stderr",
     "output_type": "stream",
     "text": [
      "\r",
      " 64%|██████▍   | 32/50 [00:18<00:10,  1.76it/s]"
     ]
    },
    {
     "name": "stdout",
     "output_type": "stream",
     "text": [
      "(array([0.10059252, 0.09597876]), 6.2, 6.2, 0.39269908169872414)\n"
     ]
    },
    {
     "name": "stderr",
     "output_type": "stream",
     "text": [
      "\r",
      " 66%|██████▌   | 33/50 [00:18<00:09,  1.74it/s]"
     ]
    },
    {
     "name": "stdout",
     "output_type": "stream",
     "text": [
      "(array([-0.34037909, -0.82646507]), 6.0, 6.0, 0.39269908169872414)\n"
     ]
    },
    {
     "name": "stderr",
     "output_type": "stream",
     "text": [
      "\r",
      " 68%|██████▊   | 34/50 [00:19<00:09,  1.75it/s]"
     ]
    },
    {
     "name": "stdout",
     "output_type": "stream",
     "text": [
      "(array([-0.27715558, -0.7464644 ]), 6.8, 6.8, 0.39269908169872414)\n"
     ]
    },
    {
     "name": "stderr",
     "output_type": "stream",
     "text": [
      "\r",
      " 70%|███████   | 35/50 [00:19<00:08,  1.76it/s]"
     ]
    },
    {
     "name": "stdout",
     "output_type": "stream",
     "text": [
      "(array([-0.38947257, -0.6120623 ]), 6.6, 6.6, 0.39269908169872414)\n"
     ]
    },
    {
     "name": "stderr",
     "output_type": "stream",
     "text": [
      "\r",
      " 72%|███████▏  | 36/50 [00:20<00:07,  1.76it/s]"
     ]
    },
    {
     "name": "stdout",
     "output_type": "stream",
     "text": [
      "(array([0.01416588, 0.10806706]), 6.2, 6.2, 0.39269908169872414)\n"
     ]
    },
    {
     "name": "stderr",
     "output_type": "stream",
     "text": [
      "\r",
      " 74%|███████▍  | 37/50 [00:20<00:07,  1.76it/s]"
     ]
    },
    {
     "name": "stdout",
     "output_type": "stream",
     "text": [
      "(array([-0.36071529, -0.33972812]), 6.2, 6.2, 0.39269908169872414)\n"
     ]
    },
    {
     "name": "stderr",
     "output_type": "stream",
     "text": [
      "\r",
      " 76%|███████▌  | 38/50 [00:21<00:06,  1.78it/s]"
     ]
    },
    {
     "name": "stdout",
     "output_type": "stream",
     "text": [
      "(array([-0.26499761, -0.21876502]), 6.0, 6.0, 0.39269908169872414)\n"
     ]
    },
    {
     "name": "stderr",
     "output_type": "stream",
     "text": [
      "\r",
      " 78%|███████▊  | 39/50 [00:22<00:06,  1.78it/s]"
     ]
    },
    {
     "name": "stdout",
     "output_type": "stream",
     "text": [
      "(array([0.43441545, 0.1018076 ]), 6.6, 6.6, 0.39269908169872414)\n"
     ]
    },
    {
     "name": "stderr",
     "output_type": "stream",
     "text": [
      "\r",
      " 80%|████████  | 40/50 [00:22<00:05,  1.78it/s]"
     ]
    },
    {
     "name": "stdout",
     "output_type": "stream",
     "text": [
      "(array([-0.52982185, -0.36385482]), 7.2, 7.2, 0.39269908169872414)\n"
     ]
    },
    {
     "name": "stderr",
     "output_type": "stream",
     "text": [
      "\r",
      " 82%|████████▏ | 41/50 [00:23<00:05,  1.76it/s]"
     ]
    },
    {
     "name": "stdout",
     "output_type": "stream",
     "text": [
      "(array([0.63821815, 0.43984466]), 7.6, 7.6, 0.39269908169872414)\n"
     ]
    },
    {
     "name": "stderr",
     "output_type": "stream",
     "text": [
      "\r",
      " 84%|████████▍ | 42/50 [00:23<00:04,  1.75it/s]"
     ]
    },
    {
     "name": "stdout",
     "output_type": "stream",
     "text": [
      "(array([-0.05014169, -0.19132975]), 5.6, 5.6, 0.39269908169872414)\n"
     ]
    },
    {
     "name": "stderr",
     "output_type": "stream",
     "text": [
      "\r",
      " 86%|████████▌ | 43/50 [00:24<00:03,  1.76it/s]"
     ]
    },
    {
     "name": "stdout",
     "output_type": "stream",
     "text": [
      "(array([0.45516495, 0.39143847]), 6.4, 6.4, 0.39269908169872414)\n"
     ]
    },
    {
     "name": "stderr",
     "output_type": "stream",
     "text": [
      "\r",
      " 88%|████████▊ | 44/50 [00:24<00:03,  1.75it/s]"
     ]
    },
    {
     "name": "stdout",
     "output_type": "stream",
     "text": [
      "(array([0.58189894, 0.62665415]), 6.2, 6.2, 0.39269908169872414)\n"
     ]
    },
    {
     "name": "stderr",
     "output_type": "stream",
     "text": [
      "\r",
      " 90%|█████████ | 45/50 [00:25<00:02,  1.75it/s]"
     ]
    },
    {
     "name": "stdout",
     "output_type": "stream",
     "text": [
      "(array([-0.30755491, -0.44090818]), 7.0, 7.0, 0.39269908169872414)\n"
     ]
    },
    {
     "name": "stderr",
     "output_type": "stream",
     "text": [
      "\r",
      " 92%|█████████▏| 46/50 [00:26<00:02,  1.76it/s]"
     ]
    },
    {
     "name": "stdout",
     "output_type": "stream",
     "text": [
      "(array([0.24918676, 0.61866486]), 6.6, 6.6, 0.39269908169872414)\n"
     ]
    },
    {
     "name": "stderr",
     "output_type": "stream",
     "text": [
      "\r",
      " 94%|█████████▍| 47/50 [00:26<00:01,  1.76it/s]"
     ]
    },
    {
     "name": "stdout",
     "output_type": "stream",
     "text": [
      "(array([-0.25485519, -0.32608531]), 7.2, 7.2, 0.39269908169872414)\n"
     ]
    },
    {
     "name": "stderr",
     "output_type": "stream",
     "text": [
      "\r",
      " 96%|█████████▌| 48/50 [00:27<00:01,  1.77it/s]"
     ]
    },
    {
     "name": "stdout",
     "output_type": "stream",
     "text": [
      "(array([-0.37411436,  0.12606636]), 6.2, 6.2, 0.39269908169872414)\n"
     ]
    },
    {
     "name": "stderr",
     "output_type": "stream",
     "text": [
      "\r",
      " 98%|█████████▊| 49/50 [00:27<00:00,  1.77it/s]"
     ]
    },
    {
     "name": "stdout",
     "output_type": "stream",
     "text": [
      "(array([ 0.32648077, -0.01764607]), 5.8, 5.8, 0.39269908169872414)\n"
     ]
    },
    {
     "name": "stderr",
     "output_type": "stream",
     "text": [
      "100%|██████████| 50/50 [00:28<00:00,  1.77it/s]"
     ]
    },
    {
     "name": "stdout",
     "output_type": "stream",
     "text": [
      "(array([-0.27489909, -0.60216183]), 6.2, 6.2, 0.39269908169872414)\n",
      "local optimum discovered by solver:\n",
      " [-0.27489909 -0.60216183]\n",
      "fitness score at this local optimum: 6.2\n"
     ]
    },
    {
     "name": "stderr",
     "output_type": "stream",
     "text": [
      "\n"
     ]
    }
   ],
   "source": [
    "history, result = test_solver(oes)\n"
   ]
  },
  {
   "cell_type": "code",
   "execution_count": 18,
   "metadata": {},
   "outputs": [
    {
     "name": "stdout",
     "output_type": "stream",
     "text": [
      "(array([-2.5,  0. ,  2.5,  5. ,  7.5, 10. , 12.5, 15. , 17.5, 20. ]), [Text(0, 0, ''), Text(0, 0, ''), Text(0, 0, ''), Text(0, 0, ''), Text(0, 0, ''), Text(0, 0, ''), Text(0, 0, ''), Text(0, 0, ''), Text(0, 0, ''), Text(0, 0, '')])\n"
     ]
    },
    {
     "data": {
      "text/plain": [
       "([<matplotlib.axis.YTick at 0x7ff323cd91c0>,\n",
       "  <matplotlib.axis.YTick at 0x7ff323eae640>,\n",
       "  <matplotlib.axis.YTick at 0x7ff3239ee280>,\n",
       "  <matplotlib.axis.YTick at 0x7ff3239ee7c0>],\n",
       " [Text(0, 0.0, '0.75'),\n",
       "  Text(0, 5.0, '0.5'),\n",
       "  Text(0, 10.0, '0.25'),\n",
       "  Text(0, 15.0, '0')])"
      ]
     },
     "execution_count": 18,
     "metadata": {},
     "output_type": "execute_result"
    },
    {
     "data": {
      "image/png": "[encoded data removed]",
      "text/plain": [
       "<Figure size 432x288 with 2 Axes>"
      ]
     },
     "metadata": {
      "needs_background": "light"
     },
     "output_type": "display_data"
    }
   ],
   "source": [
    "plt.imshow(all_data)\n",
    "cb = plt.colorbar()\n",
    "cb.set_label('Energy', fontsize=30)\n",
    "xys = [h[0] for h in history]\n",
    "x = [el[0]%(bound)*(samples-1)/(bound) for el in xys]\n",
    "y = [(bound - (el[1])%(bound))*(samples-1)/(bound) for el in xys]\n",
    "plt.scatter(x, y, c='w')\n",
    "plt.scatter([result[0][0]%(bound)*(samples-1)/(bound)], [(bound - (result[0][1]%(bound)))*(samples-1)/(bound)], c='red', marker='*', s=100)\n",
    "plt.ylabel(r\"$\\gamma/\\pi$\")\n",
    "plt.xlabel(r\"$\\beta/\\pi$\")\n",
    "print(plt.xticks())\n",
    "plt.xticks(plt.xticks()[0][1:-1:2], [0, .25, .5, .75])\n",
    "plt.yticks(plt.yticks()[0][1:-1:2], [0, .25, .5, .75][::-1])"
   ]
  },
  {
   "cell_type": "markdown",
   "metadata": {},
   "source": [
    "# Annealing"
   ]
  },
  {
   "cell_type": "code",
   "execution_count": 13,
   "metadata": {},
   "outputs": [
    {
     "data": {
      "text/plain": [
       "(array([0.33005245, 1.09205207]), 6.2)"
      ]
     },
     "execution_count": 13,
     "metadata": {},
     "output_type": "execute_result"
    }
   ],
   "source": [
    "shots_per_point = NPOPULATION*BASELINE_SHOTS\n",
    "from tqdm import tqdm\n",
    "annealing_attempts = []\n",
    "func, history2 = objective(graph)\n",
    "seed = 1\n",
    "np.random.seed(seed)\n",
    "initial_gamma_beta = [np.random.rand() * max_param for max_param in (max_gamma, max_beta)]\n",
    "result2 = dual_annealing(\n",
    "    lambda x: -1*func(x),\n",
    "    bounds=[(0, max_gamma),\n",
    "            (0, max_beta)],\n",
    "    x0=np.array(initial_gamma_beta),\n",
    "    # One annealing attempt.\n",
    "    maxiter=10,\n",
    "    maxfun=one_hour*reprate,\n",
    "    seed=1)\n",
    "result2.fun = -result2.fun\n",
    "(result2.x, result2.fun)        "
   ]
  },
  {
   "cell_type": "code",
   "execution_count": 14,
   "metadata": {},
   "outputs": [
    {
     "data": {
      "image/png": "[encoded data removed]",
      "text/plain": [
       "<Figure size 432x288 with 2 Axes>"
      ]
     },
     "metadata": {
      "needs_background": "light"
     },
     "output_type": "display_data"
    }
   ],
   "source": [
    "xys2 = [h[0] for h in history2]\n",
    "x2 = [el[0]%(bound)*(samples-1)/(bound) for el in xys2]\n",
    "y2 = [(bound - (el[1])%(bound))*(samples-1)/(bound) for el in xys2]\n",
    "plt.scatter(x2,y2, c='w')\n",
    "plt.scatter([result2.x[0]%(bound)*(samples-1)/(bound)], [(bound - (result2.x[1]%(bound)))*(samples-1)/(bound)], c='red', marker='*', s=100)\n",
    "plt.imshow(all_data)\n",
    "cb = plt.colorbar()\n",
    "cb.set_label('Energy', fontsize=30)"
   ]
  },
  {
   "cell_type": "code",
   "execution_count": 15,
   "metadata": {},
   "outputs": [
    {
     "data": {
      "text/plain": [
       "28.7"
      ]
     },
     "execution_count": 15,
     "metadata": {},
     "output_type": "execute_result"
    }
   ],
   "source": [
    "len(x2)/10"
   ]
  },
  {
   "cell_type": "code",
   "execution_count": null,
   "metadata": {},
   "outputs": [],
   "source": []
  }
 ],
 "metadata": {
  "kernelspec": {
   "display_name": "Python 3",
   "language": "python",
   "name": "python3"
  },
  "language_info": {
   "codemirror_mode": {
    "name": "ipython",
    "version": 3
   },
   "file_extension": ".py",
   "mimetype": "text/x-python",
   "name": "python",
   "nbconvert_exporter": "python",
   "pygments_lexer": "ipython3",
   "version": "3.8.5"
  }
 },
 "nbformat": 4,
 "nbformat_minor": 4
}
