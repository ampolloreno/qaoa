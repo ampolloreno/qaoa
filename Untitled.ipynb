{
 "cells": [
  {
   "cell_type": "code",
   "execution_count": 2,
   "metadata": {},
   "outputs": [
    {
     "name": "stdout",
     "output_type": "stream",
     "text": [
      "iteration: 0 [1.8895097595340369] -0.11365610226339418\n",
      "iteration: 1 [1.3419394206346] 0.013159916040654715\n",
      "iteration: 2 [-1.7872876246657343] -0.02489920736773791\n",
      "iteration: 3 [0.7636204126245651] -0.4208287338811438\n",
      "iteration: 4 [1.9327918547296505] -0.0032846901205908804\n",
      "iteration: 5 [-1.403681538963235] -0.1905200655593214\n",
      "iteration: 6 [1.019596624192591] -0.12524838444213005\n",
      "iteration: 7 [0.020452812040380408] 0.1736747498442854\n",
      "iteration: 8 [0.5591573277708277] 0.3342062894733651\n",
      "iteration: 9 [0.8494774468184483] -0.24738724647399468\n",
      "iteration: 10 [0.7885228125097736] -0.19264915660288162\n",
      "iteration: 11 [0.7336941800448549] -0.2660930234339702\n",
      "iteration: 12 [-1.288680389696271] 0.026428044263399553\n",
      "iteration: 13 [-1.5063979677684234] -0.11823846470504715\n",
      "iteration: 14 [0.9172959852415143] -0.40130044897254796\n",
      "iteration: 15 [0.9245873860130875] -0.2256581002478599\n",
      "iteration: 16 [-0.6474031108161531] 0.03630391744281924\n",
      "iteration: 17 [1.6860328359284442] -0.003383772164512168\n",
      "iteration: 18 [-0.9672344239019768] 0.44080676778069844\n",
      "iteration: 19 [-0.34992291748257354] -0.9780747941954346\n"
     ]
    }
   ],
   "source": [
    "import numpy as np\n",
    "from skopt import gp_minimize\n",
    "\n",
    "def f(x):\n",
    "    return (np.sin(5 * x[0]) * (1 - np.tanh(x[0] ** 2)) +\n",
    "            np.random.randn() * 0.1)\n",
    "\n",
    "res = gp_minimize(f, [(-2.0, 2.0)])\n",
    "\n",
    "from skopt import Optimizer\n",
    "\n",
    "opt = Optimizer([(-2.0, 2.0)])\n",
    "\n",
    "for i in range(20):\n",
    "    suggested = opt.ask()\n",
    "    y = f(suggested)\n",
    "    opt.tell(suggested, y)\n",
    "    print('iteration:', i, suggested, y)"
   ]
  },
  {
   "cell_type": "code",
   "execution_count": 7,
   "metadata": {},
   "outputs": [
    {
     "data": {
      "text/plain": [
       "[-0.29006470033484955]"
      ]
     },
     "execution_count": 7,
     "metadata": {},
     "output_type": "execute_result"
    }
   ],
   "source": [
    "opt.ask()"
   ]
  },
  {
   "cell_type": "code",
   "execution_count": null,
   "metadata": {},
   "outputs": [],
   "source": []
  }
 ],
 "metadata": {
  "kernelspec": {
   "display_name": "Python 3",
   "language": "python",
   "name": "python3"
  },
  "language_info": {
   "codemirror_mode": {
    "name": "ipython",
    "version": 3
   },
   "file_extension": ".py",
   "mimetype": "text/x-python",
   "name": "python",
   "nbconvert_exporter": "python",
   "pygments_lexer": "ipython3",
   "version": "3.7.2"
  }
 },
 "nbformat": 4,
 "nbformat_minor": 4
}
