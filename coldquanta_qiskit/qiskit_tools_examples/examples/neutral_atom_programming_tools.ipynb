{
 "cells": [
  {
   "cell_type": "code",
   "execution_count": null,
   "metadata": {},
   "outputs": [],
   "source": [
    "from qiskit import Aer, execute, QuantumCircuit\n",
    "from qiskit.visualization import plot_histogram\n",
    "from coldquanta.qiskit_tools.coldquanta_sim_backend import ColdQuantaSimBackend\n",
    "import math"
   ]
  },
  {
   "cell_type": "code",
   "execution_count": null,
   "metadata": {},
   "outputs": [],
   "source": [
    "# Construct quantum circuit\n",
    "circ = QuantumCircuit(4)\n",
    "circ.rx(q=0, theta=math.pi / 2)\n",
    "circ.cz(0,1)    \n",
    "circ.measure_all()\n",
    "\n",
    "circ.draw(output=\"mpl\")"
   ]
  },
  {
   "cell_type": "code",
   "execution_count": null,
   "metadata": {},
   "outputs": [],
   "source": [
    "# Create a mock machine configuration\n",
    "neutral_atom = ColdQuantaSimBackend(rows=2, cols=2)\n",
    "neutral_atom_config = neutral_atom.configuration()\n",
    "coupling_map = neutral_atom_config.coupling_map"
   ]
  },
  {
   "cell_type": "code",
   "execution_count": null,
   "metadata": {},
   "outputs": [],
   "source": [
    "# Create a simulator\n",
    "simulator = Aer.get_backend('qasm_simulator')\n",
    "\n",
    "# Execute noise-free simulation and get counts\n",
    "result_noise = execute(circ,\n",
    "                       simulator,\n",
    "                       coupling_map=coupling_map,\n",
    "                       optimization_level=0).result()\n",
    "counts_noise = result_noise.get_counts()\n",
    "plot_histogram(counts_noise, title=\"Counts for 3-qubit GHZ state with depolarizing noise model\")"
   ]
  },
  {
   "cell_type": "code",
   "execution_count": null,
   "metadata": {},
   "outputs": [],
   "source": [
    "# Create a circuit with incorrect connectivity\n",
    "# Construct quantum circuit\n",
    "circ_2 = QuantumCircuit(4)\n",
    "#CZ between opposite corners on the square that is not possible\n",
    "circ_2.cz(0,3)    \n",
    "circ_2.measure_all()\n",
    "circ_2.draw(output=\"mpl\")\n",
    "\n",
    "# Validate the circuit, this should throw an error\n",
    "neutral_atom.validate_circuit(circ_2)"
   ]
  },
  {
   "cell_type": "code",
   "execution_count": null,
   "metadata": {},
   "outputs": [],
   "source": [
    "# Create a circuit with incorrect gate set\n",
    "# Construct quantum circuit\n",
    "circ_3 = QuantumCircuit(4)\n",
    "circ_3.rx(q=0, theta=0.1)    \n",
    "circ_3.measure_all()\n",
    "circ_3.draw(output=\"mpl\")\n",
    "\n",
    "# Validate the circute, this should throw an error\n",
    "neutral_atom.validate_circuit(circ_3)\n"
   ]
  },
  {
   "cell_type": "code",
   "execution_count": null,
   "metadata": {},
   "outputs": [],
   "source": []
  }
 ],
 "metadata": {
  "kernelspec": {
   "display_name": "Python 3",
   "language": "python",
   "name": "python3"
  },
  "language_info": {
   "codemirror_mode": {
    "name": "ipython",
    "version": 3
   },
   "file_extension": ".py",
   "mimetype": "text/x-python",
   "name": "python",
   "nbconvert_exporter": "python",
   "pygments_lexer": "ipython3",
   "version": "3.7.3"
  },
  "pycharm": {
   "stem_cell": {
    "cell_type": "raw",
    "metadata": {
     "collapsed": false
    },
    "source": []
   }
  }
 },
 "nbformat": 4,
 "nbformat_minor": 4
}
